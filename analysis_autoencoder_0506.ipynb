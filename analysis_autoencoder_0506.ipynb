{
 "cells": [
  {
   "cell_type": "code",
   "execution_count": 2,
   "id": "b61891d8-7999-4250-a905-a42c100845f9",
   "metadata": {
    "tags": []
   },
   "outputs": [],
   "source": [
    "import pandas as pd\n",
    "import os\n",
    "import numpy as np"
   ]
  },
  {
   "cell_type": "code",
   "execution_count": 8,
   "id": "07ebd699-7831-4eea-9460-4d1ed1cf7f74",
   "metadata": {
    "tags": []
   },
   "outputs": [
    {
     "name": "stdout",
     "output_type": "stream",
     "text": [
      "Size of dataset:  406\n",
      "Size of dataset:  397\n"
     ]
    }
   ],
   "source": [
    "PATH = \"./wandb_autoencoder_0506.csv\"\n",
    "dataset = pd.read_csv(PATH)\n",
    "\n",
    "# del dataset[\"Created\"], dataset[\"Runtime\"], dataset[\"GradC\"], dataset[\"act_B\"], dataset[\"act_F\"], dataset[\"epochs\"], dataset[\"loss_scale_ssl\"]\n",
    "# del dataset[\"User\"], dataset[\"Group\"], dataset[\"Job Type\"], dataset[\"Tags\"], dataset[\"Sweep\"], dataset[\"Description\"], dataset[\"GPU Count\"], dataset[\"best_epoch\"], dataset[\"num_chn\"], dataset[\"tmax\"], dataset[\"warmup\"], dataset[\"eta_min\"]\n",
    "# if one of the above colum is in the dataset, delete it\n",
    "for col_name in dataset.columns:\n",
    "    if col_name in [\"Created\", \"Runtime\", \"GradC\", \"act_B\", \"act_F\", \"epochs\", \"loss_scale_ssl\", \"User\", \"Group\", \"Job Type\", \"Tags\", \"Sweep\", \"Description\", \"GPU Count\", \"best_epoch\", \"num_chn\", \"tmax\", \"warmup\", \"eta_min\"]:\n",
    "        del dataset[col_name]\n",
    "\n",
    "print(\"Size of dataset: \", len(dataset))\n",
    "dataset = dataset[dataset[\"State\"]==\"finished\"]\n",
    "# dataset = dataset[dataset[\"architecture\"]==\"cnn_pool\"]\n",
    "# dataset = dataset[dataset[\"batchsize\"]==64]\n",
    "# dataset = dataset[dataset[\"fw_bn\"]==0]\n",
    "print(\"Size of dataset: \", len(dataset))"
   ]
  },
  {
   "cell_type": "code",
   "execution_count": 9,
   "id": "2e2e87ba",
   "metadata": {},
   "outputs": [
    {
     "data": {
      "text/plain": [
       "130    STL10\n",
       "131    STL10\n",
       "132    STL10\n",
       "133    STL10\n",
       "134    STL10\n",
       "       ...  \n",
       "392    STL10\n",
       "394    STL10\n",
       "395    STL10\n",
       "396    STL10\n",
       "398    STL10\n",
       "Name: dataset, Length: 216, dtype: object"
      ]
     },
     "execution_count": 9,
     "metadata": {},
     "output_type": "execute_result"
    }
   ],
   "source": [
    "dataset[dataset.method==\"CCL\"].dataset"
   ]
  },
  {
   "cell_type": "code",
   "execution_count": 13,
   "id": "96d5456d-c535-4be6-a504-34d165b73317",
   "metadata": {},
   "outputs": [
    {
     "name": "stdout",
     "output_type": "stream",
     "text": [
      "dataset:  STL10  method:  BP\n",
      "(0.3, 0.01, 0.01, 0.5, 0.0, 1e-05, 0.0, 0.0, 2, 1)\n",
      "mean: 0.5857 std: 0.0116 count: 15\n",
      "dataset:  STL10  method:  CCL\n",
      "(0.1, 0.01, 0.01, 0.9, 0.9, 0.0001, 0.0001, 0.0001, 2, 1)\n",
      "mean: 0.8611 std: 0.0032 count: 18\n"
     ]
    },
    {
     "name": "stderr",
     "output_type": "stream",
     "text": [
      "/var/folders/q7/s2kfc0s17x901pb1hbky39mh0000gn/T/ipykernel_48737/2443707021.py:5: FutureWarning: The default value of numeric_only in DataFrameGroupBy.mean is deprecated. In a future version, numeric_only will default to False. Either specify numeric_only or select only columns which should be valid for the function.\n",
      "  ds_mean = ds.groupby([\"grad_clip_F\", \"lr_F\", \"lr_B\", \"mmt_F\", \"mmt_B\", \"wd_F\", \"wd_B\", \"wd_B\", \"bw_bn\", \"loss_scale_C\"]).mean()\n",
      "/var/folders/q7/s2kfc0s17x901pb1hbky39mh0000gn/T/ipykernel_48737/2443707021.py:7: FutureWarning: The default value of numeric_only in DataFrameGroupBy.std is deprecated. In a future version, numeric_only will default to False. Either specify numeric_only or select only columns which should be valid for the function.\n",
      "  ds_std = ds.groupby([\"grad_clip_F\", \"lr_F\", \"lr_B\", \"mmt_F\", \"mmt_B\", \"wd_F\", \"wd_B\", \"wd_B\", \"bw_bn\", \"loss_scale_C\"]).std()\n",
      "/var/folders/q7/s2kfc0s17x901pb1hbky39mh0000gn/T/ipykernel_48737/2443707021.py:5: FutureWarning: The default value of numeric_only in DataFrameGroupBy.mean is deprecated. In a future version, numeric_only will default to False. Either specify numeric_only or select only columns which should be valid for the function.\n",
      "  ds_mean = ds.groupby([\"grad_clip_F\", \"lr_F\", \"lr_B\", \"mmt_F\", \"mmt_B\", \"wd_F\", \"wd_B\", \"wd_B\", \"bw_bn\", \"loss_scale_C\"]).mean()\n",
      "/var/folders/q7/s2kfc0s17x901pb1hbky39mh0000gn/T/ipykernel_48737/2443707021.py:7: FutureWarning: The default value of numeric_only in DataFrameGroupBy.std is deprecated. In a future version, numeric_only will default to False. Either specify numeric_only or select only columns which should be valid for the function.\n",
      "  ds_std = ds.groupby([\"grad_clip_F\", \"lr_F\", \"lr_B\", \"mmt_F\", \"mmt_B\", \"wd_F\", \"wd_B\", \"wd_B\", \"bw_bn\", \"loss_scale_C\"]).std()\n"
     ]
    }
   ],
   "source": [
    "for task in [\"STL10\"]:\n",
    "    for method in [\"BP\", \"CCL\"]:\n",
    "        ds = dataset[dataset[\"dataset\"] == task]\n",
    "        ds = ds[ds[\"method\"] == method]\n",
    "        ds_mean = ds.groupby([\"grad_clip_F\", \"lr_F\", \"lr_B\", \"mmt_F\", \"mmt_B\", \"wd_F\", \"wd_B\", \"wd_B\", \"bw_bn\", \"loss_scale_C\"]).mean()\n",
    "        ds_count = ds.groupby([\"grad_clip_F\", \"lr_F\", \"lr_B\", \"mmt_F\", \"mmt_B\", \"wd_F\", \"wd_B\", \"wd_B\", \"bw_bn\", \"loss_scale_C\"]).count()\n",
    "        ds_std = ds.groupby([\"grad_clip_F\", \"lr_F\", \"lr_B\", \"mmt_F\", \"mmt_B\", \"wd_F\", \"wd_B\", \"wd_B\", \"bw_bn\", \"loss_scale_C\"]).std()\n",
    "        ds_mean = ds_mean[ds_count[\"test_loss\"] > 2]\n",
    "        ds_std = ds_std[ds_count[\"test_loss\"] > 2]\n",
    "        try:\n",
    "            row_with_highest_val_acc = ds_mean[\"test_loss\"].idxmin()\n",
    "        except:\n",
    "            continue\n",
    "        print(\"dataset: \", task, \" method: \", method)\n",
    "        print(row_with_highest_val_acc)\n",
    "        print(f\"mean: {ds_mean.loc[row_with_highest_val_acc]['test_loss']*100:.4f} std: {ds_std.loc[row_with_highest_val_acc]['test_loss']*100:.4f} count: {ds_count.loc[row_with_highest_val_acc]['test_loss']}\")\n",
    "        # if task == \"CIFAR10\" and method == \"CCL\":\n",
    "        #     assert 0 == 1\n",
    "        # if task == \"STL10_cls\" and method == \"CCL\":\n",
    "        #     assert 0 == 1"
   ]
  },
  {
   "cell_type": "code",
   "execution_count": null,
   "id": "0e76193b",
   "metadata": {},
   "outputs": [],
   "source": []
  }
 ],
 "metadata": {
  "kernelspec": {
   "display_name": "Python 3 (ipykernel)",
   "language": "python",
   "name": "python3"
  },
  "language_info": {
   "codemirror_mode": {
    "name": "ipython",
    "version": 3
   },
   "file_extension": ".py",
   "mimetype": "text/x-python",
   "name": "python",
   "nbconvert_exporter": "python",
   "pygments_lexer": "ipython3",
   "version": "3.11.4"
  }
 },
 "nbformat": 4,
 "nbformat_minor": 5
}
