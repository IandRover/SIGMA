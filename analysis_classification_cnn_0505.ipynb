{
 "cells": [
  {
   "cell_type": "code",
   "execution_count": 2,
   "id": "b61891d8-7999-4250-a905-a42c100845f9",
   "metadata": {
    "tags": []
   },
   "outputs": [],
   "source": [
    "import pandas as pd\n",
    "import os\n",
    "import numpy as np"
   ]
  },
  {
   "cell_type": "code",
   "execution_count": 123,
   "id": "07ebd699-7831-4eea-9460-4d1ed1cf7f74",
   "metadata": {
    "tags": []
   },
   "outputs": [
    {
     "name": "stdout",
     "output_type": "stream",
     "text": [
      "Size of dataset:  1328\n",
      "Size of dataset:  1328\n"
     ]
    }
   ],
   "source": [
    "PATH = \"./wandb_classification_cnn_bp_0505.csv\"\n",
    "dataset = pd.read_csv(PATH)\n",
    "PATH = \"./wandb_classification_cnn_ccl_0505.csv\"\n",
    "dataset2 = pd.read_csv(PATH)\n",
    "dataset = pd.concat([dataset, dataset2])\n",
    "\n",
    "# del dataset[\"Created\"], dataset[\"Runtime\"], dataset[\"GradC\"], dataset[\"act_B\"], dataset[\"act_F\"], dataset[\"epochs\"], dataset[\"loss_scale_ssl\"]\n",
    "# del dataset[\"User\"], dataset[\"Group\"], dataset[\"Job Type\"], dataset[\"Tags\"], dataset[\"Sweep\"], dataset[\"Description\"], dataset[\"GPU Count\"], dataset[\"best_epoch\"], dataset[\"num_chn\"], dataset[\"tmax\"], dataset[\"warmup\"], dataset[\"eta_min\"]\n",
    "# if one of the above colum is in the dataset, delete it\n",
    "for col_name in dataset.columns:\n",
    "    if col_name in [\"Created\", \"Runtime\", \"GradC\", \"act_B\", \"act_F\", \"epochs\", \"loss_scale_ssl\", \"User\", \"Group\", \"Job Type\", \"Tags\", \"Sweep\", \"Description\", \"GPU Count\", \"best_epoch\", \"num_chn\", \"tmax\", \"warmup\", \"eta_min\"]:\n",
    "        del dataset[col_name]\n",
    "\n",
    "print(\"Size of dataset: \", len(dataset))\n",
    "dataset = dataset[dataset[\"State\"]==\"finished\"]\n",
    "dataset = dataset[dataset[\"architecture\"]==\"cnn_pool\"]\n",
    "# dataset = dataset[dataset[\"batchsize\"]==64]\n",
    "# dataset = dataset[dataset[\"fw_bn\"]==0]\n",
    "print(\"Size of dataset: \", len(dataset))"
   ]
  },
  {
   "cell_type": "code",
   "execution_count": 124,
   "id": "2e2e87ba",
   "metadata": {},
   "outputs": [
    {
     "data": {
      "text/plain": [
       "array(['CIFAR10', 'STL10_cls', 'CIFAR100'], dtype=object)"
      ]
     },
     "execution_count": 124,
     "metadata": {},
     "output_type": "execute_result"
    }
   ],
   "source": [
    "dataset[dataset.method==\"CCL\"].dataset.unique()"
   ]
  },
  {
   "cell_type": "code",
   "execution_count": 173,
   "id": "96d5456d-c535-4be6-a504-34d165b73317",
   "metadata": {},
   "outputs": [
    {
     "name": "stdout",
     "output_type": "stream",
     "text": [
      "dataset:  CIFAR10  method:  BP\n",
      "mean: 87.12 std: 1.76 count: 10\n",
      "dataset:  CIFAR10  method:  CCL\n",
      "mean: 82.94 std: 0.53 count: 5\n",
      "dataset:  CIFAR100  method:  BP\n",
      "mean: 51.92 std: 0.48 count: 5\n",
      "dataset:  CIFAR100  method:  CCL\n",
      "mean: 56.29 std: 0.25 count: 5\n",
      "dataset:  STL10_cls  method:  BP\n",
      "mean: 51.27 std: 1.90 count: 5\n",
      "dataset:  STL10_cls  method:  CCL\n",
      "mean: 45.28 std: 2.58 count: 5\n"
     ]
    },
    {
     "name": "stderr",
     "output_type": "stream",
     "text": [
      "/var/folders/q7/s2kfc0s17x901pb1hbky39mh0000gn/T/ipykernel_5706/1683781218.py:7: FutureWarning: The default value of numeric_only in DataFrameGroupBy.mean is deprecated. In a future version, numeric_only will default to False. Either specify numeric_only or select only columns which should be valid for the function.\n",
      "  ds_mean = ds.groupby([\"grad_clip_F\", \"lr_F\", \"lr_B\", \"mmt_F\", \"mmt_B\", \"wd_F\", \"wd_B\", \"wd_B\", \"bw_bn\", \"loss_scale_C\"]).mean()\n",
      "/var/folders/q7/s2kfc0s17x901pb1hbky39mh0000gn/T/ipykernel_5706/1683781218.py:9: FutureWarning: The default value of numeric_only in DataFrameGroupBy.std is deprecated. In a future version, numeric_only will default to False. Either specify numeric_only or select only columns which should be valid for the function.\n",
      "  ds_std = ds.groupby([\"grad_clip_F\", \"lr_F\", \"lr_B\", \"mmt_F\", \"mmt_B\", \"wd_F\", \"wd_B\", \"wd_B\", \"bw_bn\", \"loss_scale_C\"]).std()\n",
      "/var/folders/q7/s2kfc0s17x901pb1hbky39mh0000gn/T/ipykernel_5706/1683781218.py:7: FutureWarning: The default value of numeric_only in DataFrameGroupBy.mean is deprecated. In a future version, numeric_only will default to False. Either specify numeric_only or select only columns which should be valid for the function.\n",
      "  ds_mean = ds.groupby([\"grad_clip_F\", \"lr_F\", \"lr_B\", \"mmt_F\", \"mmt_B\", \"wd_F\", \"wd_B\", \"wd_B\", \"bw_bn\", \"loss_scale_C\"]).mean()\n",
      "/var/folders/q7/s2kfc0s17x901pb1hbky39mh0000gn/T/ipykernel_5706/1683781218.py:9: FutureWarning: The default value of numeric_only in DataFrameGroupBy.std is deprecated. In a future version, numeric_only will default to False. Either specify numeric_only or select only columns which should be valid for the function.\n",
      "  ds_std = ds.groupby([\"grad_clip_F\", \"lr_F\", \"lr_B\", \"mmt_F\", \"mmt_B\", \"wd_F\", \"wd_B\", \"wd_B\", \"bw_bn\", \"loss_scale_C\"]).std()\n",
      "/var/folders/q7/s2kfc0s17x901pb1hbky39mh0000gn/T/ipykernel_5706/1683781218.py:7: FutureWarning: The default value of numeric_only in DataFrameGroupBy.mean is deprecated. In a future version, numeric_only will default to False. Either specify numeric_only or select only columns which should be valid for the function.\n",
      "  ds_mean = ds.groupby([\"grad_clip_F\", \"lr_F\", \"lr_B\", \"mmt_F\", \"mmt_B\", \"wd_F\", \"wd_B\", \"wd_B\", \"bw_bn\", \"loss_scale_C\"]).mean()\n",
      "/var/folders/q7/s2kfc0s17x901pb1hbky39mh0000gn/T/ipykernel_5706/1683781218.py:9: FutureWarning: The default value of numeric_only in DataFrameGroupBy.std is deprecated. In a future version, numeric_only will default to False. Either specify numeric_only or select only columns which should be valid for the function.\n",
      "  ds_std = ds.groupby([\"grad_clip_F\", \"lr_F\", \"lr_B\", \"mmt_F\", \"mmt_B\", \"wd_F\", \"wd_B\", \"wd_B\", \"bw_bn\", \"loss_scale_C\"]).std()\n",
      "/var/folders/q7/s2kfc0s17x901pb1hbky39mh0000gn/T/ipykernel_5706/1683781218.py:7: FutureWarning: The default value of numeric_only in DataFrameGroupBy.mean is deprecated. In a future version, numeric_only will default to False. Either specify numeric_only or select only columns which should be valid for the function.\n",
      "  ds_mean = ds.groupby([\"grad_clip_F\", \"lr_F\", \"lr_B\", \"mmt_F\", \"mmt_B\", \"wd_F\", \"wd_B\", \"wd_B\", \"bw_bn\", \"loss_scale_C\"]).mean()\n",
      "/var/folders/q7/s2kfc0s17x901pb1hbky39mh0000gn/T/ipykernel_5706/1683781218.py:9: FutureWarning: The default value of numeric_only in DataFrameGroupBy.std is deprecated. In a future version, numeric_only will default to False. Either specify numeric_only or select only columns which should be valid for the function.\n",
      "  ds_std = ds.groupby([\"grad_clip_F\", \"lr_F\", \"lr_B\", \"mmt_F\", \"mmt_B\", \"wd_F\", \"wd_B\", \"wd_B\", \"bw_bn\", \"loss_scale_C\"]).std()\n",
      "/var/folders/q7/s2kfc0s17x901pb1hbky39mh0000gn/T/ipykernel_5706/1683781218.py:7: FutureWarning: The default value of numeric_only in DataFrameGroupBy.mean is deprecated. In a future version, numeric_only will default to False. Either specify numeric_only or select only columns which should be valid for the function.\n",
      "  ds_mean = ds.groupby([\"grad_clip_F\", \"lr_F\", \"lr_B\", \"mmt_F\", \"mmt_B\", \"wd_F\", \"wd_B\", \"wd_B\", \"bw_bn\", \"loss_scale_C\"]).mean()\n",
      "/var/folders/q7/s2kfc0s17x901pb1hbky39mh0000gn/T/ipykernel_5706/1683781218.py:9: FutureWarning: The default value of numeric_only in DataFrameGroupBy.std is deprecated. In a future version, numeric_only will default to False. Either specify numeric_only or select only columns which should be valid for the function.\n",
      "  ds_std = ds.groupby([\"grad_clip_F\", \"lr_F\", \"lr_B\", \"mmt_F\", \"mmt_B\", \"wd_F\", \"wd_B\", \"wd_B\", \"bw_bn\", \"loss_scale_C\"]).std()\n",
      "/var/folders/q7/s2kfc0s17x901pb1hbky39mh0000gn/T/ipykernel_5706/1683781218.py:7: FutureWarning: The default value of numeric_only in DataFrameGroupBy.mean is deprecated. In a future version, numeric_only will default to False. Either specify numeric_only or select only columns which should be valid for the function.\n",
      "  ds_mean = ds.groupby([\"grad_clip_F\", \"lr_F\", \"lr_B\", \"mmt_F\", \"mmt_B\", \"wd_F\", \"wd_B\", \"wd_B\", \"bw_bn\", \"loss_scale_C\"]).mean()\n",
      "/var/folders/q7/s2kfc0s17x901pb1hbky39mh0000gn/T/ipykernel_5706/1683781218.py:9: FutureWarning: The default value of numeric_only in DataFrameGroupBy.std is deprecated. In a future version, numeric_only will default to False. Either specify numeric_only or select only columns which should be valid for the function.\n",
      "  ds_std = ds.groupby([\"grad_clip_F\", \"lr_F\", \"lr_B\", \"mmt_F\", \"mmt_B\", \"wd_F\", \"wd_B\", \"wd_B\", \"bw_bn\", \"loss_scale_C\"]).std()\n"
     ]
    },
    {
     "ename": "AssertionError",
     "evalue": "",
     "output_type": "error",
     "traceback": [
      "\u001b[0;31m---------------------------------------------------------------------------\u001b[0m",
      "\u001b[0;31mAssertionError\u001b[0m                            Traceback (most recent call last)",
      "Cell \u001b[0;32mIn[173], line 21\u001b[0m\n\u001b[1;32m     18\u001b[0m \u001b[39m# if task == \"CIFAR10\" and method == \"CCL\":\u001b[39;00m\n\u001b[1;32m     19\u001b[0m \u001b[39m#     assert 0 == 1\u001b[39;00m\n\u001b[1;32m     20\u001b[0m \u001b[39mif\u001b[39;00m task \u001b[39m==\u001b[39m \u001b[39m\"\u001b[39m\u001b[39mSTL10_cls\u001b[39m\u001b[39m\"\u001b[39m \u001b[39mand\u001b[39;00m method \u001b[39m==\u001b[39m \u001b[39m\"\u001b[39m\u001b[39mCCL\u001b[39m\u001b[39m\"\u001b[39m:\n\u001b[0;32m---> 21\u001b[0m     \u001b[39massert\u001b[39;00m \u001b[39m0\u001b[39m \u001b[39m==\u001b[39m \u001b[39m1\u001b[39m\n",
      "\u001b[0;31mAssertionError\u001b[0m: "
     ]
    }
   ],
   "source": [
    "for task in [\"CIFAR10\", \"CIFAR100\", \"STL10_cls\"]:\n",
    "    for method in [\"BP\", \"CCL\"]:\n",
    "        ds = dataset[dataset[\"dataset\"] == task]\n",
    "        ds = ds[ds[\"method\"] == method]\n",
    "        if task == \"CIFAR10\" and method == \"CCL\":\n",
    "            ds = ds[ds[\"lr_F\"] != 1.2]\n",
    "        ds_mean = ds.groupby([\"grad_clip_F\", \"lr_F\", \"lr_B\", \"mmt_F\", \"mmt_B\", \"wd_F\", \"wd_B\", \"wd_B\", \"bw_bn\", \"loss_scale_C\"]).mean()\n",
    "        ds_count = ds.groupby([\"grad_clip_F\", \"lr_F\", \"lr_B\", \"mmt_F\", \"mmt_B\", \"wd_F\", \"wd_B\", \"wd_B\", \"bw_bn\", \"loss_scale_C\"]).count()\n",
    "        ds_std = ds.groupby([\"grad_clip_F\", \"lr_F\", \"lr_B\", \"mmt_F\", \"mmt_B\", \"wd_F\", \"wd_B\", \"wd_B\", \"bw_bn\", \"loss_scale_C\"]).std()\n",
    "        ds_mean = ds_mean[ds_count[\"test_acc\"] > 2]\n",
    "        ds_std = ds_std[ds_count[\"test_acc\"] > 2]\n",
    "        try:\n",
    "            row_with_highest_val_acc = ds_mean[\"val_acc\"].idxmax()\n",
    "        except:\n",
    "            continue\n",
    "        print(\"dataset: \", task, \" method: \", method)\n",
    "        print(f\"mean: {ds_mean.loc[row_with_highest_val_acc]['test_acc']*100:.2f} std: {ds_std.loc[row_with_highest_val_acc]['test_acc']*100:.2f} count: {ds_count.loc[row_with_highest_val_acc]['test_acc']}\")\n",
    "        # if task == \"CIFAR10\" and method == \"CCL\":\n",
    "        #     assert 0 == 1\n",
    "        # if task == \"STL10_cls\" and method == \"CCL\":\n",
    "        #     assert 0 == 1"
   ]
  }
 ],
 "metadata": {
  "kernelspec": {
   "display_name": "Python 3 (ipykernel)",
   "language": "python",
   "name": "python3"
  },
  "language_info": {
   "codemirror_mode": {
    "name": "ipython",
    "version": 3
   },
   "file_extension": ".py",
   "mimetype": "text/x-python",
   "name": "python",
   "nbconvert_exporter": "python",
   "pygments_lexer": "ipython3",
   "version": "3.11.4"
  }
 },
 "nbformat": 4,
 "nbformat_minor": 5
}
