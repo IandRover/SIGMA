{
 "cells": [
  {
   "cell_type": "code",
   "execution_count": 1,
   "id": "2ffa0c9f-8276-4e73-b6a8-bf33d01039d1",
   "metadata": {
    "tags": []
   },
   "outputs": [],
   "source": [
    "import os\n",
    "os.environ[\"WANDB_API_KEY\"] = \"dcf9600e0485401cbb0ddbb0f7be1c70f96b32ef\"\n",
    "os.environ[\"WANDB_MODE\"] = \"disabled\"\n",
    "import argparse\n",
    "import copy\n",
    "import numpy as np\n",
    "import torch\n",
    "import torch.nn as nn\n",
    "import torch.nn.functional as F\n",
    "import torch.nn.init as init\n",
    "import torch.optim as optim\n",
    "from tqdm import tqdm\n",
    "import matplotlib.pyplot as plt\n",
    "import ipdb\n",
    "import wandb\n",
    "from sigma_layer import SigmaLinear, SigmaConv, SigmaView\n",
    "from utils import get_dataset, gradient_centralization, compute_SCL_loss\n",
    "from utils_train import validate, save_best_model, test\n",
    "import datetime"
   ]
  },
  {
   "cell_type": "code",
   "execution_count": 9,
   "id": "f367862f-05b5-4c98-b3be-7a36a686df88",
   "metadata": {
    "tags": []
   },
   "outputs": [
    {
     "name": "stdout",
     "output_type": "stream",
     "text": [
      "Run name: CIFAR10_SIGMA_conv32-actelu_SGD_1_2023\n",
      "Files already downloaded and verified\n",
      "Files already downloaded and verified\n",
      "Ep 0 | tloss 2.0 | vloss 1.7 | vacc 41.03\n",
      "Ep 1 | tloss 1.6 | vloss 1.5 | vacc 44.46\n",
      "Ep 2 | tloss 1.5 | vloss 1.4 | vacc 48.95\n",
      "Ep 3 | tloss 1.5 | vloss 1.4 | vacc 51.01\n",
      "Ep 4 | tloss 1.4 | vloss 1.4 | vacc 51.76\n",
      "Ep 5 | tloss 1.4 | vloss 1.3 | vacc 53.07\n",
      "Ep 6 | tloss 1.4 | vloss 1.3 | vacc 54.38\n",
      "Ep 7 | tloss 1.4 | vloss 1.3 | vacc 54.52\n",
      "Ep 8 | tloss 1.3 | vloss 1.3 | vacc 55.62\n",
      "Ep 9 | tloss 1.3 | vloss 1.3 | vacc 55.43\n",
      "Ep 10 | tloss 1.3 | vloss 1.2 | vacc 56.73\n",
      "Ep 11 | tloss 1.3 | vloss 1.2 | vacc 57.06\n",
      "Ep 12 | tloss 1.3 | vloss 1.2 | vacc 57.54\n",
      "Ep 13 | tloss 1.3 | vloss 1.2 | vacc 58.14\n",
      "Ep 14 | tloss 1.3 | vloss 1.2 | vacc 58.23\n",
      "Ep 15 | tloss 1.2 | vloss 1.2 | vacc 59.00\n",
      "Ep 16 | tloss 1.2 | vloss 1.2 | vacc 58.73\n",
      "Ep 17 | tloss 1.2 | vloss 1.2 | vacc 59.45\n",
      "Ep 18 | tloss 1.2 | vloss 1.1 | vacc 60.16\n",
      "Ep 19 | tloss 1.2 | vloss 1.2 | vacc 59.57\n",
      "Ep 20 | tloss 1.2 | vloss 1.2 | vacc 59.59\n",
      "Ep 21 | tloss 1.2 | vloss 1.1 | vacc 60.14\n",
      "Ep 22 | tloss 1.2 | vloss 1.1 | vacc 60.50\n",
      "Ep 23 | tloss 1.2 | vloss 1.1 | vacc 61.05\n",
      "Ep 24 | tloss 1.1 | vloss 1.1 | vacc 60.98\n",
      "Ep 25 | tloss 1.1 | vloss 1.1 | vacc 61.68\n",
      "Ep 26 | tloss 1.1 | vloss 1.1 | vacc 62.08\n",
      "Ep 27 | tloss 1.1 | vloss 1.1 | vacc 61.86\n",
      "Ep 28 | tloss 1.1 | vloss 1.1 | vacc 61.58\n",
      "Ep 29 | tloss 1.1 | vloss 1.1 | vacc 62.75\n",
      "Ep 30 | tloss 1.1 | vloss 1.1 | vacc 61.86\n",
      "Ep 31 | tloss 1.1 | vloss 1.1 | vacc 62.78\n",
      "Ep 32 | tloss 1.1 | vloss 1.1 | vacc 62.37\n",
      "Ep 33 | tloss 1.1 | vloss 1.1 | vacc 62.67\n",
      "Ep 34 | tloss 1.1 | vloss 1.1 | vacc 63.11\n",
      "Ep 35 | tloss 1.1 | vloss 1.1 | vacc 63.13\n",
      "Ep 36 | tloss 1.0 | vloss 1.1 | vacc 62.76\n",
      "Ep 37 | tloss 1.1 | vloss 1.1 | vacc 63.70\n",
      "Ep 38 | tloss 1.1 | vloss 1.1 | vacc 63.21\n",
      "Ep 39 | tloss 1.0 | vloss 1.1 | vacc 64.07\n",
      "Ep 40 | tloss 1.1 | vloss 1.1 | vacc 63.59\n",
      "Ep 41 | tloss 1.0 | vloss 1.1 | vacc 63.40\n",
      "Ep 42 | tloss 1.0 | vloss 1.1 | vacc 62.80\n",
      "Ep 43 | tloss 1.0 | vloss 1.1 | vacc 63.35\n",
      "Ep 44 | tloss 1.1 | vloss 1.1 | vacc 63.63\n",
      "Ep 45 | tloss 1.0 | vloss 1.0 | vacc 64.30\n",
      "Ep 46 | tloss 1.0 | vloss 1.0 | vacc 64.12\n",
      "Ep 47 | tloss 1.1 | vloss 1.0 | vacc 64.33\n",
      "Ep 48 | tloss 1.0 | vloss 1.0 | vacc 64.69\n",
      "Ep 49 | tloss 1.0 | vloss 1.0 | vacc 64.69\n",
      "Ep 50 | tloss 1.0 | vloss 1.1 | vacc 64.23\n",
      "Ep 51 | tloss 1.0 | vloss 1.0 | vacc 65.23\n",
      "Ep 52 | tloss 1.0 | vloss 1.0 | vacc 64.68\n",
      "Ep 53 | tloss 1.0 | vloss 1.0 | vacc 64.57\n",
      "Ep 54 | tloss 1.0 | vloss 1.1 | vacc 63.61\n",
      "Ep 55 | tloss 1.0 | vloss 1.0 | vacc 64.04\n",
      "Ep 56 | tloss 1.0 | vloss 1.0 | vacc 65.05\n",
      "Ep 57 | tloss 1.0 | vloss 1.0 | vacc 64.78\n",
      "Ep 58 | tloss 1.0 | vloss 1.0 | vacc 64.91\n",
      "Ep 59 | tloss 1.0 | vloss 1.0 | vacc 65.08\n",
      "Ep 60 | tloss 1.0 | vloss 1.0 | vacc 64.87\n",
      "Ep 61 | tloss 1.0 | vloss 1.0 | vacc 64.58\n",
      "Ep 62 | tloss 1.0 | vloss 1.0 | vacc 65.30\n",
      "Ep 63 | tloss 1.0 | vloss 1.0 | vacc 65.32\n",
      "Ep 64 | tloss 1.0 | vloss 1.0 | vacc 65.45\n",
      "Ep 65 | tloss 1.0 | vloss 1.0 | vacc 65.93\n",
      "Ep 66 | tloss 1.0 | vloss 1.0 | vacc 65.31\n",
      "Ep 67 | tloss 1.0 | vloss 1.0 | vacc 66.01\n",
      "Ep 68 | tloss 1.0 | vloss 1.0 | vacc 66.19\n",
      "Ep 69 | tloss 1.0 | vloss 1.0 | vacc 65.44\n",
      "Ep 70 | tloss 1.0 | vloss 1.0 | vacc 66.23\n",
      "Ep 71 | tloss 1.0 | vloss 1.0 | vacc 65.85\n",
      "Ep 72 | tloss 1.0 | vloss 1.0 | vacc 65.85\n",
      "Ep 73 | tloss 1.0 | vloss 1.0 | vacc 64.39\n",
      "Ep 74 | tloss 1.0 | vloss 1.0 | vacc 66.36\n",
      "Ep 75 | tloss 1.0 | vloss 1.1 | vacc 63.84\n",
      "Ep 76 | tloss 1.0 | vloss 1.0 | vacc 66.06\n",
      "Ep 77 | tloss 1.0 | vloss 1.0 | vacc 64.44\n",
      "Ep 78 | tloss 0.9 | vloss 1.0 | vacc 66.13\n",
      "Ep 79 | tloss 0.9 | vloss 1.0 | vacc 66.27\n",
      "Ep 80 | tloss 0.9 | vloss 1.0 | vacc 66.07\n",
      "Ep 81 | tloss 0.9 | vloss 1.0 | vacc 66.18\n",
      "Ep 82 | tloss 1.0 | vloss 1.0 | vacc 65.90\n",
      "Ep 83 | tloss 0.9 | vloss 1.0 | vacc 66.88\n",
      "Ep 84 | tloss 0.9 | vloss 1.0 | vacc 66.29\n",
      "Ep 85 | tloss 0.9 | vloss 1.0 | vacc 67.71\n",
      "Ep 86 | tloss 1.0 | vloss 1.0 | vacc 66.83\n",
      "Ep 87 | tloss 0.9 | vloss 1.0 | vacc 66.89\n",
      "Ep 88 | tloss 0.9 | vloss 1.0 | vacc 67.04\n",
      "Ep 89 | tloss 1.0 | vloss 1.0 | vacc 66.26\n",
      "Ep 90 | tloss 1.0 | vloss 1.0 | vacc 65.62\n",
      "Ep 91 | tloss 1.0 | vloss 1.0 | vacc 66.45\n",
      "Ep 92 | tloss 0.9 | vloss 1.0 | vacc 66.96\n",
      "Ep 93 | tloss 0.9 | vloss 1.0 | vacc 65.77\n",
      "Ep 94 | tloss 0.9 | vloss 1.0 | vacc 67.47\n",
      "Ep 95 | tloss 0.9 | vloss 1.0 | vacc 67.08\n",
      "Ep 96 | tloss 1.0 | vloss 1.0 | vacc 67.79\n",
      "Ep 97 | tloss 1.0 | vloss 1.0 | vacc 66.08\n",
      "Ep 98 | tloss 0.9 | vloss 1.0 | vacc 66.73\n",
      "Ep 99 | tloss 1.0 | vloss 1.0 | vacc 67.37\n",
      "Test Accuracy: 67.8800%\n"
     ]
    }
   ],
   "source": [
    "parser = argparse.ArgumentParser(description='PyTorch MNIST Example')\n",
    "# Training scheme group\n",
    "method_parser = parser.add_argument_group(\"Method\")\n",
    "method_parser.add_argument('--method', type=str, default='SIGMA', choices=['SIGMA', 'BP', 'FA'])\n",
    "method_parser.add_argument('--architecture', type=str, default='lenet', choices=['lenet', 'vgg'])\n",
    "method_parser.add_argument('--actfunc', type=str, default='elu', choices=['tanh', 'elu', 'relu'])\n",
    "method_parser.add_argument('--conv_dim', type=int, default=32, choices=[32, 64])\n",
    "# Dataset group\n",
    "dataset_parser = parser.add_argument_group('Dataset')\n",
    "dataset_parser.add_argument('--dataset', type=str, default='CIFAR10', choices=['MNIST', 'CIFAR10'])\n",
    "dataset_parser.add_argument('--batchsize', type=int, default=64)\n",
    "dataset_parser.add_argument('--splitratio', type=float, default=0.2)\n",
    "# Training group # LR, optimizer, weight_decay, momentum\n",
    "training_parser = parser.add_argument_group('Training')\n",
    "training_parser.add_argument('--epochs', type=int, default=100)\n",
    "training_parser.add_argument('--lr', type=float, default=1)\n",
    "training_parser.add_argument('--optimizer', type=str, default='SGD', choices=['RMSprop', 'Adam', 'SGD'])\n",
    "# Seed group\n",
    "seed_parser = parser.add_argument_group('Seed')\n",
    "seed_parser.add_argument('--seed', type=int, default=2023)\n",
    "args, _ = parser.parse_known_args()\n",
    "\n",
    "# Set run_name\n",
    "run_name = f\"{args.dataset}_{args.method}_conv{args.conv_dim}-act{args.actfunc}_{args.optimizer}_{args.lr}_{args.seed}\"\n",
    "time_stamp = datetime.datetime.now().strftime(\"%m-%d_%H-%M-%S\")\n",
    "\n",
    "# Set wandb\n",
    "wandb.init(\n",
    "    project=\"opt-sigma\",\n",
    "    name=run_name,\n",
    "    # track hyperparameters and run metadata\n",
    "    config={\n",
    "    \"algorithm\": args.method,\n",
    "    \"architecture\": \"SimpleCNN\",\n",
    "    \"dataset\": args.dataset,\n",
    "    \"epochs\": args.epochs,\n",
    "    \"lr\": args.lr,\n",
    "    \"optimizer\": args.optimizer,\n",
    "    \"seed\": args.seed,\n",
    "    \"conv_dim\": args.conv_dim,\n",
    "    \"actfunc\": args.actfunc,\n",
    "    }\n",
    ")\n",
    "\n",
    "print(f\"Run name: {run_name}\")\n",
    "\n",
    "# Set seed\n",
    "torch.manual_seed(args.seed), np.random.seed(args.seed)\n",
    "\n",
    "# Set device\n",
    "device = torch.device(\"cpu\") if not torch.cuda.is_available() else torch.device(\"cuda\")\n",
    "\n",
    "# Get dataset\n",
    "train_loader, val_loader, test_loader = get_dataset(args)\n",
    "\n",
    "class SigmaModel_SimpleCNN(nn.Module):\n",
    "    def __init__(self, args):\n",
    "        super(SigmaModel_SimpleCNN, self).__init__()\n",
    "        if args.dataset == \"CIFAR10\":\n",
    "            self.LN1 = torch.nn.LayerNorm((3,32,32), elementwise_affine=False) \n",
    "            self.conv1 = SigmaConv(args, 3, 32, 5, 3, 2)\n",
    "            self.conv2 = SigmaConv(args, 32, 64, 3, 3, 2)\n",
    "            self.view1 = SigmaView((64, 8, 8), 64 * 8 * 8)\n",
    "            self.fc1 = SigmaLinear(args, 64 * 8 * 8, 128)\n",
    "            self.fc2 = SigmaLinear(args, 128, 10)\n",
    "            \n",
    "        elif args.dataset == \"MNIST\":\n",
    "            if args.architecture == \"lenet\":\n",
    "                self.LN1 = torch.nn.LayerNorm((1,28,28), elementwise_affine=False) \n",
    "                self.conv1 = SigmaConv(args, 1, 32, 5, 2, 3)\n",
    "                self.conv2 = SigmaConv(args, 32, 64, 5, 2, 3)\n",
    "                self.view1 = SigmaView((64, 4, 4), 64 * 4 * 4)\n",
    "                self.fc1 = SigmaLinear(args, 64 * 4 * 4, 512)\n",
    "                self.fc2 = SigmaLinear(args, 512, 10)\n",
    "\n",
    "        # orthoginal init self.fc1 and self.fc2\n",
    "        init.orthogonal_(self.fc1.backward_layer.weight)\n",
    "        init.sparse_(self.fc2.backward_layer.weight, sparsity=0.5)\n",
    "                \n",
    "        self.forward_params = list()\n",
    "        self.backward_params = list()\n",
    "        for layer in [self.conv1, self.conv2, self.fc1, self.fc2]:\n",
    "            forward_params, backward_params = layer.get_parameters()\n",
    "            self.forward_params += forward_params\n",
    "            self.backward_params += backward_params\n",
    "\n",
    "    def forward(self, x, detach_grad=False, return_activations=True):   \n",
    "        a1 = self.conv1(x, detach_grad)\n",
    "        a2 = self.conv2(a1, detach_grad)\n",
    "        a2 = self.view1(a2, detach_grad)\n",
    "        a3 = self.fc1(a2, detach_grad)\n",
    "        a4 = self.fc2(a3, detach_grad)\n",
    "        return [a1, a2, a3, a4]\n",
    "        \n",
    "    def reverse(self, target, detach_grad=True, return_activations=True):\n",
    "        if target.shape == torch.Size([10]): \n",
    "            target = F.one_hot(target, num_classes=10).float().to(target.device)\n",
    "        b3 = self.fc2.reverse(target, detach_grad)\n",
    "        b2 = self.fc1.reverse(b3, detach_grad)\n",
    "        b2 = self.view1.reverse(b2, detach_grad)\n",
    "        b1 = self.conv2.reverse(b2, detach_grad)\n",
    "        return [b1, b2, b3, target]\n",
    "\n",
    "\n",
    "class SigmaLoss(nn.Module):\n",
    "    def __init__(self, args):\n",
    "        super(SigmaLoss, self).__init__()\n",
    "        self.args = args\n",
    "        self.final_criteria = nn.CrossEntropyLoss()\n",
    "        self.local_criteria = compute_SCL_loss\n",
    "        # self.local_criteria = compute_SCL_loss_square\n",
    "        self.method = args.method\n",
    "\n",
    "        self.max_pool = nn.MaxPool2d(2, 2)\n",
    "        \n",
    "    def forward(self, activations, signals, target, method=\"final\"):\n",
    "        if method == \"local\":\n",
    "            loss = list()\n",
    "            for idx, (act, sig) in enumerate(zip(activations[:-1], signals[:-1])):\n",
    "                if len(sig.shape) == 4 and len(act.shape) == 2: \n",
    "                    act = act.reshape([len(act)] + list(sig.shape[1:]))\n",
    "                if idx == 0 and torch.rand(1) > 0.5:\n",
    "                    act = self.max_pool(act)\n",
    "                    sig = self.max_pool(sig)\n",
    "                # sig = sig[target]\n",
    "                # loss += [F.mse_loss(act, sig)]\n",
    "                # sig = sig[target]\n",
    "                # sig = sig * (act > 0).float().detach()\n",
    "                # sig = sig * act\n",
    "                loss += [self.local_criteria(act, sig, target)]\n",
    "            loss += [self.final_criteria(activations[-1], target)]\n",
    "            return sum(loss), loss[-1].item()\n",
    "        elif method == \"final\":\n",
    "            loss = self.final_criteria(activations[-1], target)\n",
    "            return loss, loss.item()\n",
    "        \n",
    "model = SigmaModel_SimpleCNN(args)\n",
    "model.to(device)\n",
    "if args.optimizer == \"SGD\": \n",
    "    forward_optimizer = optim.SGD(model.forward_params, lr=args.lr)\n",
    "    backward_optimizer = optim.SGD(model.backward_params, lr=args.lr)\n",
    "\n",
    "elif args.optimizer == \"RMSprop\": forward_optimizer = optim.RMSprop(model.forward_params, lr=args.lr, weight_decay=0)\n",
    "elif args.optimizer == \"Adam\": forward_optimizer = optim.Adam(model.forward_params, lr=args.lr)\n",
    "criteria = SigmaLoss(args)\n",
    "    \n",
    "target_10 = torch.Tensor([0,1,2,3,4,5,6,7,8,9]).long().to(device)\n",
    "# with torch.no_grad():\n",
    "#     signals = model.reverse(target_10, return_activations=True)\n",
    "    \n",
    "best_val_loss = float('inf')\n",
    "\n",
    "# for epoch in tqdm(range(args.epochs)):\n",
    "best_model = copy.deepcopy(model)\n",
    "for epoch in range(args.epochs):\n",
    "    train_loss, train_counter = 0, 0\n",
    "    for batch_idx, (data, target) in enumerate(train_loader):\n",
    "        if batch_idx > 100: continue\n",
    "        if args.method == \"SIGMA\":\n",
    "            activations = model(data.to(device), detach_grad=True)\n",
    "            signals = model.reverse(target_10, detach_grad=True)\n",
    "            loss, loss_item = criteria(activations, signals, target.to(device), method=\"local\")\n",
    "        elif args.method == \"BP\":\n",
    "            activations = model(data.to(device), detach_grad=False)\n",
    "            loss, loss_item = criteria(activations, signals, target.to(device), method=\"final\")\n",
    "        forward_optimizer.zero_grad(), backward_optimizer.zero_grad(), loss.backward()\n",
    "        gradient_centralization(model)\n",
    "        forward_optimizer.step(), backward_optimizer.step()\n",
    "        train_loss += loss_item * len(data)\n",
    "        train_counter += len(data)\n",
    "\n",
    "    wandb.log({'train_loss': train_loss / train_counter}, step=epoch)\n",
    "    \n",
    "    for batch_idx, (data, target) in enumerate(train_loader):\n",
    "        if batch_idx > 100: continue\n",
    "        activations = model(data.to(device), detach_grad=True)\n",
    "        loss, loss_item = criteria(activations, signals, target.to(device), method=\"final\")\n",
    "        forward_optimizer.zero_grad(), loss.backward(), forward_optimizer.step()\n",
    "    \n",
    "    val_loss, val_acc = validate(model, val_loader, device, args, criteria, signals, epoch)\n",
    "\n",
    "    wandb.log({'val_loss': val_loss, 'val_acc': val_acc,}, step=epoch)\n",
    "    print(f\"Ep {epoch} | tloss {train_loss / train_counter:.1f} | vloss {val_loss:.1f} | vacc {100 * val_acc:.2f}\")\n",
    "    best_val_loss, best_model = save_best_model(model, val_loss, best_val_loss, best_model, run_name, time_stamp)\n",
    "\n",
    "test_loss, test_acc = test(best_model, test_loader, device, args, criteria, signals)\n",
    "\n",
    "wandb.log({'test_loss': test_loss})\n",
    "print(f'Test Accuracy: {100 * test_acc:.4f}%')"
   ]
  },
  {
   "cell_type": "code",
   "execution_count": 8,
   "id": "049e4ff8",
   "metadata": {},
   "outputs": [
    {
     "data": {
      "text/plain": [
       "tensor([0.5922])"
      ]
     },
     "execution_count": 8,
     "metadata": {},
     "output_type": "execute_result"
    }
   ],
   "source": []
  },
  {
   "cell_type": "code",
   "execution_count": null,
   "id": "a9089c6a",
   "metadata": {},
   "outputs": [],
   "source": [
    "."
   ]
  },
  {
   "cell_type": "code",
   "execution_count": null,
   "id": "984469b1",
   "metadata": {},
   "outputs": [],
   "source": []
  },
  {
   "cell_type": "code",
   "execution_count": null,
   "id": "730f44af",
   "metadata": {},
   "outputs": [
    {
     "name": "stdout",
     "output_type": "stream",
     "text": [
      "torch.Size([64, 32, 16, 16]) torch.Size([64, 32, 16, 16])\n",
      "torch.Size([64, 4096]) torch.Size([64, 64, 8, 8])\n",
      "torch.Size([64, 128]) torch.Size([64, 128])\n",
      "torch.Size([64, 10]) torch.Size([64, 10])\n"
     ]
    }
   ],
   "source": [
    "for act, sig in zip(activations, signals):\n",
    "    print(act.shape, sig.shape)\n",
    "    # print(f\"act: {act.mean().item():.2f} sig: {sig.mean().item():.2f}\")\n",
    "    # break"
   ]
  },
  {
   "cell_type": "code",
   "execution_count": null,
   "id": "17318b65",
   "metadata": {},
   "outputs": [
    {
     "data": {
      "text/plain": [
       "tensor([4, 8, 5, 2, 4, 8, 9, 1, 0, 8, 9, 0, 4, 1, 2, 8, 6, 2, 6, 2, 0, 6, 4, 0,\n",
       "        5, 6, 9, 3, 1, 3, 6, 0, 1, 6, 4, 3, 1, 4, 8, 2, 9, 0, 7, 4, 4, 8, 5, 7,\n",
       "        4, 9, 6, 8, 6, 1, 4, 8, 5, 4, 1, 6, 6, 6, 5, 9])"
      ]
     },
     "execution_count": 5,
     "metadata": {},
     "output_type": "execute_result"
    }
   ],
   "source": []
  },
  {
   "cell_type": "code",
   "execution_count": null,
   "id": "13e766d9",
   "metadata": {},
   "outputs": [
    {
     "name": "stderr",
     "output_type": "stream",
     "text": [
      "Clipping input data to the valid range for imshow with RGB data ([0..1] for floats or [0..255] for integers).\n"
     ]
    },
    {
     "data": {
      "text/plain": [
       "<matplotlib.image.AxesImage at 0x16c17ff10>"
      ]
     },
     "execution_count": 6,
     "metadata": {},
     "output_type": "execute_result"
    },
    {
     "data": {
      "image/png": "[encoded data removed]",
      "text/plain": [
       "<Figure size 640x480 with 1 Axes>"
      ]
     },
     "metadata": {},
     "output_type": "display_data"
    }
   ],
   "source": []
  },
  {
   "cell_type": "code",
   "execution_count": null,
   "id": "7f542c7d",
   "metadata": {},
   "outputs": [
    {
     "name": "stderr",
     "output_type": "stream",
     "text": [
      "Clipping input data to the valid range for imshow with RGB data ([0..1] for floats or [0..255] for integers).\n"
     ]
    },
    {
     "name": "stdout",
     "output_type": "stream",
     "text": [
      "tensor([4, 0, 6, 7, 7, 0, 4, 1, 4, 6, 6, 1, 1, 9, 1, 0, 2, 8, 2, 5, 9, 2, 9, 5,\n",
      "        5, 0, 9, 3, 6, 6, 7, 5, 8, 6, 2, 0, 6, 8, 3, 9, 1, 3, 0, 8, 9, 8, 8, 2,\n",
      "        1, 0, 9, 8, 3, 9, 0, 3, 2, 5, 7, 5, 3, 6, 0, 4])\n"
     ]
    },
    {
     "data": {
      "image/png": "[encoded data removed]",
      "text/plain": [
       "<Figure size 640x480 with 1 Axes>"
      ]
     },
     "metadata": {},
     "output_type": "display_data"
    },
    {
     "data": {
      "image/png": "[encoded data removed]",
      "text/plain": [
       "<Figure size 640x480 with 16 Axes>"
      ]
     },
     "metadata": {},
     "output_type": "display_data"
    },
    {
     "data": {
      "image/png": "[encoded data removed]",
      "text/plain": [
       "<Figure size 640x480 with 16 Axes>"
      ]
     },
     "metadata": {},
     "output_type": "display_data"
    }
   ],
   "source": [
    "print(target)\n",
    "plt.imshow(data[0].permute(1,2,0).cpu().numpy())\n",
    "plt.show()\n",
    "\n",
    "fig, ax = plt.subplots(4, 4)\n",
    "for i in range(16):\n",
    "    ax[i//4, i%4].imshow(activations[0][0,i].detach().cpu().numpy())\n",
    "    ax[i//4, i%4].axis('off')\n",
    "\n",
    "fig, ax = plt.subplots(4, 4)\n",
    "for i in range(16):\n",
    "    ax[i//4, i%4].imshow(signals[0][0,i].detach().cpu().numpy())\n",
    "    ax[i//4, i%4].axis('off')"
   ]
  },
  {
   "cell_type": "code",
   "execution_count": null,
   "id": "883d9c04",
   "metadata": {},
   "outputs": [
    {
     "data": {
      "text/plain": [
       "tensor([2, 8, 4, 8, 0, 8, 1, 5, 4, 8, 0, 2, 5, 0, 4, 9, 0, 5, 1, 7, 7, 7, 0, 8,\n",
       "        1, 1, 5, 0, 6, 7, 6, 3, 8, 8, 3, 2, 9, 3, 0, 4, 8, 2, 2, 9, 9, 6, 5, 2,\n",
       "        5, 3, 3, 8, 8, 3, 6, 6, 1, 8, 6, 7, 5, 6, 9, 2])"
      ]
     },
     "execution_count": 9,
     "metadata": {},
     "output_type": "execute_result"
    }
   ],
   "source": [
    "target\n"
   ]
  },
  {
   "cell_type": "code",
   "execution_count": null,
   "id": "2592e4e7",
   "metadata": {},
   "outputs": [],
   "source": []
  }
 ],
 "metadata": {
  "kernelspec": {
   "display_name": "Python 3 (ipykernel)",
   "language": "python",
   "name": "python3"
  },
  "language_info": {
   "codemirror_mode": {
    "name": "ipython",
    "version": 3
   },
   "file_extension": ".py",
   "mimetype": "text/x-python",
   "name": "python",
   "nbconvert_exporter": "python",
   "pygments_lexer": "ipython3",
   "version": "3.11.4"
  }
 },
 "nbformat": 4,
 "nbformat_minor": 5
}
