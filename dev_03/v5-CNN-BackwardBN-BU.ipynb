{
 "cells": [
  {
   "cell_type": "code",
   "execution_count": 76,
   "metadata": {
    "tags": []
   },
   "outputs": [
    {
     "name": "stderr",
     "output_type": "stream",
     "text": [
      "  2%|█▍                                                                    | 1/50 [00:10<08:43, 10.68s/it]"
     ]
    },
    {
     "name": "stdout",
     "output_type": "stream",
     "text": [
      "Epoch: 0, Test Accuracy: 95.12%\n"
     ]
    },
    {
     "name": "stderr",
     "output_type": "stream",
     "text": [
      "  4%|██▊                                                                   | 2/50 [00:20<08:18, 10.38s/it]"
     ]
    },
    {
     "name": "stdout",
     "output_type": "stream",
     "text": [
      "Epoch: 1, Test Accuracy: 96.67%\n"
     ]
    },
    {
     "name": "stderr",
     "output_type": "stream",
     "text": [
      "  6%|████▏                                                                 | 3/50 [00:30<07:59, 10.21s/it]"
     ]
    },
    {
     "name": "stdout",
     "output_type": "stream",
     "text": [
      "Epoch: 2, Test Accuracy: 97.12%\n"
     ]
    },
    {
     "name": "stderr",
     "output_type": "stream",
     "text": [
      "  8%|█████▌                                                                | 4/50 [00:40<07:40, 10.01s/it]"
     ]
    },
    {
     "name": "stdout",
     "output_type": "stream",
     "text": [
      "Epoch: 3, Test Accuracy: 97.89%\n"
     ]
    },
    {
     "name": "stderr",
     "output_type": "stream",
     "text": [
      " 10%|███████                                                               | 5/50 [00:50<07:25,  9.90s/it]"
     ]
    },
    {
     "name": "stdout",
     "output_type": "stream",
     "text": [
      "Epoch: 4, Test Accuracy: 97.71%\n"
     ]
    },
    {
     "name": "stderr",
     "output_type": "stream",
     "text": [
      " 12%|████████▍                                                             | 6/50 [01:00<07:13,  9.85s/it]"
     ]
    },
    {
     "name": "stdout",
     "output_type": "stream",
     "text": [
      "Epoch: 5, Test Accuracy: 98.05%\n"
     ]
    },
    {
     "name": "stderr",
     "output_type": "stream",
     "text": [
      " 14%|█████████▊                                                            | 7/50 [01:10<07:08,  9.95s/it]"
     ]
    },
    {
     "name": "stdout",
     "output_type": "stream",
     "text": [
      "Epoch: 6, Test Accuracy: 98.08%\n"
     ]
    },
    {
     "name": "stderr",
     "output_type": "stream",
     "text": [
      " 16%|███████████▏                                                          | 8/50 [01:20<07:06, 10.15s/it]"
     ]
    },
    {
     "name": "stdout",
     "output_type": "stream",
     "text": [
      "Epoch: 7, Test Accuracy: 98.12%\n"
     ]
    },
    {
     "name": "stderr",
     "output_type": "stream",
     "text": [
      " 18%|████████████▌                                                         | 9/50 [01:31<06:57, 10.18s/it]"
     ]
    },
    {
     "name": "stdout",
     "output_type": "stream",
     "text": [
      "Epoch: 8, Test Accuracy: 98.55%\n"
     ]
    },
    {
     "name": "stderr",
     "output_type": "stream",
     "text": [
      " 20%|█████████████▊                                                       | 10/50 [01:41<06:53, 10.34s/it]"
     ]
    },
    {
     "name": "stdout",
     "output_type": "stream",
     "text": [
      "Epoch: 9, Test Accuracy: 98.46%\n"
     ]
    },
    {
     "name": "stderr",
     "output_type": "stream",
     "text": [
      " 22%|███████████████▏                                                     | 11/50 [01:52<06:46, 10.42s/it]"
     ]
    },
    {
     "name": "stdout",
     "output_type": "stream",
     "text": [
      "Epoch: 10, Test Accuracy: 98.44%\n"
     ]
    },
    {
     "name": "stderr",
     "output_type": "stream",
     "text": [
      " 24%|████████████████▌                                                    | 12/50 [02:02<06:35, 10.41s/it]"
     ]
    },
    {
     "name": "stdout",
     "output_type": "stream",
     "text": [
      "Epoch: 11, Test Accuracy: 98.31%\n"
     ]
    },
    {
     "name": "stderr",
     "output_type": "stream",
     "text": [
      " 26%|█████████████████▉                                                   | 13/50 [02:13<06:26, 10.45s/it]"
     ]
    },
    {
     "name": "stdout",
     "output_type": "stream",
     "text": [
      "Epoch: 12, Test Accuracy: 98.45%\n"
     ]
    },
    {
     "name": "stderr",
     "output_type": "stream",
     "text": [
      " 28%|███████████████████▎                                                 | 14/50 [02:23<06:15, 10.44s/it]"
     ]
    },
    {
     "name": "stdout",
     "output_type": "stream",
     "text": [
      "Epoch: 13, Test Accuracy: 98.73%\n"
     ]
    },
    {
     "name": "stderr",
     "output_type": "stream",
     "text": [
      " 30%|████████████████████▋                                                | 15/50 [02:34<06:05, 10.45s/it]"
     ]
    },
    {
     "name": "stdout",
     "output_type": "stream",
     "text": [
      "Epoch: 14, Test Accuracy: 98.57%\n"
     ]
    },
    {
     "name": "stderr",
     "output_type": "stream",
     "text": [
      " 32%|██████████████████████                                               | 16/50 [02:44<05:54, 10.44s/it]"
     ]
    },
    {
     "name": "stdout",
     "output_type": "stream",
     "text": [
      "Epoch: 15, Test Accuracy: 98.64%\n"
     ]
    },
    {
     "name": "stderr",
     "output_type": "stream",
     "text": [
      " 34%|███████████████████████▍                                             | 17/50 [02:54<05:44, 10.44s/it]"
     ]
    },
    {
     "name": "stdout",
     "output_type": "stream",
     "text": [
      "Epoch: 16, Test Accuracy: 98.65%\n"
     ]
    },
    {
     "name": "stderr",
     "output_type": "stream",
     "text": [
      " 36%|████████████████████████▊                                            | 18/50 [03:05<05:34, 10.44s/it]"
     ]
    },
    {
     "name": "stdout",
     "output_type": "stream",
     "text": [
      "Epoch: 17, Test Accuracy: 98.63%\n"
     ]
    },
    {
     "name": "stderr",
     "output_type": "stream",
     "text": [
      " 38%|██████████████████████████▏                                          | 19/50 [03:16<05:27, 10.56s/it]"
     ]
    },
    {
     "name": "stdout",
     "output_type": "stream",
     "text": [
      "Epoch: 18, Test Accuracy: 98.75%\n"
     ]
    },
    {
     "name": "stderr",
     "output_type": "stream",
     "text": [
      " 40%|███████████████████████████▌                                         | 20/50 [03:26<05:13, 10.45s/it]"
     ]
    },
    {
     "name": "stdout",
     "output_type": "stream",
     "text": [
      "Epoch: 19, Test Accuracy: 98.66%\n"
     ]
    },
    {
     "name": "stderr",
     "output_type": "stream",
     "text": [
      " 42%|████████████████████████████▉                                        | 21/50 [03:36<05:00, 10.36s/it]"
     ]
    },
    {
     "name": "stdout",
     "output_type": "stream",
     "text": [
      "Epoch: 20, Test Accuracy: 98.69%\n"
     ]
    },
    {
     "name": "stderr",
     "output_type": "stream",
     "text": [
      " 44%|██████████████████████████████▎                                      | 22/50 [03:47<04:50, 10.37s/it]"
     ]
    },
    {
     "name": "stdout",
     "output_type": "stream",
     "text": [
      "Epoch: 21, Test Accuracy: 98.72%\n"
     ]
    },
    {
     "name": "stderr",
     "output_type": "stream",
     "text": [
      " 46%|███████████████████████████████▋                                     | 23/50 [03:57<04:38, 10.32s/it]"
     ]
    },
    {
     "name": "stdout",
     "output_type": "stream",
     "text": [
      "Epoch: 22, Test Accuracy: 98.78%\n"
     ]
    },
    {
     "name": "stderr",
     "output_type": "stream",
     "text": [
      " 48%|█████████████████████████████████                                    | 24/50 [04:07<04:27, 10.27s/it]"
     ]
    },
    {
     "name": "stdout",
     "output_type": "stream",
     "text": [
      "Epoch: 23, Test Accuracy: 98.82%\n"
     ]
    },
    {
     "name": "stderr",
     "output_type": "stream",
     "text": [
      " 50%|██████████████████████████████████▌                                  | 25/50 [04:17<04:15, 10.20s/it]"
     ]
    },
    {
     "name": "stdout",
     "output_type": "stream",
     "text": [
      "Epoch: 24, Test Accuracy: 98.67%\n"
     ]
    },
    {
     "name": "stderr",
     "output_type": "stream",
     "text": [
      " 52%|███████████████████████████████████▉                                 | 26/50 [04:27<04:04, 10.17s/it]"
     ]
    },
    {
     "name": "stdout",
     "output_type": "stream",
     "text": [
      "Epoch: 25, Test Accuracy: 98.83%\n"
     ]
    },
    {
     "name": "stderr",
     "output_type": "stream",
     "text": [
      " 54%|█████████████████████████████████████▎                               | 27/50 [04:37<03:54, 10.18s/it]"
     ]
    },
    {
     "name": "stdout",
     "output_type": "stream",
     "text": [
      "Epoch: 26, Test Accuracy: 98.72%\n"
     ]
    },
    {
     "name": "stderr",
     "output_type": "stream",
     "text": [
      " 56%|██████████████████████████████████████▋                              | 28/50 [04:47<03:44, 10.21s/it]"
     ]
    },
    {
     "name": "stdout",
     "output_type": "stream",
     "text": [
      "Epoch: 27, Test Accuracy: 98.67%\n"
     ]
    },
    {
     "name": "stderr",
     "output_type": "stream",
     "text": [
      " 58%|████████████████████████████████████████                             | 29/50 [04:58<03:33, 10.16s/it]"
     ]
    },
    {
     "name": "stdout",
     "output_type": "stream",
     "text": [
      "Epoch: 28, Test Accuracy: 98.79%\n"
     ]
    },
    {
     "name": "stderr",
     "output_type": "stream",
     "text": [
      " 60%|█████████████████████████████████████████▍                           | 30/50 [05:07<03:21, 10.09s/it]"
     ]
    },
    {
     "name": "stdout",
     "output_type": "stream",
     "text": [
      "Epoch: 29, Test Accuracy: 98.86%\n"
     ]
    },
    {
     "name": "stderr",
     "output_type": "stream",
     "text": [
      " 62%|██████████████████████████████████████████▊                          | 31/50 [05:17<03:10, 10.04s/it]"
     ]
    },
    {
     "name": "stdout",
     "output_type": "stream",
     "text": [
      "Epoch: 30, Test Accuracy: 98.85%\n"
     ]
    },
    {
     "name": "stderr",
     "output_type": "stream",
     "text": [
      " 64%|████████████████████████████████████████████▏                        | 32/50 [05:27<03:00, 10.00s/it]"
     ]
    },
    {
     "name": "stdout",
     "output_type": "stream",
     "text": [
      "Epoch: 31, Test Accuracy: 98.71%\n"
     ]
    },
    {
     "name": "stderr",
     "output_type": "stream",
     "text": [
      " 66%|█████████████████████████████████████████████▌                       | 33/50 [05:37<02:50, 10.00s/it]"
     ]
    },
    {
     "name": "stdout",
     "output_type": "stream",
     "text": [
      "Epoch: 32, Test Accuracy: 98.59%\n"
     ]
    },
    {
     "name": "stderr",
     "output_type": "stream",
     "text": [
      " 68%|██████████████████████████████████████████████▉                      | 34/50 [05:48<02:41, 10.12s/it]"
     ]
    },
    {
     "name": "stdout",
     "output_type": "stream",
     "text": [
      "Epoch: 33, Test Accuracy: 98.54%\n"
     ]
    },
    {
     "name": "stderr",
     "output_type": "stream",
     "text": [
      " 70%|████████████████████████████████████████████████▎                    | 35/50 [05:58<02:32, 10.16s/it]"
     ]
    },
    {
     "name": "stdout",
     "output_type": "stream",
     "text": [
      "Epoch: 34, Test Accuracy: 98.53%\n"
     ]
    },
    {
     "name": "stderr",
     "output_type": "stream",
     "text": [
      " 72%|█████████████████████████████████████████████████▋                   | 36/50 [06:08<02:21, 10.14s/it]"
     ]
    },
    {
     "name": "stdout",
     "output_type": "stream",
     "text": [
      "Epoch: 35, Test Accuracy: 98.69%\n"
     ]
    },
    {
     "name": "stderr",
     "output_type": "stream",
     "text": [
      " 74%|███████████████████████████████████████████████████                  | 37/50 [06:19<02:13, 10.26s/it]"
     ]
    },
    {
     "name": "stdout",
     "output_type": "stream",
     "text": [
      "Epoch: 36, Test Accuracy: 98.75%\n"
     ]
    },
    {
     "name": "stderr",
     "output_type": "stream",
     "text": [
      " 74%|███████████████████████████████████████████████████                  | 37/50 [06:20<02:13, 10.28s/it]\n"
     ]
    },
    {
     "ename": "KeyboardInterrupt",
     "evalue": "",
     "output_type": "error",
     "traceback": [
      "\u001b[0;31m---------------------------------------------------------------------------\u001b[0m",
      "\u001b[0;31mKeyboardInterrupt\u001b[0m                         Traceback (most recent call last)",
      "Cell \u001b[0;32mIn[76], line 165\u001b[0m\n\u001b[1;32m    163\u001b[0m a1, a2, a3, a4 \u001b[38;5;241m=\u001b[39m forward_model(data)\n\u001b[1;32m    164\u001b[0m \u001b[38;5;66;03m# with torch.no_grad():\u001b[39;00m\n\u001b[0;32m--> 165\u001b[0m t1, t2, t3 \u001b[38;5;241m=\u001b[39m backward_model(torch\u001b[38;5;241m.\u001b[39mTensor([\u001b[38;5;241m0\u001b[39m,\u001b[38;5;241m1\u001b[39m,\u001b[38;5;241m2\u001b[39m,\u001b[38;5;241m3\u001b[39m,\u001b[38;5;241m4\u001b[39m,\u001b[38;5;241m5\u001b[39m,\u001b[38;5;241m6\u001b[39m,\u001b[38;5;241m7\u001b[39m,\u001b[38;5;241m8\u001b[39m,\u001b[38;5;241m9\u001b[39m])\u001b[38;5;241m.\u001b[39mlong(), use_act_derivative\u001b[38;5;241m=\u001b[39m\u001b[38;5;28;01mFalse\u001b[39;00m)\n\u001b[1;32m    166\u001b[0m s1, s2, s3 \u001b[38;5;241m=\u001b[39m t1[target], t2[target], t3[target]\n\u001b[1;32m    167\u001b[0m loss, l1, l2, l3, l4 \u001b[38;5;241m=\u001b[39m sigma_loss(a1, a2, a3, a4, s1, s2, s3, target)\n",
      "File \u001b[0;32m~/anaconda3/lib/python3.11/site-packages/torch/nn/modules/module.py:1501\u001b[0m, in \u001b[0;36mModule._call_impl\u001b[0;34m(self, *args, **kwargs)\u001b[0m\n\u001b[1;32m   1496\u001b[0m \u001b[38;5;66;03m# If we don't have any hooks, we want to skip the rest of the logic in\u001b[39;00m\n\u001b[1;32m   1497\u001b[0m \u001b[38;5;66;03m# this function, and just call forward.\u001b[39;00m\n\u001b[1;32m   1498\u001b[0m \u001b[38;5;28;01mif\u001b[39;00m \u001b[38;5;129;01mnot\u001b[39;00m (\u001b[38;5;28mself\u001b[39m\u001b[38;5;241m.\u001b[39m_backward_hooks \u001b[38;5;129;01mor\u001b[39;00m \u001b[38;5;28mself\u001b[39m\u001b[38;5;241m.\u001b[39m_backward_pre_hooks \u001b[38;5;129;01mor\u001b[39;00m \u001b[38;5;28mself\u001b[39m\u001b[38;5;241m.\u001b[39m_forward_hooks \u001b[38;5;129;01mor\u001b[39;00m \u001b[38;5;28mself\u001b[39m\u001b[38;5;241m.\u001b[39m_forward_pre_hooks\n\u001b[1;32m   1499\u001b[0m         \u001b[38;5;129;01mor\u001b[39;00m _global_backward_pre_hooks \u001b[38;5;129;01mor\u001b[39;00m _global_backward_hooks\n\u001b[1;32m   1500\u001b[0m         \u001b[38;5;129;01mor\u001b[39;00m _global_forward_hooks \u001b[38;5;129;01mor\u001b[39;00m _global_forward_pre_hooks):\n\u001b[0;32m-> 1501\u001b[0m     \u001b[38;5;28;01mreturn\u001b[39;00m forward_call(\u001b[38;5;241m*\u001b[39margs, \u001b[38;5;241m*\u001b[39m\u001b[38;5;241m*\u001b[39mkwargs)\n\u001b[1;32m   1502\u001b[0m \u001b[38;5;66;03m# Do not call functions when jit is used\u001b[39;00m\n\u001b[1;32m   1503\u001b[0m full_backward_hooks, non_full_backward_hooks \u001b[38;5;241m=\u001b[39m [], []\n",
      "Cell \u001b[0;32mIn[76], line 108\u001b[0m, in \u001b[0;36mBackwardModel.forward\u001b[0;34m(self, t, use_act_derivative)\u001b[0m\n\u001b[1;32m    106\u001b[0m s2_ \u001b[38;5;241m=\u001b[39m s2\u001b[38;5;241m.\u001b[39mview(\u001b[38;5;241m-\u001b[39m\u001b[38;5;241m1\u001b[39m, \u001b[38;5;28mself\u001b[39m\u001b[38;5;241m.\u001b[39mconv_dim \u001b[38;5;241m*\u001b[39m \u001b[38;5;28mself\u001b[39m\u001b[38;5;241m.\u001b[39malpha, \u001b[38;5;241m7\u001b[39m, \u001b[38;5;241m7\u001b[39m)\n\u001b[1;32m    107\u001b[0m s2_ \u001b[38;5;241m=\u001b[39m \u001b[38;5;28mself\u001b[39m\u001b[38;5;241m.\u001b[39mupsample1(s2_)        \n\u001b[0;32m--> 108\u001b[0m s1 \u001b[38;5;241m=\u001b[39m \u001b[38;5;28mself\u001b[39m\u001b[38;5;241m.\u001b[39mact(\u001b[38;5;28mself\u001b[39m\u001b[38;5;241m.\u001b[39mBN1(\u001b[38;5;28mself\u001b[39m\u001b[38;5;241m.\u001b[39mconv1(s2_\u001b[38;5;241m.\u001b[39mdetach())))\n\u001b[1;32m    110\u001b[0m \u001b[38;5;28;01mreturn\u001b[39;00m s1[:, :\u001b[38;5;28mself\u001b[39m\u001b[38;5;241m.\u001b[39mconv_dim], s2[:,:\u001b[38;5;28mself\u001b[39m\u001b[38;5;241m.\u001b[39mconv_dim\u001b[38;5;241m*\u001b[39m\u001b[38;5;241m7\u001b[39m\u001b[38;5;241m*\u001b[39m\u001b[38;5;241m7\u001b[39m], s3[:, :\u001b[38;5;28mself\u001b[39m\u001b[38;5;241m.\u001b[39mhidden_dim]\n",
      "File \u001b[0;32m~/anaconda3/lib/python3.11/site-packages/torch/nn/modules/module.py:1501\u001b[0m, in \u001b[0;36mModule._call_impl\u001b[0;34m(self, *args, **kwargs)\u001b[0m\n\u001b[1;32m   1496\u001b[0m \u001b[38;5;66;03m# If we don't have any hooks, we want to skip the rest of the logic in\u001b[39;00m\n\u001b[1;32m   1497\u001b[0m \u001b[38;5;66;03m# this function, and just call forward.\u001b[39;00m\n\u001b[1;32m   1498\u001b[0m \u001b[38;5;28;01mif\u001b[39;00m \u001b[38;5;129;01mnot\u001b[39;00m (\u001b[38;5;28mself\u001b[39m\u001b[38;5;241m.\u001b[39m_backward_hooks \u001b[38;5;129;01mor\u001b[39;00m \u001b[38;5;28mself\u001b[39m\u001b[38;5;241m.\u001b[39m_backward_pre_hooks \u001b[38;5;129;01mor\u001b[39;00m \u001b[38;5;28mself\u001b[39m\u001b[38;5;241m.\u001b[39m_forward_hooks \u001b[38;5;129;01mor\u001b[39;00m \u001b[38;5;28mself\u001b[39m\u001b[38;5;241m.\u001b[39m_forward_pre_hooks\n\u001b[1;32m   1499\u001b[0m         \u001b[38;5;129;01mor\u001b[39;00m _global_backward_pre_hooks \u001b[38;5;129;01mor\u001b[39;00m _global_backward_hooks\n\u001b[1;32m   1500\u001b[0m         \u001b[38;5;129;01mor\u001b[39;00m _global_forward_hooks \u001b[38;5;129;01mor\u001b[39;00m _global_forward_pre_hooks):\n\u001b[0;32m-> 1501\u001b[0m     \u001b[38;5;28;01mreturn\u001b[39;00m forward_call(\u001b[38;5;241m*\u001b[39margs, \u001b[38;5;241m*\u001b[39m\u001b[38;5;241m*\u001b[39mkwargs)\n\u001b[1;32m   1502\u001b[0m \u001b[38;5;66;03m# Do not call functions when jit is used\u001b[39;00m\n\u001b[1;32m   1503\u001b[0m full_backward_hooks, non_full_backward_hooks \u001b[38;5;241m=\u001b[39m [], []\n",
      "File \u001b[0;32m~/anaconda3/lib/python3.11/site-packages/torch/nn/modules/batchnorm.py:171\u001b[0m, in \u001b[0;36m_BatchNorm.forward\u001b[0;34m(self, input)\u001b[0m\n\u001b[1;32m    164\u001b[0m     bn_training \u001b[38;5;241m=\u001b[39m (\u001b[38;5;28mself\u001b[39m\u001b[38;5;241m.\u001b[39mrunning_mean \u001b[38;5;129;01mis\u001b[39;00m \u001b[38;5;28;01mNone\u001b[39;00m) \u001b[38;5;129;01mand\u001b[39;00m (\u001b[38;5;28mself\u001b[39m\u001b[38;5;241m.\u001b[39mrunning_var \u001b[38;5;129;01mis\u001b[39;00m \u001b[38;5;28;01mNone\u001b[39;00m)\n\u001b[1;32m    166\u001b[0m \u001b[38;5;250m\u001b[39m\u001b[38;5;124mr\u001b[39m\u001b[38;5;124;03m\"\"\"\u001b[39;00m\n\u001b[1;32m    167\u001b[0m \u001b[38;5;124;03mBuffers are only updated if they are to be tracked and we are in training mode. Thus they only need to be\u001b[39;00m\n\u001b[1;32m    168\u001b[0m \u001b[38;5;124;03mpassed when the update should occur (i.e. in training mode when they are tracked), or when buffer stats are\u001b[39;00m\n\u001b[1;32m    169\u001b[0m \u001b[38;5;124;03mused for normalization (i.e. in eval mode when buffers are not None).\u001b[39;00m\n\u001b[1;32m    170\u001b[0m \u001b[38;5;124;03m\"\"\"\u001b[39;00m\n\u001b[0;32m--> 171\u001b[0m \u001b[38;5;28;01mreturn\u001b[39;00m F\u001b[38;5;241m.\u001b[39mbatch_norm(\n\u001b[1;32m    172\u001b[0m     \u001b[38;5;28minput\u001b[39m,\n\u001b[1;32m    173\u001b[0m     \u001b[38;5;66;03m# If buffers are not to be tracked, ensure that they won't be updated\u001b[39;00m\n\u001b[1;32m    174\u001b[0m     \u001b[38;5;28mself\u001b[39m\u001b[38;5;241m.\u001b[39mrunning_mean\n\u001b[1;32m    175\u001b[0m     \u001b[38;5;28;01mif\u001b[39;00m \u001b[38;5;129;01mnot\u001b[39;00m \u001b[38;5;28mself\u001b[39m\u001b[38;5;241m.\u001b[39mtraining \u001b[38;5;129;01mor\u001b[39;00m \u001b[38;5;28mself\u001b[39m\u001b[38;5;241m.\u001b[39mtrack_running_stats\n\u001b[1;32m    176\u001b[0m     \u001b[38;5;28;01melse\u001b[39;00m \u001b[38;5;28;01mNone\u001b[39;00m,\n\u001b[1;32m    177\u001b[0m     \u001b[38;5;28mself\u001b[39m\u001b[38;5;241m.\u001b[39mrunning_var \u001b[38;5;28;01mif\u001b[39;00m \u001b[38;5;129;01mnot\u001b[39;00m \u001b[38;5;28mself\u001b[39m\u001b[38;5;241m.\u001b[39mtraining \u001b[38;5;129;01mor\u001b[39;00m \u001b[38;5;28mself\u001b[39m\u001b[38;5;241m.\u001b[39mtrack_running_stats \u001b[38;5;28;01melse\u001b[39;00m \u001b[38;5;28;01mNone\u001b[39;00m,\n\u001b[1;32m    178\u001b[0m     \u001b[38;5;28mself\u001b[39m\u001b[38;5;241m.\u001b[39mweight,\n\u001b[1;32m    179\u001b[0m     \u001b[38;5;28mself\u001b[39m\u001b[38;5;241m.\u001b[39mbias,\n\u001b[1;32m    180\u001b[0m     bn_training,\n\u001b[1;32m    181\u001b[0m     exponential_average_factor,\n\u001b[1;32m    182\u001b[0m     \u001b[38;5;28mself\u001b[39m\u001b[38;5;241m.\u001b[39meps,\n\u001b[1;32m    183\u001b[0m )\n",
      "File \u001b[0;32m~/anaconda3/lib/python3.11/site-packages/torch/nn/functional.py:2448\u001b[0m, in \u001b[0;36mbatch_norm\u001b[0;34m(input, running_mean, running_var, weight, bias, training, momentum, eps)\u001b[0m\n\u001b[1;32m   2435\u001b[0m     \u001b[38;5;28;01mreturn\u001b[39;00m handle_torch_function(\n\u001b[1;32m   2436\u001b[0m         batch_norm,\n\u001b[1;32m   2437\u001b[0m         (\u001b[38;5;28minput\u001b[39m, running_mean, running_var, weight, bias),\n\u001b[0;32m   (...)\u001b[0m\n\u001b[1;32m   2445\u001b[0m         eps\u001b[38;5;241m=\u001b[39meps,\n\u001b[1;32m   2446\u001b[0m     )\n\u001b[1;32m   2447\u001b[0m \u001b[38;5;28;01mif\u001b[39;00m training:\n\u001b[0;32m-> 2448\u001b[0m     _verify_batch_size(\u001b[38;5;28minput\u001b[39m\u001b[38;5;241m.\u001b[39msize())\n\u001b[1;32m   2450\u001b[0m \u001b[38;5;28;01mreturn\u001b[39;00m torch\u001b[38;5;241m.\u001b[39mbatch_norm(\n\u001b[1;32m   2451\u001b[0m     \u001b[38;5;28minput\u001b[39m, weight, bias, running_mean, running_var, training, momentum, eps, torch\u001b[38;5;241m.\u001b[39mbackends\u001b[38;5;241m.\u001b[39mcudnn\u001b[38;5;241m.\u001b[39menabled\n\u001b[1;32m   2452\u001b[0m )\n",
      "\u001b[0;31mKeyboardInterrupt\u001b[0m: "
     ]
    }
   ],
   "source": [
    "import torch\n",
    "from tqdm import tqdm\n",
    "import torch.nn as nn\n",
    "import torch.nn.functional as F\n",
    "import torch.nn.init as init\n",
    "import torch.optim as optim\n",
    "from torchvision import datasets, transforms\n",
    "from torch.nn.utils import clip_grad_norm_\n",
    "import matplotlib.pyplot as plt\n",
    "import copy\n",
    "import numpy as np\n",
    "\n",
    "torch.manual_seed(2024)\n",
    "HIDDEN_DIM = 256\n",
    "USE_SIGMA = 1\n",
    "device = torch.device(\"cpu\")\n",
    "\n",
    "transform = transforms.Compose([transforms.ToTensor(), transforms.Normalize((0.5,), (0.5,))])\n",
    "train_dataset = datasets.MNIST(root='./data', train=True, download=True, transform=transform)\n",
    "test_dataset = datasets.MNIST(root='./data', train=False, download=True, transform=transform)\n",
    "train_loader = torch.utils.data.DataLoader(train_dataset, batch_size=32, shuffle=True)\n",
    "test_loader = torch.utils.data.DataLoader(test_dataset, batch_size=32, shuffle=False)\n",
    "\n",
    "def gradient_centralization():\n",
    "    with torch.no_grad():\n",
    "        for p1, p2 in forward_model.named_parameters():\n",
    "            if \"bias\" in p1 or p2.grad is None: continue\n",
    "            if len(p2.shape) == 2: p2.grad -= p2.grad.mean(dim=1,keepdim=True)\n",
    "            elif len(p2.shape) == 4: p2.grad -= p2.grad.mean(dim=[1,2,3],keepdim=True) \n",
    "\n",
    "class ForwardModel(nn.Module):\n",
    "    def __init__(self, conv_dim=32, hidden_dim=128, use_sigma=True):\n",
    "        super(ForwardModel, self).__init__()\n",
    "        self.use_sigma = use_sigma\n",
    "        self.hidden_dim = hidden_dim\n",
    "        self.conv_dim = conv_dim\n",
    "\n",
    "        # Convolutional layers\n",
    "        self.conv1 = nn.Conv2d(1, conv_dim, kernel_size=3, padding=1)\n",
    "        self.conv2 = nn.Conv2d(conv_dim, conv_dim, kernel_size=3, padding=1)\n",
    "        self.max_pool = nn.MaxPool2d(2)\n",
    "\n",
    "        # Linear layers\n",
    "        self.fc1 = nn.Linear(conv_dim * 7 * 7, hidden_dim)\n",
    "        self.fc2 = nn.Linear(hidden_dim, 10)\n",
    "\n",
    "        self.LN1 = nn.LayerNorm((conv_dim, 14, 14), elementwise_affine=False)\n",
    "        self.LN2 = nn.LayerNorm((1, 28, 28), elementwise_affine=False)\n",
    "\n",
    "        self.fc2.weight.data.zero_()\n",
    "        self.fc2.bias.data.zero_()\n",
    "        self.fc1.bias.data.zero_()\n",
    "        self.conv2.bias.data.zero_()\n",
    "        self.conv1.bias.data.zero_()\n",
    "        \n",
    "        self.act = F.elu\n",
    "\n",
    "    def forward(self, x):\n",
    "        \n",
    "        x = x.view(-1, 1, 28, 28)\n",
    "        x = self.LN2(x)\n",
    "\n",
    "        a1 = self.act(self.conv1(x.detach()))\n",
    "        a1 = self.max_pool(a1)\n",
    "        a1 = self.LN1(a1)\n",
    "\n",
    "        a2 = self.act(self.conv2(a1.detach()))\n",
    "        a2 = self.max_pool(a2)\n",
    "        a2 = a2.view(-1, self.conv_dim * 7 * 7)\n",
    "\n",
    "        a3 = self.act(self.fc1(a2.detach()))\n",
    "\n",
    "        a4 = self.fc2(a3.detach())\n",
    "        self.penultimate_feature = a3.detach()\n",
    "\n",
    "        return a1, a2, a3, a4\n",
    "\n",
    "    def forward_logits(self):\n",
    "        return self.fc2(self.penultimate_feature)\n",
    "\n",
    "class BackwardModel(nn.Module):\n",
    "    def __init__(self, conv_dim=32,  hidden_dim=128):\n",
    "        super(BackwardModel, self).__init__()\n",
    "        self.hidden_dim = hidden_dim\n",
    "        self.conv_dim = conv_dim\n",
    "        \n",
    "        alpha = 1\n",
    "        self.alpha = alpha\n",
    "        self.fc1 = nn.Linear(10, hidden_dim * alpha, bias=False)\n",
    "        self.fc2 = nn.Linear(hidden_dim * alpha, self.conv_dim * 7 * 7 * alpha, bias=False)\n",
    "        self.upsample1 = nn.Upsample(scale_factor=2, mode='nearest')\n",
    "        self.conv1 = nn.Conv2d(self.conv_dim * alpha, self.conv_dim * alpha, kernel_size=5, padding=2, bias=False)\n",
    "        self.act = F.elu\n",
    "        \n",
    "        self.BN1 = torch.nn.BatchNorm2d(self.conv_dim * alpha)\n",
    "        self.BN2 = torch.nn.BatchNorm1d(self.conv_dim * 7 * 7 * alpha)\n",
    "        self.BN3 = torch.nn.BatchNorm1d(hidden_dim * alpha)\n",
    "\n",
    "    def forward(self, t, use_act_derivative=False):\n",
    "        device = t.device\n",
    "        t = F.one_hot(t, num_classes=10).float().to(device)\n",
    "        s3 = self.act(self.BN3(self.fc1(t.detach())))\n",
    "\n",
    "        s2 = self.act(self.BN2(self.fc2(s3.detach()))  )\n",
    "        \n",
    "        s2_ = s2.view(-1, self.conv_dim * self.alpha, 7, 7)\n",
    "        s2_ = self.upsample1(s2_)        \n",
    "        s1 = self.act(self.BN1(self.conv1(s2_.detach())))\n",
    "        \n",
    "        return s1[:, :self.conv_dim], s2[:,:self.conv_dim*7*7], s3[:, :self.hidden_dim]\n",
    "\n",
    "def normal(x): \n",
    "    if len(x.shape) == 2: return x / x.std(dim=1, keepdim=True)\n",
    "    if len(x.shape) == 4: return x / x.std(dim=[1,2,3], keepdim=True)\n",
    "\n",
    "def standard(x): \n",
    "    if len(x.shape) == 2: \n",
    "        x = x - x.mean(dim=1, keepdim=True)\n",
    "        return x / x.std(dim=1, keepdim=True)\n",
    "    if len(x.shape) == 4: \n",
    "        x = x - x.mean(dim=[1,2,3], keepdim=True)\n",
    "        return x / x.std(dim=[1,2,3], keepdim=True)\n",
    "\n",
    "def single_loss(a, s):\n",
    "    a = normal(a)\n",
    "    s = normal(s)\n",
    "    return F.mse_loss(a, s)\n",
    "\n",
    "def sigma_loss(a1, a2, a3, a4, s1, s2, s3, t):\n",
    "    loss1 = single_loss(a1,s1)\n",
    "    loss2 = single_loss(a2,s2)\n",
    "    loss3 = single_loss(a3,s3)\n",
    "    loss4 = criteria(a4, t)\n",
    "    loss = loss1 + loss2 + loss3 + loss4\n",
    "    return loss, loss1.item(), loss2.item(), loss3.item(), loss4.item()\n",
    "\n",
    "def gradient_centralization_B():\n",
    "    with torch.no_grad():\n",
    "        for p1, p2 in backward_model.named_parameters():\n",
    "            if \"bias\" in p1 or p2.grad is None: continue\n",
    "            if len(p2.shape) == 2: p2.grad -= p2.grad.mean(dim=1,keepdim=True)\n",
    "            elif len(p2.shape) == 4: p2.grad -= p2.grad.mean(dim=[1,2,3],keepdim=True) \n",
    "\n",
    "# Initialize the models\n",
    "forward_model = ForwardModel(use_sigma=USE_SIGMA, conv_dim=64, hidden_dim=128)\n",
    "backward_model = BackwardModel(conv_dim=64, hidden_dim=128)\n",
    "\n",
    "forward_model.to(device)\n",
    "backward_model.to(device)\n",
    "\n",
    "# Define the optimizers\n",
    "forward_optimizer = optim.RMSprop(forward_model.parameters(),     lr=0.001)\n",
    "backward_optimizer = optim.RMSprop(backward_model.parameters(),   lr=0.000001)\n",
    "criteria = nn.CrossEntropyLoss()\n",
    "        \n",
    "for epoch in tqdm(range(50)):\n",
    "    \n",
    "    for batch_idx, (data, target) in enumerate(train_loader):\n",
    "        \n",
    "        if batch_idx > 100: continue\n",
    "\n",
    "        data, target = data.to(device), target.to(device)\n",
    "        a1, a2, a3, a4 = forward_model(data)\n",
    "        # with torch.no_grad():\n",
    "        t1, t2, t3 = backward_model(torch.Tensor([0,1,2,3,4,5,6,7,8,9]).long(), use_act_derivative=False)\n",
    "        s1, s2, s3 = t1[target], t2[target], t3[target]\n",
    "        loss, l1, l2, l3, l4 = sigma_loss(a1, a2, a3, a4, s1, s2, s3, target)\n",
    "        forward_optimizer.zero_grad(), backward_optimizer.zero_grad()\n",
    "        loss.backward(), gradient_centralization(), gradient_centralization_B()\n",
    "        forward_optimizer.step(), backward_optimizer.step()\n",
    "        \n",
    "    for batch_idx, (data, target) in enumerate(train_loader):\n",
    "        if batch_idx > 100: continue\n",
    "        a1, a2, a3, a4 = forward_model(data.to(device))\n",
    "        loss = criteria(a4, target.to(device))\n",
    "        forward_optimizer.zero_grad(), loss.backward(), forward_optimizer.step()\n",
    "        \n",
    "    # print(f'Epoch: {epoch}, Batch: {batch_idx}, Loss1: {l1*100:.1f}, Loss2: {l2*100:.1f}, Loss3: {l3*100:.1f}, Loss4: {l4:.1f}')\n",
    "    \n",
    "    forward_model.eval()\n",
    "    correct, total = 0, 0\n",
    "    with torch.no_grad():\n",
    "        for data, target in test_loader:\n",
    "            data, target = data.to(device), target.to(device)\n",
    "            _, _, _, outputs = forward_model(data)\n",
    "            _, predicted = torch.max(outputs.data, 1)\n",
    "            total += target.size(0)\n",
    "            correct += (predicted == target).sum().item()\n",
    "    print(f'Epoch: {epoch}, Test Accuracy: {100 * correct / total}%')\n",
    "    forward_model.train()\n",
    "    \n",
    "# Epoch: 0, Test Accuracy: 94.74%\n",
    "# Epoch: 1, Test Accuracy: 95.76%\n",
    "# Epoch: 2, Test Accuracy: 96.73%\n",
    "# Epoch: 3, Test Accuracy: 96.94%\n",
    "# Epoch: 4, Test Accuracy: 97.21%\n",
    "# Epoch: 5, Test Accuracy: 97.33%\n",
    "\n",
    "# Epoch: 0, Test Accuracy: 94.38%\n",
    "# Epoch: 1, Test Accuracy: 96.18%\n",
    "# Epoch: 2, Test Accuracy: 96.75%\n",
    "# Epoch: 3, Test Accuracy: 96.95%\n",
    "# Epoch: 4, Test Accuracy: 97.17%\n",
    "\n",
    "# conv_dim = 64\n",
    "# Epoch: 0, Test Accuracy: 94.77%\n",
    "# Epoch: 1, Test Accuracy: 96.29%\n",
    "# Epoch: 2, Test Accuracy: 97.2%\n",
    "# Epoch: 3, Test Accuracy: 97.5%\n",
    "# Epoch: 4, Test Accuracy: 97.52%\n",
    "# Epoch: 5, Test Accuracy: 97.93%\n",
    "\n",
    "# conv_dim 64; s1, s2 use BN\n",
    "# Epoch: 0, Test Accuracy: 95.35%\n",
    "# Epoch: 1, Test Accuracy: 96.78%\n",
    "# Epoch: 2, Test Accuracy: 97.35%\n",
    "# Epoch: 3, Test Accuracy: 97.79%\n",
    "# Epoch: 4, Test Accuracy: 97.85%\n",
    "\n",
    "# Epoch: 5, Test Accuracy: 98.11%\n",
    "# Epoch: 6, Test Accuracy: 98.01%\n",
    "# Epoch: 7, Test Accuracy: 98.22%\n",
    "# Epoch: 8, Test Accuracy: 98.42%\n",
    "# Epoch: 9, Test Accuracy: 98.38%\n",
    "\n",
    "# conv_dim 64; s1, s2, s3 use BN before act\n",
    "# Epoch: 0, Test Accuracy: 95.15%\n",
    "# Epoch: 1, Test Accuracy: 96.6%\n",
    "# Epoch: 2, Test Accuracy: 97.13%\n",
    "# Epoch: 3, Test Accuracy: 97.89%\n",
    "# Epoch: 4, Test Accuracy: 97.6%\n",
    "\n",
    "# Epoch: 5, Test Accuracy: 98.06%\n",
    "# Epoch: 6, Test Accuracy: 98.1%\n",
    "# Epoch: 7, Test Accuracy: 98.11%\n",
    "# Epoch: 8, Test Accuracy: 98.54%\n",
    "# Epoch: 9, Test Accuracy: 98.47%"
   ]
  },
  {
   "cell_type": "code",
   "execution_count": 38,
   "metadata": {
    "tags": []
   },
   "outputs": [
    {
     "data": {
      "text/plain": [
       "(torch.Size([32, 1568]), torch.Size([32, 1568]))"
      ]
     },
     "execution_count": 38,
     "metadata": {},
     "output_type": "execute_result"
    }
   ],
   "source": [
    "s2.shape, a2.shape"
   ]
  },
  {
   "cell_type": "code",
   "execution_count": null,
   "metadata": {},
   "outputs": [],
   "source": [
    "# * derivative, + nn.Identity \n",
    "# Worse: act(a * b.derivative)\n",
    "# Epoch: 0, Test Accuracy: 83.38%\n",
    "# Epoch: 1, Test Accuracy: 87.67%\n",
    "# Epoch: 2, Test Accuracy: 90.61%\n",
    "# Epoch: 3, Test Accuracy: 91.94%\n",
    "# Epoch: 4, Test Accuracy: 93.24%\n",
    "# Epoch: 5, Test Accuracy: 93.09%\n",
    "\n",
    "# s3_ = s3 * (a3.detach()+1)/2 +/- act and s2\n",
    "# Epoch: 0, Test Accuracy: 93.32%\n",
    "# Epoch: 1, Test Accuracy: 95.13%\n",
    "# Epoch: 2, Test Accuracy: 95.79%\n",
    "# Epoch: 3, Test Accuracy: 96.36%\n",
    "# Epoch: 4, Test Accuracy: 96.59%"
   ]
  },
  {
   "cell_type": "code",
   "execution_count": 23,
   "metadata": {},
   "outputs": [
    {
     "data": {
      "text/plain": [
       "tensor([[[[ 1., -1.,  1.,  ...,  1.,  1.,  1.],\n",
       "          [ 1., -1.,  1.,  ...,  1.,  1., -1.],\n",
       "          [ 1., -1., -1.,  ..., -1., -1., -1.],\n",
       "          ...,\n",
       "          [-1.,  1.,  1.,  ...,  1.,  1., -1.],\n",
       "          [ 1.,  1., -1.,  ...,  1.,  1.,  1.],\n",
       "          [ 1.,  1.,  1.,  ..., -1., -1., -1.]],\n",
       "\n",
       "         [[ 1.,  1.,  1.,  ...,  1., -1.,  1.],\n",
       "          [ 1.,  1., -1.,  ...,  1.,  1.,  1.],\n",
       "          [-1., -1., -1.,  ...,  1.,  1.,  1.],\n",
       "          ...,\n",
       "          [-1., -1., -1.,  ...,  1., -1., -1.],\n",
       "          [ 1.,  1., -1.,  ...,  1., -1., -1.],\n",
       "          [-1., -1., -1.,  ..., -1., -1., -1.]],\n",
       "\n",
       "         [[ 1.,  1., -1.,  ..., -1., -1., -1.],\n",
       "          [ 1., -1., -1.,  ..., -1., -1., -1.],\n",
       "          [ 1.,  1.,  1.,  ..., -1., -1., -1.],\n",
       "          ...,\n",
       "          [ 1.,  1.,  1.,  ...,  1.,  1.,  1.],\n",
       "          [ 1.,  1., -1.,  ..., -1.,  1., -1.],\n",
       "          [-1.,  1.,  1.,  ..., -1.,  1.,  1.]],\n",
       "\n",
       "         ...,\n",
       "\n",
       "         [[ 1.,  1.,  1.,  ...,  1.,  1., -1.],\n",
       "          [ 1.,  1.,  1.,  ..., -1.,  1., -1.],\n",
       "          [-1.,  1.,  1.,  ..., -1., -1., -1.],\n",
       "          ...,\n",
       "          [ 1., -1., -1.,  ...,  1.,  1., -1.],\n",
       "          [ 1.,  1.,  1.,  ...,  1.,  1.,  1.],\n",
       "          [ 1.,  1.,  1.,  ...,  1.,  1.,  1.]],\n",
       "\n",
       "         [[-1.,  1.,  1.,  ...,  1.,  1.,  1.],\n",
       "          [ 1.,  1.,  1.,  ..., -1.,  1.,  1.],\n",
       "          [ 1., -1., -1.,  ...,  1.,  1.,  1.],\n",
       "          ...,\n",
       "          [-1., -1.,  1.,  ..., -1., -1., -1.],\n",
       "          [-1., -1.,  1.,  ...,  1., -1.,  1.],\n",
       "          [-1., -1., -1.,  ...,  1.,  1.,  1.]],\n",
       "\n",
       "         [[-1., -1., -1.,  ...,  1.,  1., -1.],\n",
       "          [-1., -1., -1.,  ..., -1., -1., -1.],\n",
       "          [ 1.,  1.,  1.,  ..., -1.,  1.,  1.],\n",
       "          ...,\n",
       "          [ 1.,  1.,  1.,  ..., -1., -1., -1.],\n",
       "          [-1., -1.,  1.,  ..., -1., -1.,  1.],\n",
       "          [-1., -1.,  1.,  ..., -1., -1., -1.]]],\n",
       "\n",
       "\n",
       "        [[[-1., -1.,  1.,  ..., -1., -1., -1.],\n",
       "          [-1., -1.,  1.,  ...,  1., -1., -1.],\n",
       "          [ 1.,  1.,  1.,  ...,  1., -1., -1.],\n",
       "          ...,\n",
       "          [-1.,  1., -1.,  ..., -1., -1., -1.],\n",
       "          [-1.,  1.,  1.,  ..., -1.,  1.,  1.],\n",
       "          [-1., -1., -1.,  ...,  1.,  1., -1.]],\n",
       "\n",
       "         [[-1.,  1., -1.,  ...,  1.,  1.,  1.],\n",
       "          [-1., -1., -1.,  ...,  1.,  1.,  1.],\n",
       "          [-1., -1., -1.,  ..., -1., -1., -1.],\n",
       "          ...,\n",
       "          [ 1., -1., -1.,  ..., -1., -1., -1.],\n",
       "          [-1., -1., -1.,  ...,  1.,  1., -1.],\n",
       "          [-1., -1., -1.,  ..., -1., -1., -1.]],\n",
       "\n",
       "         [[-1.,  1.,  1.,  ...,  1., -1., -1.],\n",
       "          [ 1.,  1.,  1.,  ..., -1., -1., -1.],\n",
       "          [-1., -1.,  1.,  ..., -1., -1., -1.],\n",
       "          ...,\n",
       "          [ 1.,  1.,  1.,  ..., -1., -1.,  1.],\n",
       "          [-1., -1., -1.,  ...,  1.,  1.,  1.],\n",
       "          [-1., -1., -1.,  ..., -1.,  1.,  1.]],\n",
       "\n",
       "         ...,\n",
       "\n",
       "         [[-1., -1., -1.,  ...,  1.,  1.,  1.],\n",
       "          [-1., -1., -1.,  ..., -1.,  1.,  1.],\n",
       "          [ 1.,  1.,  1.,  ..., -1., -1., -1.],\n",
       "          ...,\n",
       "          [ 1.,  1., -1.,  ..., -1., -1.,  1.],\n",
       "          [-1.,  1.,  1.,  ..., -1., -1., -1.],\n",
       "          [-1., -1., -1.,  ...,  1.,  1., -1.]],\n",
       "\n",
       "         [[-1., -1.,  1.,  ...,  1., -1., -1.],\n",
       "          [ 1., -1., -1.,  ..., -1., -1.,  1.],\n",
       "          [ 1., -1., -1.,  ..., -1.,  1.,  1.],\n",
       "          ...,\n",
       "          [-1., -1., -1.,  ...,  1.,  1.,  1.],\n",
       "          [-1., -1., -1.,  ...,  1., -1.,  1.],\n",
       "          [-1., -1.,  1.,  ..., -1., -1.,  1.]],\n",
       "\n",
       "         [[-1., -1., -1.,  ..., -1.,  1., -1.],\n",
       "          [-1.,  1.,  1.,  ...,  1.,  1.,  1.],\n",
       "          [ 1.,  1.,  1.,  ...,  1., -1.,  1.],\n",
       "          ...,\n",
       "          [-1., -1., -1.,  ...,  1.,  1., -1.],\n",
       "          [-1., -1., -1.,  ...,  1.,  1., -1.],\n",
       "          [-1., -1., -1.,  ..., -1.,  1., -1.]]],\n",
       "\n",
       "\n",
       "        [[[ 1., -1.,  1.,  ...,  1.,  1.,  1.],\n",
       "          [ 1., -1.,  1.,  ...,  1.,  1., -1.],\n",
       "          [ 1., -1., -1.,  ..., -1., -1., -1.],\n",
       "          ...,\n",
       "          [-1.,  1.,  1.,  ...,  1.,  1., -1.],\n",
       "          [ 1.,  1., -1.,  ...,  1.,  1.,  1.],\n",
       "          [ 1.,  1.,  1.,  ..., -1., -1., -1.]],\n",
       "\n",
       "         [[ 1.,  1.,  1.,  ...,  1., -1.,  1.],\n",
       "          [ 1.,  1., -1.,  ...,  1.,  1.,  1.],\n",
       "          [-1., -1., -1.,  ...,  1.,  1.,  1.],\n",
       "          ...,\n",
       "          [-1., -1., -1.,  ...,  1., -1., -1.],\n",
       "          [ 1.,  1., -1.,  ...,  1., -1., -1.],\n",
       "          [-1., -1., -1.,  ..., -1., -1., -1.]],\n",
       "\n",
       "         [[ 1.,  1., -1.,  ..., -1., -1., -1.],\n",
       "          [ 1., -1., -1.,  ..., -1., -1., -1.],\n",
       "          [ 1.,  1.,  1.,  ..., -1., -1., -1.],\n",
       "          ...,\n",
       "          [ 1.,  1.,  1.,  ...,  1.,  1.,  1.],\n",
       "          [ 1.,  1., -1.,  ..., -1.,  1., -1.],\n",
       "          [-1.,  1.,  1.,  ..., -1.,  1.,  1.]],\n",
       "\n",
       "         ...,\n",
       "\n",
       "         [[ 1.,  1.,  1.,  ...,  1.,  1., -1.],\n",
       "          [ 1.,  1.,  1.,  ..., -1.,  1., -1.],\n",
       "          [-1.,  1.,  1.,  ..., -1., -1., -1.],\n",
       "          ...,\n",
       "          [ 1., -1., -1.,  ...,  1.,  1., -1.],\n",
       "          [ 1.,  1.,  1.,  ...,  1.,  1.,  1.],\n",
       "          [ 1.,  1.,  1.,  ...,  1.,  1.,  1.]],\n",
       "\n",
       "         [[-1.,  1.,  1.,  ...,  1.,  1.,  1.],\n",
       "          [ 1.,  1.,  1.,  ..., -1.,  1.,  1.],\n",
       "          [ 1., -1., -1.,  ...,  1.,  1.,  1.],\n",
       "          ...,\n",
       "          [-1., -1.,  1.,  ..., -1., -1., -1.],\n",
       "          [-1., -1.,  1.,  ...,  1., -1.,  1.],\n",
       "          [-1., -1., -1.,  ...,  1.,  1.,  1.]],\n",
       "\n",
       "         [[-1., -1., -1.,  ...,  1.,  1., -1.],\n",
       "          [-1., -1., -1.,  ..., -1., -1., -1.],\n",
       "          [ 1.,  1.,  1.,  ..., -1.,  1.,  1.],\n",
       "          ...,\n",
       "          [ 1.,  1.,  1.,  ..., -1., -1., -1.],\n",
       "          [-1., -1.,  1.,  ..., -1., -1.,  1.],\n",
       "          [-1., -1.,  1.,  ..., -1., -1., -1.]]],\n",
       "\n",
       "\n",
       "        ...,\n",
       "\n",
       "\n",
       "        [[[ 1., -1.,  1.,  ..., -1., -1., -1.],\n",
       "          [ 1., -1.,  1.,  ..., -1., -1., -1.],\n",
       "          [ 1., -1.,  1.,  ..., -1.,  1.,  1.],\n",
       "          ...,\n",
       "          [-1., -1., -1.,  ..., -1.,  1., -1.],\n",
       "          [-1., -1., -1.,  ..., -1., -1., -1.],\n",
       "          [ 1.,  1., -1.,  ..., -1.,  1., -1.]],\n",
       "\n",
       "         [[ 1.,  1.,  1.,  ...,  1.,  1.,  1.],\n",
       "          [ 1.,  1.,  1.,  ...,  1.,  1.,  1.],\n",
       "          [ 1.,  1.,  1.,  ...,  1.,  1.,  1.],\n",
       "          ...,\n",
       "          [-1., -1.,  1.,  ...,  1.,  1., -1.],\n",
       "          [-1.,  1.,  1.,  ..., -1., -1., -1.],\n",
       "          [-1.,  1.,  1.,  ..., -1., -1., -1.]],\n",
       "\n",
       "         [[ 1.,  1.,  1.,  ..., -1.,  1.,  1.],\n",
       "          [ 1.,  1.,  1.,  ..., -1.,  1., -1.],\n",
       "          [ 1., -1.,  1.,  ...,  1.,  1., -1.],\n",
       "          ...,\n",
       "          [ 1., -1., -1.,  ..., -1., -1., -1.],\n",
       "          [ 1.,  1.,  1.,  ..., -1., -1., -1.],\n",
       "          [ 1.,  1.,  1.,  ..., -1., -1., -1.]],\n",
       "\n",
       "         ...,\n",
       "\n",
       "         [[-1., -1.,  1.,  ..., -1., -1., -1.],\n",
       "          [-1., -1., -1.,  ..., -1., -1., -1.],\n",
       "          [-1., -1., -1.,  ..., -1., -1., -1.],\n",
       "          ...,\n",
       "          [-1.,  1.,  1.,  ...,  1.,  1.,  1.],\n",
       "          [ 1.,  1.,  1.,  ...,  1.,  1.,  1.],\n",
       "          [ 1.,  1.,  1.,  ...,  1.,  1.,  1.]],\n",
       "\n",
       "         [[ 1., -1.,  1.,  ..., -1., -1.,  1.],\n",
       "          [ 1.,  1., -1.,  ..., -1.,  1.,  1.],\n",
       "          [ 1.,  1.,  1.,  ...,  1., -1.,  1.],\n",
       "          ...,\n",
       "          [ 1.,  1.,  1.,  ..., -1.,  1., -1.],\n",
       "          [ 1., -1., -1.,  ..., -1.,  1.,  1.],\n",
       "          [ 1.,  1., -1.,  ...,  1.,  1.,  1.]],\n",
       "\n",
       "         [[ 1.,  1.,  1.,  ..., -1.,  1.,  1.],\n",
       "          [-1.,  1.,  1.,  ..., -1., -1.,  1.],\n",
       "          [-1., -1.,  1.,  ..., -1., -1.,  1.],\n",
       "          ...,\n",
       "          [ 1.,  1.,  1.,  ...,  1.,  1., -1.],\n",
       "          [ 1.,  1.,  1.,  ...,  1., -1., -1.],\n",
       "          [-1.,  1.,  1.,  ...,  1., -1., -1.]]],\n",
       "\n",
       "\n",
       "        [[[ 1., -1., -1.,  ..., -1.,  1., -1.],\n",
       "          [-1., -1.,  1.,  ...,  1.,  1.,  1.],\n",
       "          [-1., -1.,  1.,  ...,  1.,  1.,  1.],\n",
       "          ...,\n",
       "          [ 1.,  1., -1.,  ...,  1., -1.,  1.],\n",
       "          [ 1.,  1.,  1.,  ...,  1.,  1.,  1.],\n",
       "          [ 1., -1., -1.,  ..., -1., -1.,  1.]],\n",
       "\n",
       "         [[ 1., -1.,  1.,  ..., -1., -1., -1.],\n",
       "          [ 1.,  1., -1.,  ..., -1.,  1.,  1.],\n",
       "          [ 1.,  1.,  1.,  ...,  1.,  1.,  1.],\n",
       "          ...,\n",
       "          [-1., -1.,  1.,  ...,  1., -1., -1.],\n",
       "          [ 1.,  1.,  1.,  ..., -1.,  1., -1.],\n",
       "          [ 1.,  1.,  1.,  ..., -1.,  1.,  1.]],\n",
       "\n",
       "         [[ 1.,  1., -1.,  ...,  1.,  1.,  1.],\n",
       "          [-1.,  1., -1.,  ...,  1.,  1.,  1.],\n",
       "          [ 1.,  1., -1.,  ...,  1.,  1.,  1.],\n",
       "          ...,\n",
       "          [-1.,  1., -1.,  ...,  1.,  1.,  1.],\n",
       "          [ 1.,  1.,  1.,  ...,  1.,  1.,  1.],\n",
       "          [ 1.,  1.,  1.,  ...,  1., -1.,  1.]],\n",
       "\n",
       "         ...,\n",
       "\n",
       "         [[ 1.,  1.,  1.,  ...,  1.,  1.,  1.],\n",
       "          [ 1.,  1.,  1.,  ...,  1.,  1.,  1.],\n",
       "          [ 1.,  1.,  1.,  ...,  1.,  1., -1.],\n",
       "          ...,\n",
       "          [ 1.,  1., -1.,  ..., -1.,  1., -1.],\n",
       "          [-1., -1.,  1.,  ..., -1., -1., -1.],\n",
       "          [-1., -1.,  1.,  ..., -1., -1., -1.]],\n",
       "\n",
       "         [[-1., -1., -1.,  ...,  1.,  1., -1.],\n",
       "          [-1., -1., -1.,  ..., -1., -1., -1.],\n",
       "          [ 1., -1.,  1.,  ..., -1., -1., -1.],\n",
       "          ...,\n",
       "          [ 1.,  1., -1.,  ...,  1.,  1.,  1.],\n",
       "          [ 1.,  1.,  1.,  ..., -1.,  1.,  1.],\n",
       "          [-1., -1.,  1.,  ..., -1.,  1.,  1.]],\n",
       "\n",
       "         [[ 1.,  1.,  1.,  ..., -1., -1., -1.],\n",
       "          [ 1.,  1.,  1.,  ...,  1.,  1., -1.],\n",
       "          [ 1.,  1.,  1.,  ...,  1.,  1., -1.],\n",
       "          ...,\n",
       "          [ 1.,  1.,  1.,  ...,  1.,  1.,  1.],\n",
       "          [ 1.,  1.,  1.,  ...,  1., -1., -1.],\n",
       "          [ 1.,  1.,  1.,  ...,  1., -1., -1.]]],\n",
       "\n",
       "\n",
       "        [[[ 1., -1.,  1.,  ..., -1., -1., -1.],\n",
       "          [ 1., -1.,  1.,  ..., -1., -1., -1.],\n",
       "          [ 1., -1.,  1.,  ..., -1.,  1.,  1.],\n",
       "          ...,\n",
       "          [-1., -1., -1.,  ..., -1.,  1., -1.],\n",
       "          [-1., -1., -1.,  ..., -1., -1., -1.],\n",
       "          [ 1.,  1., -1.,  ..., -1.,  1., -1.]],\n",
       "\n",
       "         [[ 1.,  1.,  1.,  ...,  1.,  1.,  1.],\n",
       "          [ 1.,  1.,  1.,  ...,  1.,  1.,  1.],\n",
       "          [ 1.,  1.,  1.,  ...,  1.,  1.,  1.],\n",
       "          ...,\n",
       "          [-1., -1.,  1.,  ...,  1.,  1., -1.],\n",
       "          [-1.,  1.,  1.,  ..., -1., -1., -1.],\n",
       "          [-1.,  1.,  1.,  ..., -1., -1., -1.]],\n",
       "\n",
       "         [[ 1.,  1.,  1.,  ..., -1.,  1.,  1.],\n",
       "          [ 1.,  1.,  1.,  ..., -1.,  1., -1.],\n",
       "          [ 1., -1.,  1.,  ...,  1.,  1., -1.],\n",
       "          ...,\n",
       "          [ 1., -1., -1.,  ..., -1., -1., -1.],\n",
       "          [ 1.,  1.,  1.,  ..., -1., -1., -1.],\n",
       "          [ 1.,  1.,  1.,  ..., -1., -1., -1.]],\n",
       "\n",
       "         ...,\n",
       "\n",
       "         [[-1., -1.,  1.,  ..., -1., -1., -1.],\n",
       "          [-1., -1., -1.,  ..., -1., -1., -1.],\n",
       "          [-1., -1., -1.,  ..., -1., -1., -1.],\n",
       "          ...,\n",
       "          [-1.,  1.,  1.,  ...,  1.,  1.,  1.],\n",
       "          [ 1.,  1.,  1.,  ...,  1.,  1.,  1.],\n",
       "          [ 1.,  1.,  1.,  ...,  1.,  1.,  1.]],\n",
       "\n",
       "         [[ 1., -1.,  1.,  ..., -1., -1.,  1.],\n",
       "          [ 1.,  1., -1.,  ..., -1.,  1.,  1.],\n",
       "          [ 1.,  1.,  1.,  ...,  1., -1.,  1.],\n",
       "          ...,\n",
       "          [ 1.,  1.,  1.,  ..., -1.,  1., -1.],\n",
       "          [ 1., -1., -1.,  ..., -1.,  1.,  1.],\n",
       "          [ 1.,  1., -1.,  ...,  1.,  1.,  1.]],\n",
       "\n",
       "         [[ 1.,  1.,  1.,  ..., -1.,  1.,  1.],\n",
       "          [-1.,  1.,  1.,  ..., -1., -1.,  1.],\n",
       "          [-1., -1.,  1.,  ..., -1., -1.,  1.],\n",
       "          ...,\n",
       "          [ 1.,  1.,  1.,  ...,  1.,  1., -1.],\n",
       "          [ 1.,  1.,  1.,  ...,  1., -1., -1.],\n",
       "          [-1.,  1.,  1.,  ...,  1., -1., -1.]]]], grad_fn=<SignBackward0>)"
      ]
     },
     "execution_count": 23,
     "metadata": {},
     "output_type": "execute_result"
    }
   ],
   "source": [
    "s1.sign()"
   ]
  },
  {
   "cell_type": "code",
   "execution_count": 14,
   "metadata": {},
   "outputs": [
    {
     "data": {
      "text/plain": [
       "tensor([-3.5884e-08,  6.9944e-09,  2.0831e-08,  9.7314e-09,  0.0000e+00,\n",
       "         6.4622e-09, -1.7296e-08, -2.4024e-08,  1.9311e-08,  1.8246e-09,\n",
       "        -1.2164e-09,  2.1287e-09,  1.8779e-08,  2.2200e-08,  4.7136e-09,\n",
       "        -1.3533e-08,  9.7314e-09, -3.2843e-08,  2.2808e-08, -3.5124e-08,\n",
       "         8.5149e-09,  2.1287e-08,  1.2164e-08, -1.5737e-08,  8.5149e-09,\n",
       "        -7.6026e-09, -2.7217e-08,  1.0796e-08,  2.9802e-08,  8.5149e-09,\n",
       "         3.9534e-08,  2.4328e-09], grad_fn=<MeanBackward1>)"
      ]
     },
     "execution_count": 14,
     "metadata": {},
     "output_type": "execute_result"
    }
   ],
   "source": [
    "a1.mean(dim=[1,2,3])"
   ]
  },
  {
   "cell_type": "code",
   "execution_count": null,
   "metadata": {},
   "outputs": [],
   "source": []
  },
  {
   "cell_type": "code",
   "execution_count": null,
   "metadata": {},
   "outputs": [],
   "source": []
  },
  {
   "cell_type": "code",
   "execution_count": null,
   "metadata": {},
   "outputs": [],
   "source": []
  },
  {
   "cell_type": "code",
   "execution_count": null,
   "metadata": {},
   "outputs": [],
   "source": []
  },
  {
   "cell_type": "code",
   "execution_count": 19,
   "metadata": {
    "tags": []
   },
   "outputs": [
    {
     "name": "stderr",
     "output_type": "stream",
     "text": [
      "  2%|█▍                                                                    | 1/50 [00:07<06:30,  7.96s/it]"
     ]
    },
    {
     "name": "stdout",
     "output_type": "stream",
     "text": [
      "Epoch: 0, Test Accuracy: 94.74%\n"
     ]
    },
    {
     "name": "stderr",
     "output_type": "stream",
     "text": [
      "  4%|██▊                                                                   | 2/50 [00:15<06:21,  7.95s/it]"
     ]
    },
    {
     "name": "stdout",
     "output_type": "stream",
     "text": [
      "Epoch: 1, Test Accuracy: 95.76%\n"
     ]
    },
    {
     "name": "stderr",
     "output_type": "stream",
     "text": [
      "  6%|████▏                                                                 | 3/50 [00:24<06:25,  8.21s/it]"
     ]
    },
    {
     "name": "stdout",
     "output_type": "stream",
     "text": [
      "Epoch: 2, Test Accuracy: 96.73%\n"
     ]
    },
    {
     "name": "stderr",
     "output_type": "stream",
     "text": [
      "  8%|█████▌                                                                | 4/50 [00:32<06:09,  8.03s/it]"
     ]
    },
    {
     "name": "stdout",
     "output_type": "stream",
     "text": [
      "Epoch: 3, Test Accuracy: 96.94%\n"
     ]
    },
    {
     "name": "stderr",
     "output_type": "stream",
     "text": [
      " 10%|███████                                                               | 5/50 [00:39<05:52,  7.83s/it]"
     ]
    },
    {
     "name": "stdout",
     "output_type": "stream",
     "text": [
      "Epoch: 4, Test Accuracy: 97.21%\n"
     ]
    },
    {
     "name": "stderr",
     "output_type": "stream",
     "text": [
      " 12%|████████▍                                                             | 6/50 [00:47<05:41,  7.77s/it]"
     ]
    },
    {
     "name": "stdout",
     "output_type": "stream",
     "text": [
      "Epoch: 5, Test Accuracy: 97.33%\n"
     ]
    },
    {
     "name": "stderr",
     "output_type": "stream",
     "text": [
      " 14%|█████████▊                                                            | 7/50 [00:54<05:31,  7.71s/it]"
     ]
    },
    {
     "name": "stdout",
     "output_type": "stream",
     "text": [
      "Epoch: 6, Test Accuracy: 97.53%\n"
     ]
    },
    {
     "name": "stderr",
     "output_type": "stream",
     "text": [
      " 16%|███████████▏                                                          | 8/50 [01:02<05:21,  7.66s/it]"
     ]
    },
    {
     "name": "stdout",
     "output_type": "stream",
     "text": [
      "Epoch: 7, Test Accuracy: 97.56%\n"
     ]
    },
    {
     "name": "stderr",
     "output_type": "stream",
     "text": [
      " 18%|████████████▌                                                         | 9/50 [01:09<05:11,  7.59s/it]"
     ]
    },
    {
     "name": "stdout",
     "output_type": "stream",
     "text": [
      "Epoch: 8, Test Accuracy: 97.78%\n"
     ]
    },
    {
     "name": "stderr",
     "output_type": "stream",
     "text": [
      " 20%|█████████████▊                                                       | 10/50 [01:17<05:04,  7.62s/it]"
     ]
    },
    {
     "name": "stdout",
     "output_type": "stream",
     "text": [
      "Epoch: 9, Test Accuracy: 97.6%\n"
     ]
    },
    {
     "name": "stderr",
     "output_type": "stream",
     "text": [
      " 22%|███████████████▏                                                     | 11/50 [01:25<04:56,  7.60s/it]"
     ]
    },
    {
     "name": "stdout",
     "output_type": "stream",
     "text": [
      "Epoch: 10, Test Accuracy: 97.81%\n"
     ]
    },
    {
     "name": "stderr",
     "output_type": "stream",
     "text": [
      " 24%|████████████████▌                                                    | 12/50 [01:32<04:47,  7.55s/it]"
     ]
    },
    {
     "name": "stdout",
     "output_type": "stream",
     "text": [
      "Epoch: 11, Test Accuracy: 97.99%\n"
     ]
    },
    {
     "name": "stderr",
     "output_type": "stream",
     "text": [
      " 26%|█████████████████▉                                                   | 13/50 [01:40<04:39,  7.56s/it]"
     ]
    },
    {
     "name": "stdout",
     "output_type": "stream",
     "text": [
      "Epoch: 12, Test Accuracy: 97.85%\n"
     ]
    },
    {
     "name": "stderr",
     "output_type": "stream",
     "text": [
      " 26%|█████████████████▉                                                   | 13/50 [01:47<05:07,  8.30s/it]\n"
     ]
    },
    {
     "ename": "KeyboardInterrupt",
     "evalue": "",
     "output_type": "error",
     "traceback": [
      "\u001b[0;31m---------------------------------------------------------------------------\u001b[0m",
      "\u001b[0;31mKeyboardInterrupt\u001b[0m                         Traceback (most recent call last)",
      "Cell \u001b[0;32mIn[19], line 166\u001b[0m\n\u001b[1;32m    164\u001b[0m \u001b[38;5;28;01mfor\u001b[39;00m data, target \u001b[38;5;129;01min\u001b[39;00m test_loader:\n\u001b[1;32m    165\u001b[0m     data, target \u001b[38;5;241m=\u001b[39m data\u001b[38;5;241m.\u001b[39mto(device), target\u001b[38;5;241m.\u001b[39mto(device)\n\u001b[0;32m--> 166\u001b[0m     _, _, _, outputs \u001b[38;5;241m=\u001b[39m forward_model(data)\n\u001b[1;32m    167\u001b[0m     _, predicted \u001b[38;5;241m=\u001b[39m torch\u001b[38;5;241m.\u001b[39mmax(outputs\u001b[38;5;241m.\u001b[39mdata, \u001b[38;5;241m1\u001b[39m)\n\u001b[1;32m    168\u001b[0m     total \u001b[38;5;241m+\u001b[39m\u001b[38;5;241m=\u001b[39m target\u001b[38;5;241m.\u001b[39msize(\u001b[38;5;241m0\u001b[39m)\n",
      "File \u001b[0;32m~/anaconda3/lib/python3.11/site-packages/torch/nn/modules/module.py:1501\u001b[0m, in \u001b[0;36mModule._call_impl\u001b[0;34m(self, *args, **kwargs)\u001b[0m\n\u001b[1;32m   1496\u001b[0m \u001b[38;5;66;03m# If we don't have any hooks, we want to skip the rest of the logic in\u001b[39;00m\n\u001b[1;32m   1497\u001b[0m \u001b[38;5;66;03m# this function, and just call forward.\u001b[39;00m\n\u001b[1;32m   1498\u001b[0m \u001b[38;5;28;01mif\u001b[39;00m \u001b[38;5;129;01mnot\u001b[39;00m (\u001b[38;5;28mself\u001b[39m\u001b[38;5;241m.\u001b[39m_backward_hooks \u001b[38;5;129;01mor\u001b[39;00m \u001b[38;5;28mself\u001b[39m\u001b[38;5;241m.\u001b[39m_backward_pre_hooks \u001b[38;5;129;01mor\u001b[39;00m \u001b[38;5;28mself\u001b[39m\u001b[38;5;241m.\u001b[39m_forward_hooks \u001b[38;5;129;01mor\u001b[39;00m \u001b[38;5;28mself\u001b[39m\u001b[38;5;241m.\u001b[39m_forward_pre_hooks\n\u001b[1;32m   1499\u001b[0m         \u001b[38;5;129;01mor\u001b[39;00m _global_backward_pre_hooks \u001b[38;5;129;01mor\u001b[39;00m _global_backward_hooks\n\u001b[1;32m   1500\u001b[0m         \u001b[38;5;129;01mor\u001b[39;00m _global_forward_hooks \u001b[38;5;129;01mor\u001b[39;00m _global_forward_pre_hooks):\n\u001b[0;32m-> 1501\u001b[0m     \u001b[38;5;28;01mreturn\u001b[39;00m forward_call(\u001b[38;5;241m*\u001b[39margs, \u001b[38;5;241m*\u001b[39m\u001b[38;5;241m*\u001b[39mkwargs)\n\u001b[1;32m   1502\u001b[0m \u001b[38;5;66;03m# Do not call functions when jit is used\u001b[39;00m\n\u001b[1;32m   1503\u001b[0m full_backward_hooks, non_full_backward_hooks \u001b[38;5;241m=\u001b[39m [], []\n",
      "Cell \u001b[0;32mIn[19], line 62\u001b[0m, in \u001b[0;36mForwardModel.forward\u001b[0;34m(self, x)\u001b[0m\n\u001b[1;32m     59\u001b[0m x \u001b[38;5;241m=\u001b[39m \u001b[38;5;28mself\u001b[39m\u001b[38;5;241m.\u001b[39mLN2(x)\n\u001b[1;32m     61\u001b[0m a1 \u001b[38;5;241m=\u001b[39m \u001b[38;5;28mself\u001b[39m\u001b[38;5;241m.\u001b[39mact(\u001b[38;5;28mself\u001b[39m\u001b[38;5;241m.\u001b[39mconv1(x\u001b[38;5;241m.\u001b[39mdetach()))\n\u001b[0;32m---> 62\u001b[0m a1 \u001b[38;5;241m=\u001b[39m \u001b[38;5;28mself\u001b[39m\u001b[38;5;241m.\u001b[39mmax_pool(a1)\n\u001b[1;32m     63\u001b[0m a1 \u001b[38;5;241m=\u001b[39m \u001b[38;5;28mself\u001b[39m\u001b[38;5;241m.\u001b[39mLN1(a1)\n\u001b[1;32m     65\u001b[0m a2 \u001b[38;5;241m=\u001b[39m \u001b[38;5;28mself\u001b[39m\u001b[38;5;241m.\u001b[39mact(\u001b[38;5;28mself\u001b[39m\u001b[38;5;241m.\u001b[39mconv2(a1\u001b[38;5;241m.\u001b[39mdetach()))\n",
      "File \u001b[0;32m~/anaconda3/lib/python3.11/site-packages/torch/nn/modules/module.py:1501\u001b[0m, in \u001b[0;36mModule._call_impl\u001b[0;34m(self, *args, **kwargs)\u001b[0m\n\u001b[1;32m   1496\u001b[0m \u001b[38;5;66;03m# If we don't have any hooks, we want to skip the rest of the logic in\u001b[39;00m\n\u001b[1;32m   1497\u001b[0m \u001b[38;5;66;03m# this function, and just call forward.\u001b[39;00m\n\u001b[1;32m   1498\u001b[0m \u001b[38;5;28;01mif\u001b[39;00m \u001b[38;5;129;01mnot\u001b[39;00m (\u001b[38;5;28mself\u001b[39m\u001b[38;5;241m.\u001b[39m_backward_hooks \u001b[38;5;129;01mor\u001b[39;00m \u001b[38;5;28mself\u001b[39m\u001b[38;5;241m.\u001b[39m_backward_pre_hooks \u001b[38;5;129;01mor\u001b[39;00m \u001b[38;5;28mself\u001b[39m\u001b[38;5;241m.\u001b[39m_forward_hooks \u001b[38;5;129;01mor\u001b[39;00m \u001b[38;5;28mself\u001b[39m\u001b[38;5;241m.\u001b[39m_forward_pre_hooks\n\u001b[1;32m   1499\u001b[0m         \u001b[38;5;129;01mor\u001b[39;00m _global_backward_pre_hooks \u001b[38;5;129;01mor\u001b[39;00m _global_backward_hooks\n\u001b[1;32m   1500\u001b[0m         \u001b[38;5;129;01mor\u001b[39;00m _global_forward_hooks \u001b[38;5;129;01mor\u001b[39;00m _global_forward_pre_hooks):\n\u001b[0;32m-> 1501\u001b[0m     \u001b[38;5;28;01mreturn\u001b[39;00m forward_call(\u001b[38;5;241m*\u001b[39margs, \u001b[38;5;241m*\u001b[39m\u001b[38;5;241m*\u001b[39mkwargs)\n\u001b[1;32m   1502\u001b[0m \u001b[38;5;66;03m# Do not call functions when jit is used\u001b[39;00m\n\u001b[1;32m   1503\u001b[0m full_backward_hooks, non_full_backward_hooks \u001b[38;5;241m=\u001b[39m [], []\n",
      "File \u001b[0;32m~/anaconda3/lib/python3.11/site-packages/torch/nn/modules/pooling.py:166\u001b[0m, in \u001b[0;36mMaxPool2d.forward\u001b[0;34m(self, input)\u001b[0m\n\u001b[1;32m    165\u001b[0m \u001b[38;5;28;01mdef\u001b[39;00m \u001b[38;5;21mforward\u001b[39m(\u001b[38;5;28mself\u001b[39m, \u001b[38;5;28minput\u001b[39m: Tensor):\n\u001b[0;32m--> 166\u001b[0m     \u001b[38;5;28;01mreturn\u001b[39;00m F\u001b[38;5;241m.\u001b[39mmax_pool2d(\u001b[38;5;28minput\u001b[39m, \u001b[38;5;28mself\u001b[39m\u001b[38;5;241m.\u001b[39mkernel_size, \u001b[38;5;28mself\u001b[39m\u001b[38;5;241m.\u001b[39mstride,\n\u001b[1;32m    167\u001b[0m                         \u001b[38;5;28mself\u001b[39m\u001b[38;5;241m.\u001b[39mpadding, \u001b[38;5;28mself\u001b[39m\u001b[38;5;241m.\u001b[39mdilation, ceil_mode\u001b[38;5;241m=\u001b[39m\u001b[38;5;28mself\u001b[39m\u001b[38;5;241m.\u001b[39mceil_mode,\n\u001b[1;32m    168\u001b[0m                         return_indices\u001b[38;5;241m=\u001b[39m\u001b[38;5;28mself\u001b[39m\u001b[38;5;241m.\u001b[39mreturn_indices)\n",
      "File \u001b[0;32m~/anaconda3/lib/python3.11/site-packages/torch/_jit_internal.py:484\u001b[0m, in \u001b[0;36mboolean_dispatch.<locals>.fn\u001b[0;34m(*args, **kwargs)\u001b[0m\n\u001b[1;32m    482\u001b[0m     \u001b[38;5;28;01mreturn\u001b[39;00m if_true(\u001b[38;5;241m*\u001b[39margs, \u001b[38;5;241m*\u001b[39m\u001b[38;5;241m*\u001b[39mkwargs)\n\u001b[1;32m    483\u001b[0m \u001b[38;5;28;01melse\u001b[39;00m:\n\u001b[0;32m--> 484\u001b[0m     \u001b[38;5;28;01mreturn\u001b[39;00m if_false(\u001b[38;5;241m*\u001b[39margs, \u001b[38;5;241m*\u001b[39m\u001b[38;5;241m*\u001b[39mkwargs)\n",
      "File \u001b[0;32m~/anaconda3/lib/python3.11/site-packages/torch/nn/functional.py:782\u001b[0m, in \u001b[0;36m_max_pool2d\u001b[0;34m(input, kernel_size, stride, padding, dilation, ceil_mode, return_indices)\u001b[0m\n\u001b[1;32m    780\u001b[0m \u001b[38;5;28;01mif\u001b[39;00m stride \u001b[38;5;129;01mis\u001b[39;00m \u001b[38;5;28;01mNone\u001b[39;00m:\n\u001b[1;32m    781\u001b[0m     stride \u001b[38;5;241m=\u001b[39m torch\u001b[38;5;241m.\u001b[39mjit\u001b[38;5;241m.\u001b[39mannotate(List[\u001b[38;5;28mint\u001b[39m], [])\n\u001b[0;32m--> 782\u001b[0m \u001b[38;5;28;01mreturn\u001b[39;00m torch\u001b[38;5;241m.\u001b[39mmax_pool2d(\u001b[38;5;28minput\u001b[39m, kernel_size, stride, padding, dilation, ceil_mode)\n",
      "\u001b[0;31mKeyboardInterrupt\u001b[0m: "
     ]
    }
   ],
   "source": [
    "import torch\n",
    "import torch.nn as nn\n",
    "import torch.nn.functional as F\n",
    "import torch.nn.init as init\n",
    "import torch.optim as optim\n",
    "from torchvision import datasets, transforms\n",
    "from torch.nn.utils import clip_grad_norm_\n",
    "import matplotlib.pyplot as plt\n",
    "import copy\n",
    "import numpy as np\n",
    "\n",
    "torch.manual_seed(2024)\n",
    "HIDDEN_DIM = 256\n",
    "USE_SIGMA = 1\n",
    "device = torch.device(\"cpu\")\n",
    "\n",
    "transform = transforms.Compose([transforms.ToTensor(), transforms.Normalize((0.5,), (0.5,))])\n",
    "train_dataset = datasets.MNIST(root='./data', train=True, download=True, transform=transform)\n",
    "test_dataset = datasets.MNIST(root='./data', train=False, download=True, transform=transform)\n",
    "train_loader = torch.utils.data.DataLoader(train_dataset, batch_size=32, shuffle=True)\n",
    "test_loader = torch.utils.data.DataLoader(test_dataset, batch_size=32, shuffle=False)\n",
    "\n",
    "def gradient_centralization():\n",
    "    with torch.no_grad():\n",
    "        for p1, p2 in forward_model.named_parameters():\n",
    "            if \"bias\" in p1 or p2.grad is None: continue\n",
    "            if len(p2.shape) == 2: p2.grad -= p2.grad.mean(dim=1,keepdim=True)\n",
    "            elif len(p2.shape) == 4: p2.grad -= p2.grad.mean(dim=[1,2,3],keepdim=True) \n",
    "\n",
    "class ForwardModel(nn.Module):\n",
    "    def __init__(self, hidden_dim=128, use_sigma=True):\n",
    "        super(ForwardModel, self).__init__()\n",
    "        self.use_sigma = use_sigma\n",
    "        self.hidden_dim = hidden_dim\n",
    "\n",
    "        # Convolutional layers\n",
    "        self.conv1 = nn.Conv2d(1, 32, kernel_size=3, padding=1)\n",
    "        self.conv2 = nn.Conv2d(32, 32, kernel_size=3, padding=1)\n",
    "        self.max_pool = nn.MaxPool2d(2)\n",
    "\n",
    "        # Linear layers\n",
    "        self.fc1 = nn.Linear(32 * 7 * 7, hidden_dim)\n",
    "        self.fc2 = nn.Linear(hidden_dim, 10)\n",
    "\n",
    "        self.LN1 = nn.LayerNorm((32, 14, 14), elementwise_affine=False)\n",
    "        self.LN2 = nn.LayerNorm((1, 28, 28), elementwise_affine=False)\n",
    "\n",
    "        self.fc2.weight.data.zero_()\n",
    "        self.fc2.bias.data.zero_()\n",
    "        self.fc1.bias.data.zero_()\n",
    "        self.conv2.bias.data.zero_()\n",
    "        self.conv1.bias.data.zero_()\n",
    "        \n",
    "        self.act = F.elu\n",
    "\n",
    "    def forward(self, x):\n",
    "        \n",
    "        x = x.view(-1, 1, 28, 28)\n",
    "        x = self.LN2(x)\n",
    "\n",
    "        a1 = self.act(self.conv1(x.detach()))\n",
    "        a1 = self.max_pool(a1)\n",
    "        a1 = self.LN1(a1)\n",
    "\n",
    "        a2 = self.act(self.conv2(a1.detach()))\n",
    "        a2 = self.max_pool(a2)\n",
    "        a2 = a2.view(-1, 32 * 7 * 7)\n",
    "\n",
    "        a3 = self.act(self.fc1(a2.detach()))\n",
    "\n",
    "        a4 = self.fc2(a3.detach())\n",
    "        self.penultimate_feature = a3.detach()\n",
    "\n",
    "        return a1, a2, a3, a4\n",
    "\n",
    "    def forward_logits(self):\n",
    "        return self.fc2(self.penultimate_feature)\n",
    "\n",
    "class BackwardModel(nn.Module):\n",
    "    def __init__(self, hidden_dim=128):\n",
    "        super(BackwardModel, self).__init__()\n",
    "        self.hidden_dim = hidden_dim\n",
    "        \n",
    "        alpha = 1\n",
    "        self.alpha = alpha\n",
    "        self.fc1 = nn.Linear(10, hidden_dim * alpha, bias=False)\n",
    "        self.fc2 = nn.Linear(hidden_dim * alpha, 32 * 7 * 7 * alpha, bias=False)\n",
    "        self.upsample1 = nn.Upsample(scale_factor=2, mode='nearest')\n",
    "        self.conv1 = nn.Conv2d(32 * alpha, 32 * alpha, kernel_size=5, padding=2, bias=False)\n",
    "        \n",
    "        self.act = F.elu\n",
    "\n",
    "    def forward(self, t, use_act_derivative=False):\n",
    "        device = t.device\n",
    "        t = F.one_hot(t, num_classes=10).float().to(device)\n",
    "        s3 = self.act(self.fc1(t.detach()))\n",
    "        s2 = self.act(self.fc2(s3.detach()))\n",
    "        s2_ = s2.view(-1, 32 * self.alpha, 7, 7)\n",
    "        s2_ = self.upsample1(s2_)\n",
    "        s1 = self.act(self.conv1(s2_.detach()))\n",
    "        return s1[:, :32], s2[:,:32*7*7], s3[:, :self.hidden_dim]\n",
    "\n",
    "def normal(x): \n",
    "    if len(x.shape) == 2: return x / x.std(dim=1, keepdim=True)\n",
    "    if len(x.shape) == 4: return x / x.std(dim=[1,2,3], keepdim=True)\n",
    "\n",
    "def standard(x): \n",
    "    if len(x.shape) == 2: \n",
    "        x = x - x.mean(dim=1, keepdim=True)\n",
    "        return x / x.std(dim=1, keepdim=True)\n",
    "    if len(x.shape) == 4: \n",
    "        x = x - x.mean(dim=[1,2,3], keepdim=True)\n",
    "        return x / x.std(dim=[1,2,3], keepdim=True)\n",
    "\n",
    "def sigma_loss(a1, a2, a3, a4, s1, s2, s3, t):\n",
    "\n",
    "    loss1 = F.mse_loss(normal(a1), normal(s1))\n",
    "    loss2 = F.mse_loss(normal(a2), normal(s2))\n",
    "    loss3 = F.mse_loss(normal(a3), normal(s3))\n",
    "    loss4 = criteria(a4, t)\n",
    "    loss = loss1 + loss2 + loss3 + loss4\n",
    "    return loss, loss1.item(), loss2.item(), loss3.item(), loss4.item()\n",
    "\n",
    "# Initialize the models\n",
    "forward_model = ForwardModel(use_sigma=USE_SIGMA)\n",
    "backward_model = BackwardModel()\n",
    "\n",
    "forward_model.to(device)\n",
    "backward_model.to(device)\n",
    "\n",
    "# Define the optimizers\n",
    "forward_optimizer = optim.RMSprop(forward_model.parameters(),   lr=0.001)\n",
    "criteria = nn.CrossEntropyLoss()\n",
    "\n",
    "from tqdm import tqdm\n",
    "\n",
    "for epoch in tqdm(range(50)):\n",
    "    \n",
    "    for batch_idx, (data, target) in enumerate(train_loader):\n",
    "        \n",
    "        if batch_idx > 100: continue\n",
    "\n",
    "        data, target = data.to(device), target.to(device)\n",
    "        a1, a2, a3, a4 = forward_model(data)\n",
    "        s1, s2, s3 = backward_model(target, use_act_derivative=False)\n",
    "        \n",
    "        loss, l1, l2, l3, l4 = sigma_loss(a1, a2, a3, a4, s1, s2, s3, target)\n",
    "        forward_optimizer.zero_grad()\n",
    "        loss.backward()\n",
    "        gradient_centralization()\n",
    "        forward_optimizer.step()\n",
    "        \n",
    "    for batch_idx, (data, target) in enumerate(train_loader):\n",
    "        if batch_idx > 100: continue\n",
    "        a1, a2, a3, a4 = forward_model(data.to(device))\n",
    "        loss = criteria(a4, target.to(device))\n",
    "        forward_optimizer.zero_grad(), loss.backward(), forward_optimizer.step()\n",
    "        \n",
    "    # print(f'Epoch: {epoch}, Batch: {batch_idx}, Loss1: {l1*100:.1f}, Loss2: {l2*100:.1f}, Loss3: {l3*100:.1f}, Loss4: {l4:.1f}')\n",
    "    \n",
    "    forward_model.eval()\n",
    "    correct, total = 0, 0\n",
    "    with torch.no_grad():\n",
    "        for data, target in test_loader:\n",
    "            data, target = data.to(device), target.to(device)\n",
    "            _, _, _, outputs = forward_model(data)\n",
    "            _, predicted = torch.max(outputs.data, 1)\n",
    "            total += target.size(0)\n",
    "            correct += (predicted == target).sum().item()\n",
    "    print(f'Epoch: {epoch}, Test Accuracy: {100 * correct / total}%')\n",
    "    forward_model.train()\n",
    "    \n",
    "    # if epoch in [29]:\n",
    "    #     torch.save(forward_model.state_dict(), \"./saved_models/v4-30EP-F.pt\") #Epoch: 46, Test Accuracy: 98.05%; Epoch: 47, Test Accuracy: 98.16%; Epoch: 48, Test Accuracy: 98.01%; Epoch: 49, Test Accuracy: 98.13%\n",
    "    #     torch.save(backward_model.state_dict(),\"./saved_models/v4-30EP-B.pt\") #Epoch: 46, Test Accuracy: 98.05%; Epoch: 47, Test Accuracy: 98.16%; Epoch: 48, Test Accuracy: 98.01%; Epoch: 49, Test Accuracy: 98.13%"
   ]
  },
  {
   "cell_type": "code",
   "execution_count": 23,
   "metadata": {},
   "outputs": [],
   "source": [
    "s1, s2, s3 = backward_model(torch.Tensor([0,1,2,3,4,5,6,7,8,9]).long(), use_act_derivative=False)"
   ]
  },
  {
   "cell_type": "code",
   "execution_count": 24,
   "metadata": {},
   "outputs": [
    {
     "data": {
      "text/plain": [
       "tensor([3, 0, 9, 0, 9, 2, 1, 9, 3, 4, 3, 1, 3, 4, 8, 0, 9, 5, 8, 3, 4, 9, 7, 0,\n",
       "        9, 1, 4, 6, 6, 8, 9, 7])"
      ]
     },
     "execution_count": 24,
     "metadata": {},
     "output_type": "execute_result"
    }
   ],
   "source": [
    "target"
   ]
  },
  {
   "cell_type": "code",
   "execution_count": 26,
   "metadata": {},
   "outputs": [
    {
     "data": {
      "text/plain": [
       "torch.Size([32, 32, 14, 14])"
      ]
     },
     "execution_count": 26,
     "metadata": {},
     "output_type": "execute_result"
    }
   ],
   "source": [
    "s1[target].shape"
   ]
  },
  {
   "cell_type": "code",
   "execution_count": 27,
   "metadata": {},
   "outputs": [
    {
     "data": {
      "text/plain": [
       "torch.Size([10, 32, 14, 14])"
      ]
     },
     "execution_count": 27,
     "metadata": {},
     "output_type": "execute_result"
    }
   ],
   "source": [
    "s1.shape"
   ]
  },
  {
   "cell_type": "code",
   "execution_count": null,
   "metadata": {},
   "outputs": [],
   "source": []
  },
  {
   "cell_type": "code",
   "execution_count": null,
   "metadata": {},
   "outputs": [],
   "source": []
  },
  {
   "cell_type": "code",
   "execution_count": null,
   "metadata": {},
   "outputs": [],
   "source": []
  },
  {
   "cell_type": "code",
   "execution_count": null,
   "metadata": {},
   "outputs": [],
   "source": []
  },
  {
   "cell_type": "code",
   "execution_count": 73,
   "metadata": {
    "tags": []
   },
   "outputs": [],
   "source": [
    "# torch.save(forward_model.state_dict(), \"./saved_models/v4-FO-50EP.pt\") #Epoch: 46, Test Accuracy: 98.05%; Epoch: 47, Test Accuracy: 98.16%; Epoch: 48, Test Accuracy: 98.01%; Epoch: 49, Test Accuracy: 98.13%"
   ]
  },
  {
   "cell_type": "code",
   "execution_count": 74,
   "metadata": {
    "tags": []
   },
   "outputs": [
    {
     "data": {
      "text/plain": [
       "<All keys matched successfully>"
      ]
     },
     "execution_count": 74,
     "metadata": {},
     "output_type": "execute_result"
    }
   ],
   "source": []
  },
  {
   "cell_type": "code",
   "execution_count": null,
   "metadata": {},
   "outputs": [],
   "source": []
  },
  {
   "cell_type": "code",
   "execution_count": null,
   "metadata": {},
   "outputs": [],
   "source": []
  },
  {
   "cell_type": "code",
   "execution_count": null,
   "metadata": {},
   "outputs": [],
   "source": [
    "# 4 F: 1/1000: \n",
    "\n",
    "# 4 F: 1/20: Worse\n",
    "\n",
    "# 4 F: 1/200\n",
    "Epoch: 0, Test Accuracy: 95.89%\n",
    "Epoch: 1, Test Accuracy: 96.43%\n",
    "Epoch: 2, Test Accuracy: 96.97%\n",
    "Epoch: 3, Test Accuracy: 96.76%\n",
    "Epoch: 4, Test Accuracy: 96.97%\n",
    "Epoch: 5, Test Accuracy: 97.05%\n",
    "Epoch: 6, Test Accuracy: 97.3%\n",
    "Epoch: 7, Test Accuracy: 97.4%\n",
    "Epoch: 8, Test Accuracy: 97.47%\n",
    "\n",
    "\n",
    "# 2 F\n",
    "Epoch: 0, Test Accuracy: 95.86%\n",
    "Epoch: 1, Test Accuracy: 96.13%\n",
    "Epoch: 2, Test Accuracy: 96.78%\n",
    "Epoch: 3, Test Accuracy: 96.66%\n",
    "Epoch: 4, Test Accuracy: 96.78%\n",
    "Epoch: 5, Test Accuracy: 96.9%\n",
    "Epoch: 6, Test Accuracy: 97.19%\n",
    "Epoch: 7, Test Accuracy: 97.05%\n",
    "Epoch: 8, Test Accuracy: 97.1%\n",
    "\n",
    "# 2 B\n",
    "Epoch: 0, Test Accuracy: 94.32%\n",
    "Epoch: 1, Test Accuracy: 95.45%\n",
    "Epoch: 2, Test Accuracy: 96.27%\n",
    "Epoch: 3, Test Accuracy: 96.30%\n",
    "Epoch: 4, Test Accuracy: 96.11%"
   ]
  },
  {
   "cell_type": "code",
   "execution_count": null,
   "metadata": {},
   "outputs": [],
   "source": []
  },
  {
   "cell_type": "code",
   "execution_count": null,
   "metadata": {},
   "outputs": [],
   "source": []
  },
  {
   "cell_type": "code",
   "execution_count": 58,
   "metadata": {
    "tags": []
   },
   "outputs": [
    {
     "name": "stderr",
     "output_type": "stream",
     "text": [
      "100%|█████████████████████████████████████████████████████████████████████| 10/10 [00:00<00:00, 54.65it/s]\n"
     ]
    },
    {
     "name": "stdout",
     "output_type": "stream",
     "text": [
      "prediction: tensor([1, 8, 4]), tensor([ 3.2185, -0.0118, -0.0354]) groudtruth: 7\n",
      "-0.13770604 0.14404264\n",
      "-0.17468596 0.37570444\n"
     ]
    },
    {
     "data": {
      "image/png": "[encoded data removed]",
      "text/plain": [
       "<Figure size 1000x400 with 4 Axes>"
      ]
     },
     "metadata": {},
     "output_type": "display_data"
    },
    {
     "name": "stdout",
     "output_type": "stream",
     "text": [
      "prediction: tensor([5, 6, 8]), tensor([1.9273, 0.6475, 0.5179]) groudtruth: 2\n",
      "-0.12606895 0.14839247\n",
      "-0.1815933 0.2244283\n"
     ]
    },
    {
     "data": {
      "image/png": "[encoded data removed]",
      "text/plain": [
       "<Figure size 1000x400 with 4 Axes>"
      ]
     },
     "metadata": {},
     "output_type": "display_data"
    },
    {
     "ename": "AssertionError",
     "evalue": "",
     "output_type": "error",
     "traceback": [
      "\u001b[0;31m---------------------------------------------------------------------------\u001b[0m",
      "\u001b[0;31mAssertionError\u001b[0m                            Traceback (most recent call last)",
      "Cell \u001b[0;32mIn[58], line 41\u001b[0m\n\u001b[1;32m     38\u001b[0m \u001b[38;5;28;01mif\u001b[39;00m p[i1][\u001b[38;5;241m0\u001b[39m] \u001b[38;5;241m!=\u001b[39m target[i1]:\n\u001b[1;32m     40\u001b[0m     count \u001b[38;5;241m+\u001b[39m\u001b[38;5;241m=\u001b[39m \u001b[38;5;241m1\u001b[39m\n\u001b[0;32m---> 41\u001b[0m     \u001b[38;5;28;01mif\u001b[39;00m count \u001b[38;5;241m>\u001b[39m \u001b[38;5;241m2\u001b[39m: \u001b[38;5;28;01massert\u001b[39;00m \u001b[38;5;241m0\u001b[39m \u001b[38;5;241m==\u001b[39m \u001b[38;5;241m1\u001b[39m\n\u001b[1;32m     43\u001b[0m     i2 \u001b[38;5;241m=\u001b[39m \u001b[38;5;241m4\u001b[39m\n\u001b[1;32m     44\u001b[0m     \u001b[38;5;28mprint\u001b[39m(\u001b[38;5;124mf\u001b[39m\u001b[38;5;124m\"\u001b[39m\u001b[38;5;124mprediction: \u001b[39m\u001b[38;5;132;01m{\u001b[39;00mp[i1]\u001b[38;5;132;01m}\u001b[39;00m\u001b[38;5;124m, \u001b[39m\u001b[38;5;132;01m{\u001b[39;00mv[i1]\u001b[38;5;241m.\u001b[39mdetach()\u001b[38;5;132;01m}\u001b[39;00m\u001b[38;5;124m groudtruth: \u001b[39m\u001b[38;5;132;01m{\u001b[39;00mtarget[i1]\u001b[38;5;132;01m}\u001b[39;00m\u001b[38;5;124m\"\u001b[39m)\n",
      "\u001b[0;31mAssertionError\u001b[0m: "
     ]
    }
   ],
   "source": [
    "import matplotlib.pyplot as plt\n",
    "import copy\n",
    "\n",
    "# Initialize the models\n",
    "forward_model = ForwardModel(use_sigma=USE_SIGMA)\n",
    "backward_model = BackwardModel()\n",
    "forward_model_origin = copy.deepcopy(forward_model)\n",
    "backward_model_origin = copy.deepcopy(backward_model)\n",
    "\n",
    "forward_model.to(device)\n",
    "backward_model.to(device)\n",
    "\n",
    "# Define the optimizers\n",
    "forward_optimizer = optim.RMSprop(forward_model.parameters(), lr=0.01)\n",
    "backward_optimizer = optim.RMSprop(backward_model.parameters(), lr=0.001)\n",
    "criteria = nn.CrossEntropyLoss()\n",
    "\n",
    "count = 0\n",
    "for data, target in test_loader: \n",
    "            \n",
    "    for epoch in tqdm(range(10)):\n",
    "\n",
    "        data, target = data.to(device), target.to(device)\n",
    "        a1, a2, a3, a4 = forward_model(data)\n",
    "        s1, s2, s3 = backward_model(target, use_act_derivative=False)\n",
    "\n",
    "        loss = F.mse_loss(normal(a1), normal(s1))\n",
    "        forward_optimizer.zero_grad(), backward_optimizer.zero_grad()\n",
    "        loss.backward()\n",
    "        clip_grad_norm_(backward_model.parameters(), 0.1), forward_optimizer.step(), backward_optimizer.step()\n",
    "\n",
    "    a1_origin, a2, a3, a4 = forward_model_origin(data)\n",
    "    s1_origin, s2, s3 = backward_model_origin(target, use_act_derivative=False)\n",
    "    \n",
    "    count = 0\n",
    "    for i1 in range(16):\n",
    "\n",
    "        if p[i1][0] != target[i1]:\n",
    "            \n",
    "            count += 1\n",
    "            if count > 2: assert 0 == 1\n",
    "\n",
    "            i2 = 4\n",
    "            print(f\"prediction: {p[i1]}, {v[i1].detach()} groudtruth: {target[i1]}\")\n",
    "\n",
    "            # plt.figure(\n",
    "            fig, axes = plt.subplots(1,4,figsize=(10,4))\n",
    "\n",
    "            X = a1.detach().cpu().numpy()\n",
    "            axes[0].imshow(X[i1,i2], vmin=-1, vmax=1)\n",
    "\n",
    "            X = a1_origin.detach().cpu().numpy()\n",
    "            axes[1].imshow(X[i1,i2], vmin=-1, vmax=1)\n",
    "\n",
    "            X = s1_origin.detach().cpu().numpy()\n",
    "            print(X[i1,i2].min(), X[i1,i2].max())\n",
    "            axes[2].imshow(X[i1,i2], vmin=-0.03, vmax=0.03)\n",
    "\n",
    "            X = s1.detach().cpu().numpy()\n",
    "            print(X[i1,i2].min(), X[i1,i2].max())\n",
    "            axes[3].imshow(X[i1,i2], vmin=-0.03, vmax=0.03)\n",
    "\n",
    "            plt.pause(0.2)\n",
    "            \n",
    "    break"
   ]
  },
  {
   "cell_type": "code",
   "execution_count": 28,
   "metadata": {
    "tags": []
   },
   "outputs": [
    {
     "data": {
      "text/plain": [
       "tensor([[[[ 0.0500,  0.0500,  0.0500,  ...,  0.0500,  0.0500,  0.0500],\n",
       "          [ 0.0500,  0.0500,  0.0500,  ...,  0.0500,  0.0500,  0.0500],\n",
       "          [ 0.0500,  0.0500,  0.0500,  ...,  0.0500,  0.0500,  0.0500],\n",
       "          ...,\n",
       "          [ 0.0500,  0.0500,  0.0500,  ...,  0.0500,  0.0500,  0.0500],\n",
       "          [ 0.0500,  0.0500,  0.0500,  ...,  0.0500,  0.0500,  0.0500],\n",
       "          [ 0.0500,  0.0500,  0.0500,  ...,  0.0500,  0.0500,  0.0500]],\n",
       "\n",
       "         [[ 0.0230,  0.0041,  0.0041,  ...,  0.0041,  0.0041, -0.0012],\n",
       "          [ 0.0230,  0.0041,  0.0041,  ...,  0.0041,  0.0041,  0.0041],\n",
       "          [ 0.0230,  0.0041,  0.0041,  ...,  0.0041,  0.0041,  0.0041],\n",
       "          ...,\n",
       "          [ 0.0230,  0.0041,  0.0041,  ...,  0.0041,  0.0041,  0.0041],\n",
       "          [ 0.0230,  0.0041,  0.0041,  ...,  0.0041,  0.0041,  0.0041],\n",
       "          [ 0.0221,  0.0148,  0.0148,  ...,  0.0148,  0.0148,  0.0148]],\n",
       "\n",
       "         [[ 0.0051,  0.0054,  0.0054,  ...,  0.0054,  0.0054,  0.0054],\n",
       "          [ 0.0111,  0.0165,  0.0165,  ...,  0.0165,  0.0165,  0.0060],\n",
       "          [ 0.0111,  0.0165,  0.0165,  ...,  0.0165,  0.0165,  0.0060],\n",
       "          ...,\n",
       "          [ 0.0111,  0.0165,  0.0165,  ...,  0.0165,  0.0165,  0.0060],\n",
       "          [ 0.0111,  0.0165,  0.0165,  ...,  0.0165,  0.0165,  0.0060],\n",
       "          [ 0.0111,  0.0165,  0.0165,  ...,  0.0165,  0.0165,  0.0060]],\n",
       "\n",
       "         ...,\n",
       "\n",
       "         [[ 0.0148,  0.0086,  0.0086,  ...,  0.0086,  0.0086,  0.0278],\n",
       "          [ 0.0148,  0.0202,  0.0202,  ...,  0.0202,  0.0202,  0.0278],\n",
       "          [ 0.0148,  0.0202,  0.0202,  ...,  0.0202,  0.0202,  0.0278],\n",
       "          ...,\n",
       "          [ 0.0148,  0.0202,  0.0202,  ...,  0.0202,  0.0202,  0.0278],\n",
       "          [ 0.0148,  0.0202,  0.0202,  ...,  0.0202,  0.0202,  0.0278],\n",
       "          [ 0.0195,  0.0211,  0.0211,  ...,  0.0211,  0.0211,  0.0215]],\n",
       "\n",
       "         [[ 0.0037,  0.0095,  0.0095,  ...,  0.0095,  0.0095,  0.0095],\n",
       "          [ 0.0048,  0.0097,  0.0097,  ...,  0.0097,  0.0097,  0.0097],\n",
       "          [ 0.0048,  0.0097,  0.0097,  ...,  0.0097,  0.0097,  0.0097],\n",
       "          ...,\n",
       "          [ 0.0048,  0.0097,  0.0097,  ...,  0.0097,  0.0097,  0.0097],\n",
       "          [ 0.0048,  0.0097,  0.0097,  ...,  0.0097,  0.0097,  0.0097],\n",
       "          [ 0.0140,  0.0140,  0.0140,  ...,  0.0140,  0.0140,  0.0140]],\n",
       "\n",
       "         [[ 0.0293,  0.0357,  0.0357,  ...,  0.0357,  0.0357,  0.0357],\n",
       "          [ 0.0283,  0.0283,  0.0283,  ...,  0.0283,  0.0283,  0.0283],\n",
       "          [ 0.0283,  0.0283,  0.0283,  ...,  0.0283,  0.0283,  0.0283],\n",
       "          ...,\n",
       "          [ 0.0283,  0.0283,  0.0283,  ...,  0.0283,  0.0283,  0.0283],\n",
       "          [ 0.0283,  0.0283,  0.0283,  ...,  0.0283,  0.0283,  0.0283],\n",
       "          [ 0.0283,  0.0283,  0.0283,  ...,  0.0283,  0.0283,  0.0283]]],\n",
       "\n",
       "\n",
       "        [[[ 0.0678,  0.0678,  0.0678,  ...,  0.0678,  0.0678,  0.0678],\n",
       "          [ 0.0678,  0.0678,  0.0678,  ...,  0.0678,  0.0678,  0.0678],\n",
       "          [ 0.0678,  0.0678,  0.0678,  ...,  0.0678,  0.0678,  0.0678],\n",
       "          ...,\n",
       "          [ 0.0678,  0.0678,  0.0678,  ...,  0.0678,  0.0678,  0.0678],\n",
       "          [ 0.0678,  0.0678,  0.0678,  ...,  0.0678,  0.0678,  0.0678],\n",
       "          [ 0.0678,  0.0678,  0.0678,  ...,  0.0678,  0.0678,  0.0678]],\n",
       "\n",
       "         [[ 0.0363,  0.0070,  0.0070,  ...,  0.0070,  0.0070,  0.0004],\n",
       "          [ 0.0363,  0.0070,  0.0070,  ...,  0.0070,  0.0070,  0.0070],\n",
       "          [ 0.0363,  0.0070,  0.0070,  ...,  0.0070,  0.0070,  0.0070],\n",
       "          ...,\n",
       "          [ 0.0363,  0.0070,  0.0070,  ..., -0.0672, -0.0503,  0.0090],\n",
       "          [ 0.0363,  0.0070,  0.0070,  ...,  0.0070,  0.0070,  0.0070],\n",
       "          [ 0.0360,  0.0249,  0.0249,  ...,  0.0249,  0.0249,  0.0249]],\n",
       "\n",
       "         [[ 0.0091,  0.0083,  0.0083,  ...,  0.0083,  0.0083,  0.0083],\n",
       "          [ 0.0166,  0.0223,  0.0223,  ...,  0.0223,  0.0223,  0.0090],\n",
       "          [ 0.0166,  0.0223,  0.0223,  ...,  0.0223,  0.0223,  0.0090],\n",
       "          ...,\n",
       "          [ 0.0166,  0.0223,  0.0223,  ..., -0.0702, -0.0345,  0.0090],\n",
       "          [ 0.0166,  0.0223,  0.0223,  ...,  0.0223,  0.0223,  0.0090],\n",
       "          [ 0.0166,  0.0223,  0.0223,  ...,  0.0223,  0.0223,  0.0090]],\n",
       "\n",
       "         ...,\n",
       "\n",
       "         [[ 0.0188,  0.0099,  0.0099,  ...,  0.0099,  0.0099,  0.0372],\n",
       "          [ 0.0188,  0.0244,  0.0244,  ...,  0.0244,  0.0244,  0.0372],\n",
       "          [ 0.0188,  0.0244,  0.0244,  ...,  0.0244,  0.0244,  0.0372],\n",
       "          ...,\n",
       "          [ 0.0188,  0.0244,  0.0244,  ..., -0.0514, -0.0278,  0.0326],\n",
       "          [ 0.0188,  0.0244,  0.0244,  ...,  0.0244,  0.0244,  0.0372],\n",
       "          [ 0.0266,  0.0276,  0.0276,  ...,  0.0276,  0.0276,  0.0292]],\n",
       "\n",
       "         [[ 0.0098,  0.0146,  0.0146,  ...,  0.0146,  0.0146,  0.0146],\n",
       "          [ 0.0100,  0.0150,  0.0150,  ...,  0.0150,  0.0150,  0.0150],\n",
       "          [ 0.0100,  0.0150,  0.0150,  ...,  0.0150,  0.0150,  0.0150],\n",
       "          ...,\n",
       "          [ 0.0100,  0.0150,  0.0150,  ...,  0.0150,  0.0150,  0.0150],\n",
       "          [ 0.0100,  0.0150,  0.0150,  ...,  0.0150,  0.0150,  0.0150],\n",
       "          [ 0.0236,  0.0236,  0.0236,  ...,  0.0236,  0.0236,  0.0236]],\n",
       "\n",
       "         [[ 0.0374,  0.0457,  0.0457,  ...,  0.0457,  0.0457,  0.0457],\n",
       "          [ 0.0344,  0.0344,  0.0344,  ...,  0.0344,  0.0344,  0.0354],\n",
       "          [ 0.0344,  0.0344,  0.0344,  ...,  0.0344,  0.0344,  0.0354],\n",
       "          ...,\n",
       "          [ 0.0344,  0.0344,  0.0344,  ...,  0.0679,  0.0470,  0.0354],\n",
       "          [ 0.0344,  0.0344,  0.0344,  ...,  0.0344,  0.0344,  0.0354],\n",
       "          [ 0.0344,  0.0344,  0.0344,  ...,  0.0344,  0.0344,  0.0354]]],\n",
       "\n",
       "\n",
       "        [[[ 0.0362,  0.0362,  0.0362,  ...,  0.0362,  0.0362,  0.0362],\n",
       "          [ 0.0362,  0.0362,  0.0362,  ...,  0.0362,  0.0362,  0.0362],\n",
       "          [ 0.0362,  0.0362,  0.0362,  ...,  0.0362,  0.0362,  0.0362],\n",
       "          ...,\n",
       "          [ 0.0362,  0.0362,  0.0362,  ...,  0.0362,  0.0362,  0.0362],\n",
       "          [ 0.0362,  0.0362,  0.0362,  ...,  0.0362,  0.0362,  0.0362],\n",
       "          [ 0.0362,  0.0362,  0.0362,  ...,  0.0362,  0.0362,  0.0362]],\n",
       "\n",
       "         [[ 0.0119,  0.0010,  0.0010,  ...,  0.0010,  0.0010, -0.0030],\n",
       "          [ 0.0119,  0.0010,  0.0010,  ...,  0.0010,  0.0010,  0.0010],\n",
       "          [ 0.0119,  0.0010,  0.0010,  ...,  0.0010,  0.0010,  0.0010],\n",
       "          ...,\n",
       "          [ 0.0119,  0.0010,  0.0010,  ...,  0.0010,  0.0010,  0.0010],\n",
       "          [ 0.0119,  0.0010,  0.0010,  ...,  0.0010,  0.0010,  0.0010],\n",
       "          [ 0.0107,  0.0063,  0.0063,  ...,  0.0063,  0.0063,  0.0063]],\n",
       "\n",
       "         [[ 0.0022,  0.0031,  0.0031,  ...,  0.0031,  0.0031,  0.0031],\n",
       "          [ 0.0067,  0.0114,  0.0114,  ...,  0.0114,  0.0114,  0.0037],\n",
       "          [ 0.0067,  0.0114,  0.0114,  ...,  0.0114,  0.0114,  0.0037],\n",
       "          ...,\n",
       "          [ 0.0067,  0.0114,  0.0114,  ...,  0.0114,  0.0114,  0.0037],\n",
       "          [ 0.0067,  0.0114,  0.0114,  ...,  0.0114,  0.0114,  0.0037],\n",
       "          [ 0.0067,  0.0114,  0.0114,  ...,  0.0114,  0.0114,  0.0037]],\n",
       "\n",
       "         ...,\n",
       "\n",
       "         [[ 0.0118,  0.0079,  0.0079,  ...,  0.0079,  0.0079,  0.0203],\n",
       "          [ 0.0118,  0.0166,  0.0166,  ...,  0.0166,  0.0166,  0.0203],\n",
       "          [ 0.0118,  0.0166,  0.0166,  ...,  0.0166,  0.0166,  0.0203],\n",
       "          ...,\n",
       "          [ 0.0118,  0.0166,  0.0166,  ...,  0.0166,  0.0166,  0.0203],\n",
       "          [ 0.0118,  0.0166,  0.0166,  ...,  0.0166,  0.0166,  0.0203],\n",
       "          [ 0.0143,  0.0160,  0.0160,  ...,  0.0160,  0.0160,  0.0156]],\n",
       "\n",
       "         [[-0.0012,  0.0045,  0.0045,  ...,  0.0045,  0.0045,  0.0045],\n",
       "          [ 0.0003,  0.0048,  0.0048,  ...,  0.0048,  0.0048,  0.0048],\n",
       "          [ 0.0003,  0.0048,  0.0048,  ...,  0.0048,  0.0048,  0.0048],\n",
       "          ...,\n",
       "          [ 0.0003,  0.0048,  0.0048,  ...,  0.0048,  0.0048,  0.0048],\n",
       "          [ 0.0003,  0.0048,  0.0048,  ...,  0.0048,  0.0048,  0.0048],\n",
       "          [ 0.0060,  0.0060,  0.0060,  ...,  0.0060,  0.0060,  0.0060]],\n",
       "\n",
       "         [[ 0.0237,  0.0282,  0.0282,  ...,  0.0282,  0.0282,  0.0282],\n",
       "          [ 0.0239,  0.0239,  0.0239,  ...,  0.0239,  0.0239,  0.0232],\n",
       "          [ 0.0239,  0.0239,  0.0239,  ...,  0.0239,  0.0239,  0.0232],\n",
       "          ...,\n",
       "          [ 0.0239,  0.0239,  0.0239,  ...,  0.0239,  0.0239,  0.0232],\n",
       "          [ 0.0239,  0.0239,  0.0239,  ...,  0.0239,  0.0239,  0.0232],\n",
       "          [ 0.0239,  0.0239,  0.0239,  ...,  0.0239,  0.0239,  0.0232]]],\n",
       "\n",
       "\n",
       "        ...,\n",
       "\n",
       "\n",
       "        [[[ 0.0431,  0.0431,  0.0431,  ...,  0.0431,  0.0431,  0.0431],\n",
       "          [ 0.0431,  0.0431,  0.0431,  ...,  0.0431,  0.0431,  0.0431],\n",
       "          [ 0.0431,  0.0431,  0.0431,  ...,  0.0431,  0.0431,  0.0431],\n",
       "          ...,\n",
       "          [ 0.0431,  0.0431,  0.0431,  ...,  0.0431,  0.0431,  0.0431],\n",
       "          [ 0.0431,  0.0431,  0.0431,  ...,  0.0431,  0.0431,  0.0431],\n",
       "          [ 0.0431,  0.0431,  0.0431,  ...,  0.0431,  0.0431,  0.0431]],\n",
       "\n",
       "         [[ 0.0162,  0.0017,  0.0017,  ...,  0.0017,  0.0017, -0.0027],\n",
       "          [ 0.0162,  0.0017,  0.0017,  ...,  0.0017,  0.0017,  0.0017],\n",
       "          [ 0.0162,  0.0017,  0.0017,  ...,  0.0017,  0.0017,  0.0017],\n",
       "          ...,\n",
       "          [ 0.0162,  0.0017,  0.0017,  ...,  0.0017,  0.0017,  0.0017],\n",
       "          [ 0.0162,  0.0017,  0.0017,  ...,  0.0017,  0.0017,  0.0017],\n",
       "          [ 0.0156,  0.0095,  0.0095,  ...,  0.0095,  0.0095,  0.0095]],\n",
       "\n",
       "         [[ 0.0035,  0.0040,  0.0040,  ...,  0.0040,  0.0040,  0.0040],\n",
       "          [ 0.0084,  0.0132,  0.0132,  ...,  0.0132,  0.0132,  0.0045],\n",
       "          [ 0.0084,  0.0132,  0.0132,  ...,  0.0132,  0.0132,  0.0045],\n",
       "          ...,\n",
       "          [ 0.0084,  0.0132,  0.0132,  ...,  0.0132,  0.0132,  0.0045],\n",
       "          [ 0.0084,  0.0132,  0.0132,  ...,  0.0132,  0.0132,  0.0045],\n",
       "          [ 0.0084,  0.0132,  0.0132,  ...,  0.0132,  0.0132,  0.0045]],\n",
       "\n",
       "         ...,\n",
       "\n",
       "         [[ 0.0131,  0.0082,  0.0082,  ...,  0.0082,  0.0082,  0.0233],\n",
       "          [ 0.0131,  0.0179,  0.0179,  ...,  0.0179,  0.0179,  0.0233],\n",
       "          [ 0.0131,  0.0179,  0.0179,  ...,  0.0179,  0.0179,  0.0233],\n",
       "          ...,\n",
       "          [ 0.0131,  0.0179,  0.0179,  ...,  0.0179,  0.0179,  0.0233],\n",
       "          [ 0.0131,  0.0179,  0.0179,  ...,  0.0179,  0.0179,  0.0233],\n",
       "          [ 0.0168,  0.0181,  0.0181,  ...,  0.0181,  0.0181,  0.0183]],\n",
       "\n",
       "         [[ 0.0008,  0.0060,  0.0061,  ...,  0.0061,  0.0060,  0.0060],\n",
       "          [ 0.0019,  0.0063,  0.0063,  ...,  0.0063,  0.0063,  0.0063],\n",
       "          [ 0.0019,  0.0063,  0.0063,  ...,  0.0063,  0.0063,  0.0063],\n",
       "          ...,\n",
       "          [ 0.0019,  0.0063,  0.0063,  ...,  0.0063,  0.0063,  0.0063],\n",
       "          [ 0.0019,  0.0063,  0.0063,  ...,  0.0063,  0.0063,  0.0063],\n",
       "          [ 0.0090,  0.0090,  0.0090,  ...,  0.0090,  0.0090,  0.0090]],\n",
       "\n",
       "         [[ 0.0267,  0.0317,  0.0317,  ...,  0.0317,  0.0317,  0.0317],\n",
       "          [ 0.0259,  0.0259,  0.0259,  ...,  0.0259,  0.0259,  0.0257],\n",
       "          [ 0.0259,  0.0259,  0.0259,  ...,  0.0259,  0.0259,  0.0257],\n",
       "          ...,\n",
       "          [ 0.0259,  0.0259,  0.0259,  ...,  0.0259,  0.0259,  0.0257],\n",
       "          [ 0.0259,  0.0259,  0.0259,  ...,  0.0259,  0.0259,  0.0257],\n",
       "          [ 0.0259,  0.0259,  0.0259,  ...,  0.0259,  0.0259,  0.0257]]],\n",
       "\n",
       "\n",
       "        [[[ 0.0644,  0.0644,  0.0644,  ...,  0.0644,  0.0644,  0.0644],\n",
       "          [ 0.0644,  0.0644,  0.0644,  ...,  0.0644,  0.0644,  0.0644],\n",
       "          [ 0.0644,  0.0644,  0.0644,  ...,  0.0644,  0.0644,  0.0644],\n",
       "          ...,\n",
       "          [ 0.0644,  0.0644,  0.0644,  ...,  0.0644,  0.0644,  0.0644],\n",
       "          [ 0.0644,  0.0644,  0.0644,  ...,  0.0644,  0.0644,  0.0644],\n",
       "          [ 0.0644,  0.0644,  0.0644,  ...,  0.0644,  0.0644,  0.0644]],\n",
       "\n",
       "         [[ 0.0320,  0.0048,  0.0048,  ...,  0.0048,  0.0048, -0.0013],\n",
       "          [ 0.0320,  0.0048,  0.0048,  ...,  0.0048,  0.0048,  0.0048],\n",
       "          [ 0.0320,  0.0048,  0.0048,  ...,  0.0048,  0.0048,  0.0048],\n",
       "          ...,\n",
       "          [ 0.0320,  0.0048,  0.0048,  ...,  0.0048,  0.0048,  0.0048],\n",
       "          [ 0.0320,  0.0048,  0.0048,  ...,  0.0048,  0.0048,  0.0048],\n",
       "          [ 0.0324,  0.0213,  0.0213,  ...,  0.0213,  0.0213,  0.0213]],\n",
       "\n",
       "         [[ 0.0076,  0.0067,  0.0067,  ...,  0.0067,  0.0067,  0.0067],\n",
       "          [ 0.0143,  0.0195,  0.0195,  ...,  0.0195,  0.0195,  0.0074],\n",
       "          [ 0.0143,  0.0195,  0.0195,  ...,  0.0195,  0.0195,  0.0074],\n",
       "          ...,\n",
       "          [ 0.0143,  0.0195,  0.0195,  ...,  0.0195,  0.0195,  0.0074],\n",
       "          [ 0.0143,  0.0195,  0.0195,  ...,  0.0195,  0.0195,  0.0074],\n",
       "          [ 0.0143,  0.0195,  0.0195,  ...,  0.0195,  0.0195,  0.0074]],\n",
       "\n",
       "         ...,\n",
       "\n",
       "         [[ 0.0169,  0.0087,  0.0087,  ...,  0.0087,  0.0087,  0.0339],\n",
       "          [ 0.0169,  0.0221,  0.0221,  ...,  0.0221,  0.0221,  0.0339],\n",
       "          [ 0.0169,  0.0221,  0.0221,  ...,  0.0221,  0.0221,  0.0339],\n",
       "          ...,\n",
       "          [ 0.0169,  0.0221,  0.0221,  ...,  0.0221,  0.0221,  0.0339],\n",
       "          [ 0.0169,  0.0221,  0.0221,  ...,  0.0221,  0.0221,  0.0339],\n",
       "          [ 0.0245,  0.0251,  0.0251,  ...,  0.0251,  0.0251,  0.0268]],\n",
       "\n",
       "         [[ 0.0077,  0.0119,  0.0119,  ...,  0.0119,  0.0119,  0.0119],\n",
       "          [ 0.0077,  0.0123,  0.0123,  ...,  0.0123,  0.0123,  0.0123],\n",
       "          [ 0.0077,  0.0123,  0.0123,  ...,  0.0123,  0.0123,  0.0123],\n",
       "          ...,\n",
       "          [ 0.0077,  0.0123,  0.0123,  ...,  0.0123,  0.0123,  0.0123],\n",
       "          [ 0.0077,  0.0123,  0.0123,  ...,  0.0123,  0.0123,  0.0123],\n",
       "          [ 0.0202,  0.0202,  0.0202,  ...,  0.0202,  0.0202,  0.0202]],\n",
       "\n",
       "         [[ 0.0354,  0.0428,  0.0428,  ...,  0.0428,  0.0428,  0.0428],\n",
       "          [ 0.0320,  0.0320,  0.0320,  ...,  0.0320,  0.0320,  0.0331],\n",
       "          [ 0.0320,  0.0320,  0.0320,  ...,  0.0320,  0.0320,  0.0331],\n",
       "          ...,\n",
       "          [ 0.0320,  0.0320,  0.0320,  ...,  0.0320,  0.0320,  0.0331],\n",
       "          [ 0.0320,  0.0320,  0.0320,  ...,  0.0320,  0.0320,  0.0331],\n",
       "          [ 0.0320,  0.0320,  0.0320,  ...,  0.0320,  0.0320,  0.0331]]],\n",
       "\n",
       "\n",
       "        [[[ 0.0400,  0.0400,  0.0400,  ...,  0.0400,  0.0400,  0.0400],\n",
       "          [ 0.0400,  0.0400,  0.0400,  ...,  0.0400,  0.0400,  0.0400],\n",
       "          [ 0.0400,  0.0400,  0.0400,  ...,  0.0400,  0.0400,  0.0400],\n",
       "          ...,\n",
       "          [ 0.0400,  0.0400,  0.0400,  ...,  0.0400,  0.0400,  0.0400],\n",
       "          [ 0.0400,  0.0400,  0.0400,  ...,  0.0400,  0.0400,  0.0400],\n",
       "          [ 0.0400,  0.0400,  0.0400,  ...,  0.0400,  0.0400,  0.0400]],\n",
       "\n",
       "         [[ 0.0139,  0.0014,  0.0014,  ...,  0.0014,  0.0014, -0.0028],\n",
       "          [ 0.0139,  0.0014,  0.0014,  ...,  0.0014,  0.0014,  0.0014],\n",
       "          [ 0.0139,  0.0014,  0.0014,  ...,  0.0014,  0.0014,  0.0014],\n",
       "          ...,\n",
       "          [ 0.0139,  0.0014,  0.0014,  ...,  0.0014,  0.0014,  0.0014],\n",
       "          [ 0.0139,  0.0014,  0.0014,  ...,  0.0014,  0.0014,  0.0014],\n",
       "          [ 0.0131,  0.0078,  0.0078,  ...,  0.0078,  0.0078,  0.0078]],\n",
       "\n",
       "         [[ 0.0031,  0.0038,  0.0038,  ...,  0.0038,  0.0038,  0.0038],\n",
       "          [ 0.0078,  0.0124,  0.0124,  ...,  0.0124,  0.0124,  0.0043],\n",
       "          [ 0.0078,  0.0124,  0.0124,  ...,  0.0124,  0.0124,  0.0043],\n",
       "          ...,\n",
       "          [ 0.0078,  0.0124,  0.0124,  ...,  0.0124,  0.0124,  0.0043],\n",
       "          [ 0.0078,  0.0124,  0.0124,  ...,  0.0124,  0.0124,  0.0043],\n",
       "          [ 0.0078,  0.0124,  0.0124,  ...,  0.0124,  0.0124,  0.0043]],\n",
       "\n",
       "         ...,\n",
       "\n",
       "         [[ 0.0128,  0.0085,  0.0085,  ...,  0.0085,  0.0085,  0.0220],\n",
       "          [ 0.0128,  0.0176,  0.0176,  ...,  0.0176,  0.0176,  0.0220],\n",
       "          [ 0.0128,  0.0176,  0.0176,  ...,  0.0176,  0.0176,  0.0220],\n",
       "          ...,\n",
       "          [ 0.0128,  0.0176,  0.0176,  ...,  0.0176,  0.0176,  0.0220],\n",
       "          [ 0.0128,  0.0176,  0.0176,  ...,  0.0176,  0.0176,  0.0220],\n",
       "          [ 0.0158,  0.0173,  0.0173,  ...,  0.0173,  0.0173,  0.0173]],\n",
       "\n",
       "         [[-0.0002,  0.0053,  0.0053,  ...,  0.0053,  0.0053,  0.0053],\n",
       "          [ 0.0011,  0.0055,  0.0055,  ...,  0.0055,  0.0055,  0.0055],\n",
       "          [ 0.0011,  0.0055,  0.0055,  ...,  0.0055,  0.0055,  0.0055],\n",
       "          ...,\n",
       "          [ 0.0011,  0.0055,  0.0055,  ...,  0.0055,  0.0055,  0.0055],\n",
       "          [ 0.0011,  0.0055,  0.0055,  ...,  0.0055,  0.0055,  0.0055],\n",
       "          [ 0.0075,  0.0075,  0.0075,  ...,  0.0075,  0.0075,  0.0075]],\n",
       "\n",
       "         [[ 0.0257,  0.0304,  0.0304,  ...,  0.0304,  0.0304,  0.0304],\n",
       "          [ 0.0253,  0.0253,  0.0253,  ...,  0.0253,  0.0253,  0.0249],\n",
       "          [ 0.0253,  0.0253,  0.0253,  ...,  0.0253,  0.0253,  0.0249],\n",
       "          ...,\n",
       "          [ 0.0253,  0.0253,  0.0253,  ...,  0.0253,  0.0253,  0.0249],\n",
       "          [ 0.0253,  0.0253,  0.0253,  ...,  0.0253,  0.0253,  0.0249],\n",
       "          [ 0.0253,  0.0253,  0.0253,  ...,  0.0253,  0.0253,  0.0249]]]],\n",
       "       grad_fn=<SubBackward0>)"
      ]
     },
     "execution_count": 28,
     "metadata": {},
     "output_type": "execute_result"
    }
   ],
   "source": [
    "a1_origin - a1"
   ]
  },
  {
   "cell_type": "code",
   "execution_count": 35,
   "metadata": {
    "tags": []
   },
   "outputs": [
    {
     "name": "stdout",
     "output_type": "stream",
     "text": [
      "prediction: tensor([4, 9, 5]), tensor([1.7269, 0.7026, 0.2557]) groudtruth: 9\n",
      "-0.12536722 0.14113326\n"
     ]
    },
    {
     "data": {
      "text/plain": [
       "<Figure size 640x480 with 0 Axes>"
      ]
     },
     "metadata": {},
     "output_type": "display_data"
    },
    {
     "data": {
      "image/png": "[encoded data removed]",
      "text/plain": [
       "<Figure size 640x480 with 2 Axes>"
      ]
     },
     "metadata": {},
     "output_type": "display_data"
    },
    {
     "name": "stdout",
     "output_type": "stream",
     "text": [
      "prediction: tensor([4, 8, 5]), tensor([2.0584, 1.1189, 0.9110]) groudtruth: 8\n",
      "-0.13307512 0.108511195\n"
     ]
    },
    {
     "data": {
      "text/plain": [
       "<Figure size 640x480 with 0 Axes>"
      ]
     },
     "metadata": {},
     "output_type": "display_data"
    },
    {
     "data": {
      "image/png": "[encoded data removed]",
      "text/plain": [
       "<Figure size 640x480 with 2 Axes>"
      ]
     },
     "metadata": {},
     "output_type": "display_data"
    },
    {
     "name": "stdout",
     "output_type": "stream",
     "text": [
      "prediction: tensor([1, 9, 8]), tensor([1.8528, 0.7987, 0.6620]) groudtruth: 9\n",
      "-0.12536722 0.14113326\n"
     ]
    },
    {
     "data": {
      "text/plain": [
       "<Figure size 640x480 with 0 Axes>"
      ]
     },
     "metadata": {},
     "output_type": "display_data"
    },
    {
     "data": {
      "image/png": "[encoded data removed]",
      "text/plain": [
       "<Figure size 640x480 with 2 Axes>"
      ]
     },
     "metadata": {},
     "output_type": "display_data"
    },
    {
     "name": "stdout",
     "output_type": "stream",
     "text": [
      "prediction: tensor([7, 2, 8]), tensor([1.5766, 0.8358, 0.6113]) groudtruth: 2\n",
      "-0.13416696 0.13929161\n"
     ]
    },
    {
     "data": {
      "text/plain": [
       "<Figure size 640x480 with 0 Axes>"
      ]
     },
     "metadata": {},
     "output_type": "display_data"
    },
    {
     "data": {
      "image/png": "[encoded data removed]",
      "text/plain": [
       "<Figure size 640x480 with 2 Axes>"
      ]
     },
     "metadata": {},
     "output_type": "display_data"
    },
    {
     "name": "stdout",
     "output_type": "stream",
     "text": [
      "prediction: tensor([0, 5, 3]), tensor([1.4409, 1.1503, 0.8047]) groudtruth: 5\n",
      "-0.108252764 0.115026645\n"
     ]
    },
    {
     "data": {
      "text/plain": [
       "<Figure size 640x480 with 0 Axes>"
      ]
     },
     "metadata": {},
     "output_type": "display_data"
    },
    {
     "data": {
      "image/png": "[encoded data removed]",
      "text/plain": [
       "<Figure size 640x480 with 2 Axes>"
      ]
     },
     "metadata": {},
     "output_type": "display_data"
    },
    {
     "name": "stdout",
     "output_type": "stream",
     "text": [
      "prediction: tensor([7, 2, 3]), tensor([1.6792, 1.6307, 0.9278]) groudtruth: 2\n",
      "-0.13416696 0.13929161\n"
     ]
    },
    {
     "data": {
      "text/plain": [
       "<Figure size 640x480 with 0 Axes>"
      ]
     },
     "metadata": {},
     "output_type": "display_data"
    },
    {
     "data": {
      "image/png": "[encoded data removed]",
      "text/plain": [
       "<Figure size 640x480 with 2 Axes>"
      ]
     },
     "metadata": {},
     "output_type": "display_data"
    },
    {
     "name": "stdout",
     "output_type": "stream",
     "text": [
      "prediction: tensor([8, 4, 9]), tensor([1.3972, 0.6974, 0.6929]) groudtruth: 9\n",
      "-0.12536722 0.14113326\n"
     ]
    },
    {
     "data": {
      "text/plain": [
       "<Figure size 640x480 with 0 Axes>"
      ]
     },
     "metadata": {},
     "output_type": "display_data"
    },
    {
     "data": {
      "image/png": "[encoded data removed]",
      "text/plain": [
       "<Figure size 640x480 with 2 Axes>"
      ]
     },
     "metadata": {},
     "output_type": "display_data"
    },
    {
     "name": "stdout",
     "output_type": "stream",
     "text": [
      "prediction: tensor([5, 3, 2]), tensor([2.0264, 1.3196, 0.0640]) groudtruth: 3\n",
      "-0.15071231 0.12977618\n"
     ]
    },
    {
     "data": {
      "text/plain": [
       "<Figure size 640x480 with 0 Axes>"
      ]
     },
     "metadata": {},
     "output_type": "display_data"
    },
    {
     "data": {
      "image/png": "[encoded data removed]",
      "text/plain": [
       "<Figure size 640x480 with 2 Axes>"
      ]
     },
     "metadata": {},
     "output_type": "display_data"
    },
    {
     "name": "stdout",
     "output_type": "stream",
     "text": [
      "prediction: tensor([6, 8, 0]), tensor([1.1625, 0.9713, 0.9395]) groudtruth: 8\n",
      "-0.13307512 0.108511195\n"
     ]
    },
    {
     "data": {
      "text/plain": [
       "<Figure size 640x480 with 0 Axes>"
      ]
     },
     "metadata": {},
     "output_type": "display_data"
    },
    {
     "data": {
      "image/png": "[encoded data removed]",
      "text/plain": [
       "<Figure size 640x480 with 2 Axes>"
      ]
     },
     "metadata": {},
     "output_type": "display_data"
    },
    {
     "name": "stdout",
     "output_type": "stream",
     "text": [
      "prediction: tensor([9, 7, 4]), tensor([1.3727, 1.3516, 0.4317]) groudtruth: 7\n",
      "-0.124035954 0.14298427\n"
     ]
    },
    {
     "data": {
      "text/plain": [
       "<Figure size 640x480 with 0 Axes>"
      ]
     },
     "metadata": {},
     "output_type": "display_data"
    },
    {
     "data": {
      "image/png": "[encoded data removed]",
      "text/plain": [
       "<Figure size 640x480 with 2 Axes>"
      ]
     },
     "metadata": {},
     "output_type": "display_data"
    },
    {
     "ename": "AssertionError",
     "evalue": "",
     "output_type": "error",
     "traceback": [
      "\u001b[0;31m---------------------------------------------------------------------------\u001b[0m",
      "\u001b[0;31mAssertionError\u001b[0m                            Traceback (most recent call last)",
      "Cell \u001b[0;32mIn[35], line 17\u001b[0m\n\u001b[1;32m     14\u001b[0m \u001b[38;5;28;01mif\u001b[39;00m p[i1][\u001b[38;5;241m0\u001b[39m] \u001b[38;5;241m!=\u001b[39m target[i1]:\n\u001b[1;32m     16\u001b[0m     count \u001b[38;5;241m+\u001b[39m\u001b[38;5;241m=\u001b[39m \u001b[38;5;241m1\u001b[39m\n\u001b[0;32m---> 17\u001b[0m     \u001b[38;5;28;01mif\u001b[39;00m count \u001b[38;5;241m>\u001b[39m \u001b[38;5;241m10\u001b[39m: \u001b[38;5;28;01massert\u001b[39;00m \u001b[38;5;241m0\u001b[39m \u001b[38;5;241m==\u001b[39m \u001b[38;5;241m1\u001b[39m\n\u001b[1;32m     19\u001b[0m     i2 \u001b[38;5;241m=\u001b[39m \u001b[38;5;241m3\u001b[39m\n\u001b[1;32m     20\u001b[0m     \u001b[38;5;28mprint\u001b[39m(\u001b[38;5;124mf\u001b[39m\u001b[38;5;124m\"\u001b[39m\u001b[38;5;124mprediction: \u001b[39m\u001b[38;5;132;01m{\u001b[39;00mp[i1]\u001b[38;5;132;01m}\u001b[39;00m\u001b[38;5;124m, \u001b[39m\u001b[38;5;132;01m{\u001b[39;00mv[i1]\u001b[38;5;241m.\u001b[39mdetach()\u001b[38;5;132;01m}\u001b[39;00m\u001b[38;5;124m groudtruth: \u001b[39m\u001b[38;5;132;01m{\u001b[39;00mtarget[i1]\u001b[38;5;132;01m}\u001b[39;00m\u001b[38;5;124m\"\u001b[39m)\n",
      "\u001b[0;31mAssertionError\u001b[0m: "
     ]
    }
   ],
   "source": [
    "import matplotlib.pyplot as plt\n",
    "\n",
    "count = 0\n",
    "for data, target in test_loader: \n",
    "\n",
    "    a1, a2, a3, a4 = forward_model(data)\n",
    "    s1, s2, s3 = backward_model(target, use_act_derivative=False)\n",
    "    # p = torch.argmax(a4, dim=-1)\n",
    "    p = torch.topk(a4, k=3, dim=-1).indices\n",
    "    v = torch.topk(a4, k=3, dim=-1).values\n",
    "\n",
    "    for i1 in range(16):\n",
    "\n",
    "        if p[i1][0] != target[i1]:\n",
    "            \n",
    "            count += 1\n",
    "            if count > 10: assert 0 == 1\n",
    "\n",
    "            i2 = 3\n",
    "            print(f\"prediction: {p[i1]}, {v[i1].detach()} groudtruth: {target[i1]}\")\n",
    "\n",
    "            plt.figure()\n",
    "            fig, axes = plt.subplots(1,2)\n",
    "\n",
    "            X = a1.detach().cpu().numpy()\n",
    "            axes[0].imshow(X[i1,i2], vmin=-1, vmax=1)\n",
    "\n",
    "            X = s1.detach().cpu().numpy()\n",
    "            print(X[i1,i2].min(), X[i1,i2].max())\n",
    "            axes[1].imshow(X[i1,i2], vmin=-0.03, vmax=0.03)\n",
    "            plt.pause(0.2)\n",
    "    # break"
   ]
  },
  {
   "cell_type": "code",
   "execution_count": 28,
   "metadata": {
    "tags": []
   },
   "outputs": [
    {
     "data": {
      "image/png": "[encoded data removed]",
      "text/plain": [
       "<Figure size 1000x500 with 32 Axes>"
      ]
     },
     "metadata": {},
     "output_type": "display_data"
    }
   ],
   "source": [
    "torch.manual_seed(2024)\n",
    "forward_model_rand_init = ForwardModel(use_sigma=USE_SIGMA)\n",
    "maps = forward_model_rand_init.conv1.weight[:,0].detach().cpu().numpy()\n",
    "fig, axes = plt.subplots(4,8,figsize=(10,5))\n",
    "for i in range(4):\n",
    "    for j in range(8):\n",
    "        axes[i,j].imshow(maps[i*8+j])"
   ]
  },
  {
   "cell_type": "code",
   "execution_count": 26,
   "metadata": {},
   "outputs": [
    {
     "data": {
      "image/png": "[encoded data removed]",
      "text/plain": [
       "<Figure size 1000x500 with 32 Axes>"
      ]
     },
     "metadata": {},
     "output_type": "display_data"
    }
   ],
   "source": [
    "maps = forward_model.conv1.weight[:,0].detach().cpu().numpy()\n",
    "fig, axes = plt.subplots(4,8,figsize=(10,5))\n",
    "for i in range(4):\n",
    "    for j in range(8):\n",
    "        axes[i,j].imshow(maps[i*8+j])"
   ]
  },
  {
   "cell_type": "code",
   "execution_count": 12,
   "metadata": {},
   "outputs": [
    {
     "data": {
      "text/plain": [
       "49.0"
      ]
     },
     "execution_count": 12,
     "metadata": {},
     "output_type": "execute_result"
    }
   ],
   "source": [
    "1568 / 32"
   ]
  },
  {
   "cell_type": "code",
   "execution_count": null,
   "metadata": {
    "tags": []
   },
   "outputs": [],
   "source": []
  },
  {
   "cell_type": "code",
   "execution_count": null,
   "metadata": {
    "tags": []
   },
   "outputs": [],
   "source": [
    "## import matplotlib.pyplot as plt\n",
    "\n",
    "backward_model = BackwardModel()\n",
    "s1, s2, s3 = backward_model(target)\n",
    "\n",
    "i1, i2 = 7, 2\n",
    "X = s1.detach().cpu()\n",
    "X = X / X.norm()\n",
    "X = X.numpy()\n",
    "print(X[i1,i2].min(), X[i1,i2].max())\n",
    "plt.imshow(X[i1,i2])"
   ]
  },
  {
   "cell_type": "code",
   "execution_count": null,
   "metadata": {
    "tags": []
   },
   "outputs": [],
   "source": [
    "i1, i2 = 0, 6\n",
    "X = a1.detach().cpu()\n",
    "X = X / X.norm()\n",
    "X = X.numpy()\n",
    "print(X[i1,i2].min(), X[i1,i2].max())\n",
    "plt.imshow(X[i1,i2])"
   ]
  },
  {
   "cell_type": "code",
   "execution_count": null,
   "metadata": {
    "tags": []
   },
   "outputs": [],
   "source": [
    "s2.shape"
   ]
  }
 ],
 "metadata": {
  "kernelspec": {
   "display_name": "Python 3 (ipykernel)",
   "language": "python",
   "name": "python3"
  },
  "language_info": {
   "codemirror_mode": {
    "name": "ipython",
    "version": 3
   },
   "file_extension": ".py",
   "mimetype": "text/x-python",
   "name": "python",
   "nbconvert_exporter": "python",
   "pygments_lexer": "ipython3",
   "version": "3.11.4"
  }
 },
 "nbformat": 4,
 "nbformat_minor": 4
}
