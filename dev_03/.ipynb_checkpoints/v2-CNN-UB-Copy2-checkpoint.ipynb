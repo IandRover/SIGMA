{
 "cells": [
  {
   "cell_type": "code",
   "execution_count": 1,
   "metadata": {
    "tags": []
   },
   "outputs": [
    {
     "name": "stdout",
     "output_type": "stream",
     "text": [
      "Epoch: 0, Loss: 0.031\n",
      "Epoch: 0, Test Accuracy: 98.57%\n",
      "Epoch: 1, Loss: 0.006\n",
      "Epoch: 1, Test Accuracy: 98.82%\n",
      "Epoch: 2, Loss: 0.012\n",
      "Epoch: 2, Test Accuracy: 98.93%\n",
      "Epoch: 3, Loss: 0.000\n",
      "Epoch: 3, Test Accuracy: 98.96%\n",
      "Epoch: 4, Loss: 0.015\n",
      "Epoch: 4, Test Accuracy: 98.97%\n"
     ]
    }
   ],
   "source": [
    "import torch\n",
    "import torch.nn as nn\n",
    "import torch.nn.functional as F\n",
    "import torch.nn.init as init\n",
    "import torch.optim as optim\n",
    "from torchvision import datasets, transforms\n",
    "\n",
    "import torch\n",
    "torch.manual_seed(2024)\n",
    "HIDDEN_DIM = 256\n",
    "USE_SIGMA = 0\n",
    "# USE_BP = 1\n",
    "\n",
    "import torch.nn as nn\n",
    "import torch.nn.functional as F\n",
    "\n",
    "class ForwardModel(nn.Module):\n",
    "    def __init__(self, hidden_dim=128, use_sigma=True):\n",
    "        super(ForwardModel, self).__init__()\n",
    "        self.use_sigma = use_sigma\n",
    "        self.hidden_dim = hidden_dim\n",
    "\n",
    "        # Convolutional layers\n",
    "        self.conv1 = nn.Conv2d(1, 32, kernel_size=3, padding=1)\n",
    "        self.conv2 = nn.Conv2d(32, 32, kernel_size=3, padding=1)\n",
    "        self.max_pool = nn.MaxPool2d(2)\n",
    "\n",
    "        # Linear layers\n",
    "        self.fc1 = nn.Linear(32 * 7 * 7, hidden_dim)\n",
    "        self.fc2 = nn.Linear(hidden_dim, 10)\n",
    "\n",
    "        if use_sigma:\n",
    "            self.fc2.weight.data.zero_()\n",
    "            self.fc2.bias.data.zero_()\n",
    "            self.fc1.bias.data.zero_()\n",
    "            self.conv2.bias.data.zero_()\n",
    "            self.conv1.bias.data.zero_()\n",
    "\n",
    "    def forward(self, x):\n",
    "        \n",
    "        if self.use_sigma:\n",
    "            x = x.view(-1, 1, 28, 28)\n",
    "            a1 = F.relu(self.conv1(x.detach()))\n",
    "            a1 = self.max_pool(a1)\n",
    "            a2 = F.relu(self.conv2(a1.detach()))\n",
    "            a2 = self.max_pool(a2)\n",
    "            a2 = a2.view(-1, 32 * 7 * 7)\n",
    "            a3 = F.relu(self.fc1(a2.detach()))\n",
    "            a4 = self.fc2(a3.detach())\n",
    "            self.penultimate_feature = a3.detach()\n",
    "            return a1, a2, a3, a4\n",
    "            \n",
    "        else:\n",
    "            x = x.view(-1, 1, 28, 28)\n",
    "            x = F.relu(self.conv1(x))\n",
    "            x = self.max_pool(x)\n",
    "            x = F.relu(self.conv2(x))\n",
    "            x = self.max_pool(x)\n",
    "            x = x.view(-1, 32 * 7 * 7)\n",
    "            x = F.relu(self.fc1(x))\n",
    "            x = self.fc2(x)\n",
    "            return None, None, None, x\n",
    "\n",
    "    def forward_logits(self):\n",
    "        return self.fc2(self.penultimate_feature)\n",
    "    \n",
    "import torch.nn as nn\n",
    "import torch.nn.init as init\n",
    "import torch.nn.functional as F\n",
    "\n",
    "class BackwardModel(nn.Module):\n",
    "    def __init__(self, hidden_dim=128):\n",
    "        super(BackwardModel, self).__init__()\n",
    "        self.hidden_dim = hidden_dim\n",
    "\n",
    "        # Linear layers\n",
    "        self.fc1 = nn.Linear(10, hidden_dim)\n",
    "        self.fc2 = nn.Linear(hidden_dim, 32 * 7 * 7)\n",
    "\n",
    "        # Transposed Convolutions (Deconvolutions)\n",
    "        self.deconv1 = nn.ConvTranspose2d(32, 16, kernel_size=3, stride=2, padding=1, output_padding=1)\n",
    "        self.deconv2 = nn.ConvTranspose2d(16, 1, kernel_size=3, stride=2, padding=1, output_padding=1)\n",
    "\n",
    "        # Initialize weights and biases\n",
    "        init.orthogonal_(self.fc1.weight)\n",
    "        self.fc1.bias.data.zero_()\n",
    "        self.fc2.bias.data.zero_()\n",
    "        self.deconv1.bias.data.zero_()\n",
    "        self.deconv2.bias.data.zero_()\n",
    "\n",
    "    def forward(self, t):\n",
    "        device = t.device\n",
    "        t = F.one_hot(t, num_classes=10).float().to(device)\n",
    "        s3 = F.relu(self.fc1(t.detach()))\n",
    "        s2 = F.relu(self.fc2(s3.detach()))\n",
    "        s1 = s2.view(-1, 32, 7, 7).detach()  # Reshape for deconvolutions\n",
    "        s1 = F.relu(self.deconv1(s1))\n",
    "        return s1, s2, s3\n",
    "    \n",
    "def normal(x): \n",
    "    if len(x.shape) == 4:\n",
    "        x = x - x.mean(dim=[1,2,3],keepdim=True)\n",
    "        return x / x.norm(dim=[2,3],keepdim=True)\n",
    "    if len(x.shape) == 2:\n",
    "        x = x - x.mean(dim=[1],keepdim=True)\n",
    "        return x / x.norm(dim=[1],keepdim=True)\n",
    "\n",
    "# Define the loss functions\n",
    "def sigma_loss(a1, a2, a3, a4, s1, s2, s3, t):\n",
    "    assert a1.shape == s1.shape, f\"shape {a1.shape} does not align with shape {s1.shape}\"\n",
    "    assert a2.shape == s2.shape, f\"shape {a2.shape} does not align with shape {s2.shape}\"\n",
    "    assert a3.shape == s3.shape, f\"shape {a3.shape} does not align with shape {s3.shape}\"\n",
    "    # loss1 = F.mse_loss(a1/a1.norm(), s1/s1.norm())\n",
    "    # loss2 = F.mse_loss(a2/a2.norm(), s2/s2.norm())\n",
    "    # loss3 = F.mse_loss(a3/a3.norm(), s3/s3.norm())\n",
    "    loss1 = F.mse_loss(normal(a1), normal(s1))\n",
    "    loss2 = F.mse_loss(normal(a2), normal(s2))\n",
    "    loss3 = F.mse_loss(normal(a3), normal(s3))\n",
    "    loss4 = F.mse_loss(a4, torch.nn.functional.one_hot(t, num_classes=10).float().to(t.device))\n",
    "    return loss1+loss2+loss3+loss4, loss1.item(), loss2.item(), loss3.item(), loss4.item(), \n",
    "\n",
    "def sigma_loss_head(a4, t):\n",
    "    return F.mse_loss(a4, torch.nn.functional.one_hot(t, num_classes=10).float().to(t.device))\n",
    "                       \n",
    "def bp_loss(a, b):\n",
    "    return criteria(a,b)\n",
    "    \n",
    "# Load MNIST dataset\n",
    "transform = transforms.Compose([transforms.ToTensor(), transforms.Normalize((0.5,), (0.5,))])\n",
    "train_dataset = datasets.MNIST(root='./data', train=True, download=True, transform=transform)\n",
    "test_dataset = datasets.MNIST(root='./data', train=False, download=True, transform=transform)\n",
    "train_loader = torch.utils.data.DataLoader(train_dataset, batch_size=32, shuffle=True)\n",
    "test_loader = torch.utils.data.DataLoader(test_dataset, batch_size=32, shuffle=False)\n",
    "\n",
    "# Initialize the models\n",
    "forward_model = ForwardModel(use_sigma=USE_SIGMA)\n",
    "backward_model = BackwardModel()\n",
    "\n",
    "# Define the optimizers: momentum=0, dampening=0, weight_decay=0, nesterov=False, *, maximize=False, foreach=None, differentiable=False\n",
    "# forward_optimizer = optim.SGD(forward_model.parameters(), lr=0.001, momentum=0.99)\n",
    "backward_optimizer = optim.SGD(backward_model.parameters(), lr=0.2)\n",
    "forward_optimizer = optim.RMSprop(forward_model.parameters(), lr=0.001)\n",
    "criteria = nn.CrossEntropyLoss()\n",
    "\n",
    "# Training loop\n",
    "for epoch in range(5):\n",
    "    for batch_idx, (data, target) in enumerate(train_loader):\n",
    "            \n",
    "        # if batch_idx > 20: continue\n",
    "        \n",
    "        _, _, _, x = forward_model(data)\n",
    "        loss = criteria(x, target)\n",
    "        forward_optimizer.zero_grad()\n",
    "        loss.backward(retain_graph=True)\n",
    "        forward_optimizer.step()  \n",
    "\n",
    "    # Print statistics\n",
    "    print(f'Epoch: {epoch}, Loss: {loss:.3f}')\n",
    "\n",
    "    # Evaluate on test set\n",
    "    forward_model.eval()\n",
    "    correct = 0\n",
    "    total = 0\n",
    "    with torch.no_grad():\n",
    "        for data, target in test_loader:\n",
    "            _, _, _, outputs = forward_model(data)\n",
    "            _, predicted = torch.max(outputs.data, 1)\n",
    "            total += target.size(0)\n",
    "            correct += (predicted == target).sum().item()\n",
    "\n",
    "    print(f'Epoch: {epoch}, Test Accuracy: {100 * correct / total}%')\n",
    "    forward_model.train()"
   ]
  },
  {
   "cell_type": "code",
   "execution_count": null,
   "metadata": {},
   "outputs": [],
   "source": []
  },
  {
   "cell_type": "code",
   "execution_count": null,
   "metadata": {},
   "outputs": [],
   "source": []
  },
  {
   "cell_type": "code",
   "execution_count": null,
   "metadata": {},
   "outputs": [],
   "source": []
  },
  {
   "cell_type": "code",
   "execution_count": null,
   "metadata": {},
   "outputs": [],
   "source": []
  },
  {
   "cell_type": "code",
   "execution_count": null,
   "metadata": {},
   "outputs": [],
   "source": []
  },
  {
   "cell_type": "code",
   "execution_count": null,
   "metadata": {},
   "outputs": [],
   "source": []
  },
  {
   "cell_type": "code",
   "execution_count": 3,
   "metadata": {},
   "outputs": [
    {
     "name": "stderr",
     "output_type": "stream",
     "text": [
      "/var/folders/q7/s2kfc0s17x901pb1hbky39mh0000gn/T/ipykernel_25995/3573709164.py:4: RuntimeWarning: More than 20 figures have been opened. Figures created through the pyplot interface (`matplotlib.pyplot.figure`) are retained until explicitly closed and may consume too much memory. (To control this warning, see the rcParam `figure.max_open_warning`). Consider using `matplotlib.pyplot.close()`.\n",
      "  plt.figure(figsize=(1,1))\n"
     ]
    },
    {
     "data": {
      "image/png": "[encoded data removed]",
      "text/plain": [
       "<Figure size 100x100 with 1 Axes>"
      ]
     },
     "metadata": {},
     "output_type": "display_data"
    },
    {
     "data": {
      "image/png": "[encoded data removed]",
      "text/plain": [
       "<Figure size 100x100 with 1 Axes>"
      ]
     },
     "metadata": {},
     "output_type": "display_data"
    },
    {
     "data": {
      "image/png": "[encoded data removed]",
      "text/plain": [
       "<Figure size 100x100 with 1 Axes>"
      ]
     },
     "metadata": {},
     "output_type": "display_data"
    },
    {
     "data": {
      "image/png": "[encoded data removed]",
      "text/plain": [
       "<Figure size 100x100 with 1 Axes>"
      ]
     },
     "metadata": {},
     "output_type": "display_data"
    },
    {
     "data": {
      "image/png": "[encoded data removed]",
      "text/plain": [
       "<Figure size 100x100 with 1 Axes>"
      ]
     },
     "metadata": {},
     "output_type": "display_data"
    },
    {
     "data": {
      "image/png": "[encoded data removed]",
      "text/plain": [
       "<Figure size 100x100 with 1 Axes>"
      ]
     },
     "metadata": {},
     "output_type": "display_data"
    },
    {
     "data": {
      "image/png": "[encoded data removed]",
      "text/plain": [
       "<Figure size 100x100 with 1 Axes>"
      ]
     },
     "metadata": {},
     "output_type": "display_data"
    },
    {
     "data": {
      "image/png": "[encoded data removed]",
      "text/plain": [
       "<Figure size 100x100 with 1 Axes>"
      ]
     },
     "metadata": {},
     "output_type": "display_data"
    },
    {
     "data": {
      "image/png": "[encoded data removed]",
      "text/plain": [
       "<Figure size 100x100 with 1 Axes>"
      ]
     },
     "metadata": {},
     "output_type": "display_data"
    },
    {
     "data": {
      "image/png": "[encoded data removed]",
      "text/plain": [
       "<Figure size 100x100 with 1 Axes>"
      ]
     },
     "metadata": {},
     "output_type": "display_data"
    },
    {
     "data": {
      "image/png": "[encoded data removed]",
      "text/plain": [
       "<Figure size 100x100 with 1 Axes>"
      ]
     },
     "metadata": {},
     "output_type": "display_data"
    },
    {
     "data": {
      "image/png": "[encoded data removed]",
      "text/plain": [
       "<Figure size 100x100 with 1 Axes>"
      ]
     },
     "metadata": {},
     "output_type": "display_data"
    },
    {
     "data": {
      "image/png": "[encoded data removed]",
      "text/plain": [
       "<Figure size 100x100 with 1 Axes>"
      ]
     },
     "metadata": {},
     "output_type": "display_data"
    },
    {
     "data": {
      "image/png": "[encoded data removed]",
      "text/plain": [
       "<Figure size 100x100 with 1 Axes>"
      ]
     },
     "metadata": {},
     "output_type": "display_data"
    },
    {
     "data": {
      "image/png": "[encoded data removed]",
      "text/plain": [
       "<Figure size 100x100 with 1 Axes>"
      ]
     },
     "metadata": {},
     "output_type": "display_data"
    },
    {
     "data": {
      "image/png": "[encoded data removed]",
      "text/plain": [
       "<Figure size 100x100 with 1 Axes>"
      ]
     },
     "metadata": {},
     "output_type": "display_data"
    },
    {
     "data": {
      "image/png": "[encoded data removed]",
      "text/plain": [
       "<Figure size 100x100 with 1 Axes>"
      ]
     },
     "metadata": {},
     "output_type": "display_data"
    },
    {
     "data": {
      "image/png": "[encoded data removed]",
      "text/plain": [
       "<Figure size 100x100 with 1 Axes>"
      ]
     },
     "metadata": {},
     "output_type": "display_data"
    },
    {
     "data": {
      "image/png": "[encoded data removed]",
      "text/plain": [
       "<Figure size 100x100 with 1 Axes>"
      ]
     },
     "metadata": {},
     "output_type": "display_data"
    },
    {
     "data": {
      "image/png": "[encoded data removed]",
      "text/plain": [
       "<Figure size 100x100 with 1 Axes>"
      ]
     },
     "metadata": {},
     "output_type": "display_data"
    },
    {
     "data": {
      "image/png": "[encoded data removed]",
      "text/plain": [
       "<Figure size 100x100 with 1 Axes>"
      ]
     },
     "metadata": {},
     "output_type": "display_data"
    },
    {
     "data": {
      "image/png": "[encoded data removed]",
      "text/plain": [
       "<Figure size 100x100 with 1 Axes>"
      ]
     },
     "metadata": {},
     "output_type": "display_data"
    },
    {
     "data": {
      "image/png": "[encoded data removed]",
      "text/plain": [
       "<Figure size 100x100 with 1 Axes>"
      ]
     },
     "metadata": {},
     "output_type": "display_data"
    },
    {
     "data": {
      "image/png": "[encoded data removed]",
      "text/plain": [
       "<Figure size 100x100 with 1 Axes>"
      ]
     },
     "metadata": {},
     "output_type": "display_data"
    },
    {
     "data": {
      "image/png": "[encoded data removed]",
      "text/plain": [
       "<Figure size 100x100 with 1 Axes>"
      ]
     },
     "metadata": {},
     "output_type": "display_data"
    },
    {
     "data": {
      "image/png": "[encoded data removed]",
      "text/plain": [
       "<Figure size 100x100 with 1 Axes>"
      ]
     },
     "metadata": {},
     "output_type": "display_data"
    },
    {
     "data": {
      "image/png": "[encoded data removed]",
      "text/plain": [
       "<Figure size 100x100 with 1 Axes>"
      ]
     },
     "metadata": {},
     "output_type": "display_data"
    },
    {
     "data": {
      "image/png": "[encoded data removed]",
      "text/plain": [
       "<Figure size 100x100 with 1 Axes>"
      ]
     },
     "metadata": {},
     "output_type": "display_data"
    },
    {
     "data": {
      "image/png": "[encoded data removed]",
      "text/plain": [
       "<Figure size 100x100 with 1 Axes>"
      ]
     },
     "metadata": {},
     "output_type": "display_data"
    },
    {
     "data": {
      "image/png": "[encoded data removed]",
      "text/plain": [
       "<Figure size 100x100 with 1 Axes>"
      ]
     },
     "metadata": {},
     "output_type": "display_data"
    },
    {
     "data": {
      "image/png": "[encoded data removed]",
      "text/plain": [
       "<Figure size 100x100 with 1 Axes>"
      ]
     },
     "metadata": {},
     "output_type": "display_data"
    },
    {
     "data": {
      "image/png": "[encoded data removed]",
      "text/plain": [
       "<Figure size 100x100 with 1 Axes>"
      ]
     },
     "metadata": {},
     "output_type": "display_data"
    }
   ],
   "source": [
    "import matplotlib.pyplot as plt\n",
    "kernel_maps = forward_model.conv1.weight[:,0].detach().cpu().numpy()\n",
    "for i in range(32):\n",
    "    plt.figure(figsize=(1,1))\n",
    "    plt.imshow(kernel_maps[i])"
   ]
  },
  {
   "cell_type": "code",
   "execution_count": null,
   "metadata": {},
   "outputs": [],
   "source": []
  }
 ],
 "metadata": {
  "kernelspec": {
   "display_name": "Python 3 (ipykernel)",
   "language": "python",
   "name": "python3"
  },
  "language_info": {
   "codemirror_mode": {
    "name": "ipython",
    "version": 3
   },
   "file_extension": ".py",
   "mimetype": "text/x-python",
   "name": "python",
   "nbconvert_exporter": "python",
   "pygments_lexer": "ipython3",
   "version": "3.11.4"
  }
 },
 "nbformat": 4,
 "nbformat_minor": 4
}
