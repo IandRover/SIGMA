{
 "cells": [
  {
   "cell_type": "code",
   "execution_count": 1,
   "metadata": {
    "tags": []
   },
   "outputs": [
    {
     "name": "stderr",
     "output_type": "stream",
     "text": [
      "  3%|██▎                                                                   | 1/30 [00:08<04:05,  8.48s/it]"
     ]
    },
    {
     "name": "stdout",
     "output_type": "stream",
     "text": [
      "Epoch: 0, Test Accuracy: 89.26%\n"
     ]
    },
    {
     "name": "stderr",
     "output_type": "stream",
     "text": [
      "  7%|████▋                                                                 | 2/30 [00:17<04:00,  8.57s/it]"
     ]
    },
    {
     "name": "stdout",
     "output_type": "stream",
     "text": [
      "Epoch: 1, Test Accuracy: 91.58%\n"
     ]
    },
    {
     "name": "stderr",
     "output_type": "stream",
     "text": [
      " 10%|███████                                                               | 3/30 [00:25<03:45,  8.35s/it]"
     ]
    },
    {
     "name": "stdout",
     "output_type": "stream",
     "text": [
      "Epoch: 2, Test Accuracy: 93.26%\n"
     ]
    },
    {
     "name": "stderr",
     "output_type": "stream",
     "text": [
      " 13%|█████████▎                                                            | 4/30 [00:32<03:29,  8.06s/it]"
     ]
    },
    {
     "name": "stdout",
     "output_type": "stream",
     "text": [
      "Epoch: 3, Test Accuracy: 94.13%\n"
     ]
    },
    {
     "name": "stderr",
     "output_type": "stream",
     "text": [
      " 17%|███████████▋                                                          | 5/30 [00:40<03:15,  7.83s/it]"
     ]
    },
    {
     "name": "stdout",
     "output_type": "stream",
     "text": [
      "Epoch: 4, Test Accuracy: 94.25%\n"
     ]
    },
    {
     "name": "stderr",
     "output_type": "stream",
     "text": [
      " 20%|██████████████                                                        | 6/30 [00:47<03:05,  7.72s/it]"
     ]
    },
    {
     "name": "stdout",
     "output_type": "stream",
     "text": [
      "Epoch: 5, Test Accuracy: 94.84%\n"
     ]
    },
    {
     "name": "stderr",
     "output_type": "stream",
     "text": [
      " 23%|████████████████▎                                                     | 7/30 [00:55<02:55,  7.64s/it]"
     ]
    },
    {
     "name": "stdout",
     "output_type": "stream",
     "text": [
      "Epoch: 6, Test Accuracy: 95.48%\n"
     ]
    },
    {
     "name": "stderr",
     "output_type": "stream",
     "text": [
      " 27%|██████████████████▋                                                   | 8/30 [01:02<02:46,  7.57s/it]"
     ]
    },
    {
     "name": "stdout",
     "output_type": "stream",
     "text": [
      "Epoch: 7, Test Accuracy: 95.65%\n"
     ]
    },
    {
     "name": "stderr",
     "output_type": "stream",
     "text": [
      " 30%|█████████████████████                                                 | 9/30 [01:10<02:39,  7.61s/it]"
     ]
    },
    {
     "name": "stdout",
     "output_type": "stream",
     "text": [
      "Epoch: 8, Test Accuracy: 95.82%\n"
     ]
    },
    {
     "name": "stderr",
     "output_type": "stream",
     "text": [
      " 33%|███████████████████████                                              | 10/30 [01:18<02:34,  7.75s/it]"
     ]
    },
    {
     "name": "stdout",
     "output_type": "stream",
     "text": [
      "Epoch: 9, Test Accuracy: 95.92%\n"
     ]
    },
    {
     "name": "stderr",
     "output_type": "stream",
     "text": [
      " 37%|█████████████████████████▎                                           | 11/30 [01:28<02:38,  8.32s/it]"
     ]
    },
    {
     "name": "stdout",
     "output_type": "stream",
     "text": [
      "Epoch: 10, Test Accuracy: 96.07%\n"
     ]
    },
    {
     "name": "stderr",
     "output_type": "stream",
     "text": [
      " 40%|███████████████████████████▌                                         | 12/30 [01:37<02:35,  8.64s/it]"
     ]
    },
    {
     "name": "stdout",
     "output_type": "stream",
     "text": [
      "Epoch: 11, Test Accuracy: 96.19%\n"
     ]
    },
    {
     "name": "stderr",
     "output_type": "stream",
     "text": [
      " 43%|█████████████████████████████▉                                       | 13/30 [01:47<02:33,  9.04s/it]"
     ]
    },
    {
     "name": "stdout",
     "output_type": "stream",
     "text": [
      "Epoch: 12, Test Accuracy: 96.3%\n"
     ]
    },
    {
     "name": "stderr",
     "output_type": "stream",
     "text": [
      " 47%|████████████████████████████████▏                                    | 14/30 [01:57<02:30,  9.43s/it]"
     ]
    },
    {
     "name": "stdout",
     "output_type": "stream",
     "text": [
      "Epoch: 13, Test Accuracy: 96.11%\n"
     ]
    },
    {
     "name": "stderr",
     "output_type": "stream",
     "text": [
      " 50%|██████████████████████████████████▌                                  | 15/30 [02:08<02:27,  9.84s/it]"
     ]
    },
    {
     "name": "stdout",
     "output_type": "stream",
     "text": [
      "Epoch: 14, Test Accuracy: 96.35%\n"
     ]
    },
    {
     "name": "stderr",
     "output_type": "stream",
     "text": [
      " 53%|████████████████████████████████████▊                                | 16/30 [02:20<02:27, 10.50s/it]"
     ]
    },
    {
     "name": "stdout",
     "output_type": "stream",
     "text": [
      "Epoch: 15, Test Accuracy: 96.54%\n"
     ]
    },
    {
     "name": "stderr",
     "output_type": "stream",
     "text": [
      " 57%|███████████████████████████████████████                              | 17/30 [02:33<02:25, 11.22s/it]"
     ]
    },
    {
     "name": "stdout",
     "output_type": "stream",
     "text": [
      "Epoch: 16, Test Accuracy: 96.36%\n"
     ]
    },
    {
     "name": "stderr",
     "output_type": "stream",
     "text": [
      " 60%|█████████████████████████████████████████▍                           | 18/30 [02:44<02:13, 11.10s/it]"
     ]
    },
    {
     "name": "stdout",
     "output_type": "stream",
     "text": [
      "Epoch: 17, Test Accuracy: 96.46%\n"
     ]
    },
    {
     "name": "stderr",
     "output_type": "stream",
     "text": [
      " 63%|███████████████████████████████████████████▋                         | 19/30 [02:54<01:59, 10.82s/it]"
     ]
    },
    {
     "name": "stdout",
     "output_type": "stream",
     "text": [
      "Epoch: 18, Test Accuracy: 96.38%\n"
     ]
    },
    {
     "name": "stderr",
     "output_type": "stream",
     "text": [
      " 67%|██████████████████████████████████████████████                       | 20/30 [03:03<01:44, 10.45s/it]"
     ]
    },
    {
     "name": "stdout",
     "output_type": "stream",
     "text": [
      "Epoch: 19, Test Accuracy: 96.61%\n"
     ]
    },
    {
     "name": "stderr",
     "output_type": "stream",
     "text": [
      " 70%|████████████████████████████████████████████████▎                    | 21/30 [03:13<01:31, 10.12s/it]"
     ]
    },
    {
     "name": "stdout",
     "output_type": "stream",
     "text": [
      "Epoch: 20, Test Accuracy: 96.56%\n"
     ]
    },
    {
     "name": "stderr",
     "output_type": "stream",
     "text": [
      " 73%|██████████████████████████████████████████████████▌                  | 22/30 [03:23<01:20, 10.01s/it]"
     ]
    },
    {
     "name": "stdout",
     "output_type": "stream",
     "text": [
      "Epoch: 21, Test Accuracy: 96.53%\n"
     ]
    },
    {
     "name": "stderr",
     "output_type": "stream",
     "text": [
      " 77%|████████████████████████████████████████████████████▉                | 23/30 [03:35<01:14, 10.62s/it]"
     ]
    },
    {
     "name": "stdout",
     "output_type": "stream",
     "text": [
      "Epoch: 22, Test Accuracy: 96.62%\n"
     ]
    },
    {
     "name": "stderr",
     "output_type": "stream",
     "text": [
      " 80%|███████████████████████████████████████████████████████▏             | 24/30 [03:47<01:06, 11.00s/it]"
     ]
    },
    {
     "name": "stdout",
     "output_type": "stream",
     "text": [
      "Epoch: 23, Test Accuracy: 96.6%\n"
     ]
    },
    {
     "name": "stderr",
     "output_type": "stream",
     "text": [
      " 83%|█████████████████████████████████████████████████████████▌           | 25/30 [03:58<00:56, 11.29s/it]"
     ]
    },
    {
     "name": "stdout",
     "output_type": "stream",
     "text": [
      "Epoch: 24, Test Accuracy: 96.71%\n"
     ]
    },
    {
     "name": "stderr",
     "output_type": "stream",
     "text": [
      " 87%|███████████████████████████████████████████████████████████▊         | 26/30 [04:11<00:46, 11.57s/it]"
     ]
    },
    {
     "name": "stdout",
     "output_type": "stream",
     "text": [
      "Epoch: 25, Test Accuracy: 96.64%\n"
     ]
    },
    {
     "name": "stderr",
     "output_type": "stream",
     "text": [
      " 90%|██████████████████████████████████████████████████████████████       | 27/30 [04:24<00:36, 12.00s/it]"
     ]
    },
    {
     "name": "stdout",
     "output_type": "stream",
     "text": [
      "Epoch: 26, Test Accuracy: 96.73%\n"
     ]
    },
    {
     "name": "stderr",
     "output_type": "stream",
     "text": [
      " 93%|████████████████████████████████████████████████████████████████▍    | 28/30 [04:36<00:24, 12.11s/it]"
     ]
    },
    {
     "name": "stdout",
     "output_type": "stream",
     "text": [
      "Epoch: 27, Test Accuracy: 96.89%\n"
     ]
    },
    {
     "name": "stderr",
     "output_type": "stream",
     "text": [
      " 97%|██████████████████████████████████████████████████████████████████▋  | 29/30 [04:48<00:12, 12.05s/it]"
     ]
    },
    {
     "name": "stdout",
     "output_type": "stream",
     "text": [
      "Epoch: 28, Test Accuracy: 96.87%\n"
     ]
    },
    {
     "name": "stderr",
     "output_type": "stream",
     "text": [
      "100%|█████████████████████████████████████████████████████████████████████| 30/30 [05:00<00:00, 10.00s/it]"
     ]
    },
    {
     "name": "stdout",
     "output_type": "stream",
     "text": [
      "Epoch: 29, Test Accuracy: 96.87%\n"
     ]
    },
    {
     "name": "stderr",
     "output_type": "stream",
     "text": [
      "\n"
     ]
    }
   ],
   "source": [
    "import torch\n",
    "import torch.nn as nn\n",
    "import torch.nn.functional as F\n",
    "import torch.nn.init as init\n",
    "import torch.optim as optim\n",
    "from torchvision import datasets, transforms\n",
    "from torch.nn.utils import clip_grad_norm_\n",
    "\n",
    "torch.manual_seed(2024)\n",
    "HIDDEN_DIM = 256\n",
    "USE_SIGMA = 1\n",
    "device = torch.device(\"cpu\")\n",
    "\n",
    "transform = transforms.Compose([transforms.ToTensor(), transforms.Normalize((0.5,), (0.5,))])\n",
    "train_dataset = datasets.MNIST(root='./data', train=True, download=True, transform=transform)\n",
    "test_dataset = datasets.MNIST(root='./data', train=False, download=True, transform=transform)\n",
    "train_loader = torch.utils.data.DataLoader(train_dataset, batch_size=32, shuffle=True)\n",
    "test_loader = torch.utils.data.DataLoader(test_dataset, batch_size=32, shuffle=False)\n",
    "\n",
    "class ForwardModel(nn.Module):\n",
    "    def __init__(self, hidden_dim=128, use_sigma=True):\n",
    "        super(ForwardModel, self).__init__()\n",
    "        self.use_sigma = use_sigma\n",
    "        self.hidden_dim = hidden_dim\n",
    "\n",
    "        # Convolutional layers\n",
    "        self.conv1 = nn.Conv2d(1, 32, kernel_size=3, padding=1)\n",
    "        self.conv2 = nn.Conv2d(32, 32, kernel_size=3, padding=1)\n",
    "        self.max_pool = nn.MaxPool2d(2)\n",
    "\n",
    "        # Linear layers\n",
    "        self.fc1 = nn.Linear(32 * 7 * 7, hidden_dim)\n",
    "        self.fc2 = nn.Linear(hidden_dim, 10)\n",
    "\n",
    "        self.LN1 = nn.LayerNorm((32, 14, 14), elementwise_affine=False)\n",
    "        self.LN2 = nn.LayerNorm((1, 28, 28), elementwise_affine=False)\n",
    "\n",
    "        self.fc2.weight.data.zero_()\n",
    "        self.fc2.bias.data.zero_()\n",
    "        self.fc1.bias.data.zero_()\n",
    "        self.conv2.bias.data.zero_()\n",
    "        self.conv1.bias.data.zero_()\n",
    "\n",
    "    def forward(self, x):\n",
    "        \n",
    "        x = x.view(-1, 1, 28, 28)\n",
    "        x = self.LN2(x)\n",
    "\n",
    "        a1 = F.elu(self.conv1(x.detach()))\n",
    "        a1 = self.max_pool(a1)\n",
    "        a1 = self.LN1(a1)\n",
    "\n",
    "        a2 = F.elu(self.conv2(a1.detach()))\n",
    "        a2 = self.max_pool(a2)\n",
    "        a2 = a2.view(-1, 32 * 7 * 7)\n",
    "\n",
    "        a3 = F.elu(self.fc1(a2.detach()))\n",
    "\n",
    "        a4 = self.fc2(a3.detach())\n",
    "        self.penultimate_feature = a3.detach()\n",
    "\n",
    "        return a1, a2, a3, a4\n",
    "\n",
    "    def forward_logits(self):\n",
    "        return self.fc2(self.penultimate_feature)\n",
    "\n",
    "class BackwardModel(nn.Module):\n",
    "    def __init__(self, hidden_dim=128):\n",
    "        super(BackwardModel, self).__init__()\n",
    "        self.hidden_dim = hidden_dim\n",
    "        \n",
    "        alpha = 1\n",
    "        self.alpha = alpha\n",
    "\n",
    "        self.fc1 = nn.Linear(10, hidden_dim * alpha, bias=False)\n",
    "        self.fc2 = nn.Linear(hidden_dim * alpha, 32 * 7 * 7 * alpha, bias=False)\n",
    "        self.upsample1 = nn.Upsample(scale_factor=2, mode='nearest')\n",
    "        self.conv1 = nn.Conv2d(32 * alpha, 32 * alpha, kernel_size=5, padding=2, bias=False)\n",
    "\n",
    "    def forward(self, t, use_act_derivative=False):\n",
    "        device = t.device\n",
    "        t = F.one_hot(t, num_classes=10).float().to(device)\n",
    "        if use_act_derivative:\n",
    "            s3 = F.elu(self.fc1(t.detach()) * a3.sign().detach())\n",
    "            s2 = F.elu(self.fc2(s3.detach()) * a2.sign().detach())\n",
    "            s2_ = s2.view(-1, 32, 7, 7)\n",
    "            s2_ = self.upsample1(s2_)\n",
    "            s1 = F.elu(self.conv1(s2_.detach()) * a1.sign().detach())\n",
    "        else:\n",
    "            s3 = F.elu(self.fc1(t.detach()))\n",
    "            s2 = F.elu(self.fc2(s3.detach()))\n",
    "            s2_ = s2.view(-1, 32 * self.alpha, 7, 7)\n",
    "            s2_ = self.upsample1(s2_)\n",
    "            s1 = F.elu(self.conv1(s2_.detach()))\n",
    "        return s1[:, :32], s2[:,:32*7*7], s3[:, :self.hidden_dim]\n",
    "\n",
    "def normal(x): \n",
    "    if len(x.shape) == 2:\n",
    "        return x / x.std(dim=1, keepdim=True)\n",
    "    if len(x.shape) == 4:\n",
    "        return x / x.std(dim=[1,2,3], keepdim=True)\n",
    "\n",
    "def sigma_loss(a1, a2, a3, a4, s1, s2, s3, t):\n",
    "\n",
    "    loss1 = F.mse_loss(normal(a1), normal(s1))\n",
    "    loss2 = F.mse_loss(normal(a2), normal(s2))\n",
    "    loss3 = F.mse_loss(normal(a3), normal(s3))\n",
    "    loss4 = criteria(a4, t)\n",
    "    loss = loss1 + loss2 + loss3 + loss4\n",
    "    return loss, loss1.item(), loss2.item(), loss3.item(), loss4.item()\n",
    "\n",
    "# Initialize the models\n",
    "forward_model = ForwardModel(use_sigma=USE_SIGMA)\n",
    "backward_model = BackwardModel()\n",
    "\n",
    "forward_model.to(device)\n",
    "backward_model.to(device)\n",
    "\n",
    "# Define the optimizers\n",
    "# forward_optimizer = optim.SGD(forward_model.parameters(), lr=0.01, weight_decay=0.01, momentum=0.5)\n",
    "# backward_optimizer = optim.SGD(backward_model.parameters(), lr=0.001)\n",
    "forward_optimizer = optim.RMSprop(forward_model.parameters(), lr=0.0001)\n",
    "backward_optimizer = optim.RMSprop(backward_model.parameters(), lr=0.0000005)\n",
    "criteria = nn.CrossEntropyLoss()\n",
    "\n",
    "from tqdm import tqdm\n",
    "\n",
    "for epoch in tqdm(range(30)):\n",
    "    \n",
    "    for batch_idx, (data, target) in enumerate(train_loader):\n",
    "        \n",
    "        if batch_idx > 100: continue\n",
    "\n",
    "        data, target = data.to(device), target.to(device)\n",
    "        a1, a2, a3, a4 = forward_model(data)\n",
    "        s1, s2, s3 = backward_model(target, use_act_derivative=False)\n",
    "        \n",
    "        loss, l1, l2, l3, l4 = sigma_loss(a1, a2, a3, a4, s1, s2, s3, target)\n",
    "        forward_optimizer.zero_grad(), backward_optimizer.zero_grad()\n",
    "        loss.backward()\n",
    "        clip_grad_norm_(backward_model.parameters(), 0.1), forward_optimizer.step(), backward_optimizer.step()\n",
    "        \n",
    "    for batch_idx, (data, target) in enumerate(train_loader):\n",
    "        if batch_idx > 100: continue\n",
    "        a1, a2, a3, a4 = forward_model(data.to(device))\n",
    "        loss = criteria(a4, target.to(device))\n",
    "        forward_optimizer.zero_grad(), loss.backward(), forward_optimizer.step()\n",
    "        \n",
    "    # print(f'Epoch: {epoch}, Batch: {batch_idx}, Loss1: {l1*100:.1f}, Loss2: {l2*100:.1f}, Loss3: {l3*100:.1f}, Loss4: {l4:.1f}')\n",
    "    \n",
    "    forward_model.eval()\n",
    "    correct, total = 0, 0\n",
    "    with torch.no_grad():\n",
    "        for data, target in test_loader:\n",
    "            data, target = data.to(device), target.to(device)\n",
    "            _, _, _, outputs = forward_model(data)\n",
    "            _, predicted = torch.max(outputs.data, 1)\n",
    "            total += target.size(0)\n",
    "            correct += (predicted == target).sum().item()\n",
    "    print(f'Epoch: {epoch}, Test Accuracy: {100 * correct / total}%')\n",
    "    forward_model.train()"
   ]
  },
  {
   "cell_type": "code",
   "execution_count": 2,
   "metadata": {},
   "outputs": [
    {
     "ename": "SyntaxError",
     "evalue": "invalid syntax (3664003811.py, line 2)",
     "output_type": "error",
     "traceback": [
      "\u001b[0;36m  Cell \u001b[0;32mIn[2], line 2\u001b[0;36m\u001b[0m\n\u001b[0;31m    Epoch: 0, Test Accuracy: 89.26%\u001b[0m\n\u001b[0m            ^\u001b[0m\n\u001b[0;31mSyntaxError\u001b[0m\u001b[0;31m:\u001b[0m invalid syntax\n"
     ]
    }
   ],
   "source": [
    "# Use 100 batches for head update\n",
    "Epoch: 0, Test Accuracy: 89.26%\n",
    "Epoch: 1, Test Accuracy: 91.58%\n",
    "Epoch: 2, Test Accuracy: 93.26%\n",
    "Epoch: 3, Test Accuracy: 94.13%\n",
    "Epoch: 4, Test Accuracy: 94.25%\n",
    "Epoch: 5, Test Accuracy: 94.84%\n",
    "Epoch: 6, Test Accuracy: 95.48%\n",
    "Epoch: 7, Test Accuracy: 95.65%\n",
    "Epoch: 8, Test Accuracy: 95.82%\n",
    "Epoch: 9, Test Accuracy: 95.92%\n",
    "Epoch: 10, Test Accuracy: 96.07%\n",
    "\n",
    "# Full-dataset update of head\n",
    "Epoch: 0, Test Accuracy: 90.27%\n",
    "Epoch: 1, Test Accuracy: 92.82%\n",
    "Epoch: 2, Test Accuracy: 94.18%\n",
    "Epoch: 3, Test Accuracy: 94.74%\n",
    "Epoch: 4, Test Accuracy: 95.24%\n",
    "Epoch: 5, Test Accuracy: 95.66%"
   ]
  },
  {
   "cell_type": "code",
   "execution_count": null,
   "metadata": {},
   "outputs": [],
   "source": []
  },
  {
   "cell_type": "code",
   "execution_count": null,
   "metadata": {},
   "outputs": [],
   "source": []
  },
  {
   "cell_type": "code",
   "execution_count": null,
   "metadata": {},
   "outputs": [],
   "source": []
  },
  {
   "cell_type": "code",
   "execution_count": null,
   "metadata": {},
   "outputs": [],
   "source": []
  },
  {
   "cell_type": "code",
   "execution_count": null,
   "metadata": {},
   "outputs": [],
   "source": []
  },
  {
   "cell_type": "code",
   "execution_count": null,
   "metadata": {},
   "outputs": [],
   "source": [
    "for p1, p2 in backward_model.named_parameters():\n",
    "    print(p1, p2.grad.shape)\n",
    "    print(p2.grad.norm())"
   ]
  },
  {
   "cell_type": "code",
   "execution_count": null,
   "metadata": {
    "tags": []
   },
   "outputs": [],
   "source": [
    "import numpy as np\n",
    "for p1, p2 in forward_model.named_parameters():\n",
    "    if \"bias\" in p1: continue\n",
    "    print(p1, \"\\t\", np.round(p2.data.norm().item(), decimals=2), \"\\t\", np.round(p2.grad.norm().item(), decimals=2))\n",
    "\n",
    "print()\n",
    " \n",
    "for p1, p2 in backward_model.named_parameters():\n",
    "    if \"bias\" in p1: continue\n",
    "    print(p1, \"\\t\", np.round(p2.data.norm().item(), decimals=2), \"\\t\", np.round(p2.grad.norm().item(), decimals=2))"
   ]
  },
  {
   "cell_type": "code",
   "execution_count": null,
   "metadata": {
    "tags": []
   },
   "outputs": [],
   "source": [
    "data.shape, a1.shape, a2.shape, a3.shape"
   ]
  },
  {
   "cell_type": "code",
   "execution_count": null,
   "metadata": {
    "tags": []
   },
   "outputs": [],
   "source": [
    "import matplotlib.pyplot as plt\n",
    "\n",
    "count = 0\n",
    "for data, target in test_loader: \n",
    "\n",
    "    a1, a2, a3, a4 = forward_model(data)\n",
    "    s1, s2, s3 = backward_model(target, use_act_derivative=False)\n",
    "    loss, l1, l2, l3, l4 = sigma_loss(a1, a2, a3, a4, s1, s2, s3, target)\n",
    "    forward_optimizer.zero_grad(), backward_optimizer.zero_grad()\n",
    "    loss.backward()\n",
    "    # p = torch.argmax(a4, dim=-1)\n",
    "    p = torch.topk(a4, k=3, dim=-1).indices\n",
    "    v = torch.topk(a4, k=3, dim=-1).values\n",
    "\n",
    "    for i1 in range(16):\n",
    "\n",
    "        if p[i1][0] != target[i1]:\n",
    "            \n",
    "            count += 1\n",
    "            if count > 3: assert 0 == 1\n",
    "\n",
    "            i2 = 3\n",
    "            print(f\"prediction: {p[i1]}, {v[i1].detach()} groudtruth: {target[i1]}\")\n",
    "\n",
    "            plt.figure()\n",
    "            fig, axes = plt.subplots(1,2)\n",
    "\n",
    "            X = a1.detach().cpu().numpy()\n",
    "            axes[0].imshow(X[i1,i2], vmin=-1, vmax=1)\n",
    "\n",
    "            X = s1.detach().cpu().numpy()\n",
    "            print(X[i1,i2].min(), X[i1,i2].max())\n",
    "            axes[1].imshow(X[i1,i2], vmin=-0.03, vmax=0.03)\n",
    "            plt.pause(0.2)\n",
    "    # break"
   ]
  },
  {
   "cell_type": "code",
   "execution_count": null,
   "metadata": {
    "tags": []
   },
   "outputs": [],
   "source": [
    "import matplotlib.pyplot as plt\n",
    "\n",
    "count = 0\n",
    "for data, target in test_loader: \n",
    "\n",
    "    a1, a2, a3, a4 = forward_model(data)\n",
    "    s1, s2, s3 = backward_model(target, use_act_derivative=False)\n",
    "    # p = torch.argmax(a4, dim=-1)\n",
    "    p = torch.topk(a4, k=3, dim=-1).indices\n",
    "    v = torch.topk(a4, k=3, dim=-1).values\n",
    "\n",
    "    for i1 in range(16):\n",
    "\n",
    "        if p[i1][0] != target[i1]:\n",
    "            \n",
    "            count += 1\n",
    "            if count > 10: assert 0 == 1\n",
    "\n",
    "            i2 = 3\n",
    "            print(f\"prediction: {p[i1]}, {v[i1].detach()} groudtruth: {target[i1]}\")\n",
    "\n",
    "            plt.figure()\n",
    "            fig, axes = plt.subplots(1,2)\n",
    "\n",
    "            X = a1.detach().cpu().numpy()\n",
    "            axes[0].imshow(X[i1,i2], vmin=-1, vmax=1)\n",
    "\n",
    "            X = s1.detach().cpu().numpy()\n",
    "            print(X[i1,i2].min(), X[i1,i2].max())\n",
    "            axes[1].imshow(X[i1,i2], vmin=-0.03, vmax=0.03)\n",
    "            plt.pause(0.2)\n",
    "    # break"
   ]
  },
  {
   "cell_type": "code",
   "execution_count": null,
   "metadata": {
    "tags": []
   },
   "outputs": [],
   "source": [
    "torch.manual_seed(2024)\n",
    "forward_model_rand_init = ForwardModel(use_sigma=USE_SIGMA)\n",
    "maps = forward_model_rand_init.conv1.weight[:,0].detach().cpu().numpy()\n",
    "fig, axes = plt.subplots(4,8,figsize=(10,5))\n",
    "for i in range(4):\n",
    "    for j in range(8):\n",
    "        axes[i,j].imshow(maps[i*8+j])"
   ]
  },
  {
   "cell_type": "code",
   "execution_count": null,
   "metadata": {},
   "outputs": [],
   "source": [
    "maps = forward_model.conv1.weight[:,0].detach().cpu().numpy()\n",
    "fig, axes = plt.subplots(4,8,figsize=(10,5))\n",
    "for i in range(4):\n",
    "    for j in range(8):\n",
    "        axes[i,j].imshow(maps[i*8+j])"
   ]
  },
  {
   "cell_type": "code",
   "execution_count": null,
   "metadata": {},
   "outputs": [],
   "source": [
    "1568 / 32"
   ]
  },
  {
   "cell_type": "code",
   "execution_count": null,
   "metadata": {
    "tags": []
   },
   "outputs": [],
   "source": []
  },
  {
   "cell_type": "code",
   "execution_count": null,
   "metadata": {
    "tags": []
   },
   "outputs": [],
   "source": [
    "## import matplotlib.pyplot as plt\n",
    "\n",
    "backward_model = BackwardModel()\n",
    "s1, s2, s3 = backward_model(target)\n",
    "\n",
    "i1, i2 = 7, 2\n",
    "X = s1.detach().cpu()\n",
    "X = X / X.norm()\n",
    "X = X.numpy()\n",
    "print(X[i1,i2].min(), X[i1,i2].max())\n",
    "plt.imshow(X[i1,i2])"
   ]
  },
  {
   "cell_type": "code",
   "execution_count": null,
   "metadata": {
    "tags": []
   },
   "outputs": [],
   "source": [
    "i1, i2 = 0, 6\n",
    "X = a1.detach().cpu()\n",
    "X = X / X.norm()\n",
    "X = X.numpy()\n",
    "print(X[i1,i2].min(), X[i1,i2].max())\n",
    "plt.imshow(X[i1,i2])"
   ]
  },
  {
   "cell_type": "code",
   "execution_count": null,
   "metadata": {
    "tags": []
   },
   "outputs": [],
   "source": [
    "s2.shape"
   ]
  }
 ],
 "metadata": {
  "kernelspec": {
   "display_name": "Python 3 (ipykernel)",
   "language": "python",
   "name": "python3"
  },
  "language_info": {
   "codemirror_mode": {
    "name": "ipython",
    "version": 3
   },
   "file_extension": ".py",
   "mimetype": "text/x-python",
   "name": "python",
   "nbconvert_exporter": "python",
   "pygments_lexer": "ipython3",
   "version": "3.11.4"
  }
 },
 "nbformat": 4,
 "nbformat_minor": 4
}
