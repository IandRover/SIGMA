{
 "cells": [
  {
   "cell_type": "code",
   "execution_count": 15,
   "metadata": {
    "tags": []
   },
   "outputs": [
    {
     "name": "stderr",
     "output_type": "stream",
     "text": [
      "  3%|█▍                                          | 1/30 [00:09<04:48,  9.94s/it]"
     ]
    },
    {
     "name": "stdout",
     "output_type": "stream",
     "text": [
      "Epoch: 0, Test Accuracy: 95.67%\n"
     ]
    },
    {
     "name": "stderr",
     "output_type": "stream",
     "text": [
      "  7%|██▉                                         | 2/30 [00:19<04:31,  9.69s/it]"
     ]
    },
    {
     "name": "stdout",
     "output_type": "stream",
     "text": [
      "Epoch: 1, Test Accuracy: 97.03%\n"
     ]
    },
    {
     "name": "stderr",
     "output_type": "stream",
     "text": [
      " 10%|████▍                                       | 3/30 [00:29<04:23,  9.74s/it]"
     ]
    },
    {
     "name": "stdout",
     "output_type": "stream",
     "text": [
      "Epoch: 2, Test Accuracy: 97.66%\n"
     ]
    },
    {
     "name": "stderr",
     "output_type": "stream",
     "text": [
      " 13%|█████▊                                      | 4/30 [00:38<04:12,  9.70s/it]"
     ]
    },
    {
     "name": "stdout",
     "output_type": "stream",
     "text": [
      "Epoch: 3, Test Accuracy: 98.19%\n"
     ]
    },
    {
     "name": "stderr",
     "output_type": "stream",
     "text": [
      " 17%|███████▎                                    | 5/30 [00:48<04:02,  9.69s/it]"
     ]
    },
    {
     "name": "stdout",
     "output_type": "stream",
     "text": [
      "Epoch: 4, Test Accuracy: 98.18%\n"
     ]
    },
    {
     "name": "stderr",
     "output_type": "stream",
     "text": [
      " 20%|████████▊                                   | 6/30 [00:58<03:52,  9.67s/it]"
     ]
    },
    {
     "name": "stdout",
     "output_type": "stream",
     "text": [
      "Epoch: 5, Test Accuracy: 98.15%\n"
     ]
    },
    {
     "name": "stderr",
     "output_type": "stream",
     "text": [
      " 23%|██████████▎                                 | 7/30 [01:07<03:41,  9.62s/it]"
     ]
    },
    {
     "name": "stdout",
     "output_type": "stream",
     "text": [
      "Epoch: 6, Test Accuracy: 98.4%\n"
     ]
    },
    {
     "name": "stderr",
     "output_type": "stream",
     "text": [
      " 27%|███████████▋                                | 8/30 [01:17<03:31,  9.60s/it]"
     ]
    },
    {
     "name": "stdout",
     "output_type": "stream",
     "text": [
      "Epoch: 7, Test Accuracy: 98.39%\n"
     ]
    },
    {
     "name": "stderr",
     "output_type": "stream",
     "text": [
      " 30%|█████████████▏                              | 9/30 [01:27<03:23,  9.70s/it]"
     ]
    },
    {
     "name": "stdout",
     "output_type": "stream",
     "text": [
      "Epoch: 8, Test Accuracy: 98.7%\n"
     ]
    },
    {
     "name": "stderr",
     "output_type": "stream",
     "text": [
      " 33%|██████████████▎                            | 10/30 [01:37<03:14,  9.75s/it]"
     ]
    },
    {
     "name": "stdout",
     "output_type": "stream",
     "text": [
      "Epoch: 9, Test Accuracy: 98.58%\n"
     ]
    },
    {
     "name": "stderr",
     "output_type": "stream",
     "text": [
      " 37%|███████████████▊                           | 11/30 [01:46<03:05,  9.76s/it]"
     ]
    },
    {
     "name": "stdout",
     "output_type": "stream",
     "text": [
      "Epoch: 10, Test Accuracy: 98.79%\n"
     ]
    },
    {
     "name": "stderr",
     "output_type": "stream",
     "text": [
      " 40%|█████████████████▏                         | 12/30 [01:56<02:54,  9.68s/it]"
     ]
    },
    {
     "name": "stdout",
     "output_type": "stream",
     "text": [
      "Epoch: 11, Test Accuracy: 98.7%\n"
     ]
    },
    {
     "name": "stderr",
     "output_type": "stream",
     "text": [
      " 43%|██████████████████▋                        | 13/30 [02:05<02:44,  9.67s/it]"
     ]
    },
    {
     "name": "stdout",
     "output_type": "stream",
     "text": [
      "Epoch: 12, Test Accuracy: 98.6%\n"
     ]
    },
    {
     "name": "stderr",
     "output_type": "stream",
     "text": [
      " 47%|████████████████████                       | 14/30 [02:15<02:34,  9.68s/it]"
     ]
    },
    {
     "name": "stdout",
     "output_type": "stream",
     "text": [
      "Epoch: 13, Test Accuracy: 98.76%\n"
     ]
    },
    {
     "name": "stderr",
     "output_type": "stream",
     "text": [
      " 50%|█████████████████████▌                     | 15/30 [02:25<02:25,  9.68s/it]"
     ]
    },
    {
     "name": "stdout",
     "output_type": "stream",
     "text": [
      "Epoch: 14, Test Accuracy: 98.8%\n"
     ]
    },
    {
     "name": "stderr",
     "output_type": "stream",
     "text": [
      " 53%|██████████████████████▉                    | 16/30 [02:35<02:15,  9.67s/it]"
     ]
    },
    {
     "name": "stdout",
     "output_type": "stream",
     "text": [
      "Epoch: 15, Test Accuracy: 98.54%\n"
     ]
    },
    {
     "name": "stderr",
     "output_type": "stream",
     "text": [
      " 57%|████████████████████████▎                  | 17/30 [02:44<02:05,  9.63s/it]"
     ]
    },
    {
     "name": "stdout",
     "output_type": "stream",
     "text": [
      "Epoch: 16, Test Accuracy: 98.8%\n"
     ]
    },
    {
     "name": "stderr",
     "output_type": "stream",
     "text": [
      " 60%|█████████████████████████▊                 | 18/30 [02:54<01:55,  9.59s/it]"
     ]
    },
    {
     "name": "stdout",
     "output_type": "stream",
     "text": [
      "Epoch: 17, Test Accuracy: 98.71%\n"
     ]
    },
    {
     "name": "stderr",
     "output_type": "stream",
     "text": [
      " 63%|███████████████████████████▏               | 19/30 [03:03<01:46,  9.67s/it]"
     ]
    },
    {
     "name": "stdout",
     "output_type": "stream",
     "text": [
      "Epoch: 18, Test Accuracy: 98.87%\n"
     ]
    },
    {
     "name": "stderr",
     "output_type": "stream",
     "text": [
      " 67%|████████████████████████████▋              | 20/30 [03:13<01:37,  9.73s/it]"
     ]
    },
    {
     "name": "stdout",
     "output_type": "stream",
     "text": [
      "Epoch: 19, Test Accuracy: 98.71%\n"
     ]
    },
    {
     "name": "stderr",
     "output_type": "stream",
     "text": [
      " 70%|██████████████████████████████             | 21/30 [03:23<01:28,  9.82s/it]"
     ]
    },
    {
     "name": "stdout",
     "output_type": "stream",
     "text": [
      "Epoch: 20, Test Accuracy: 98.83%\n"
     ]
    },
    {
     "name": "stderr",
     "output_type": "stream",
     "text": [
      " 73%|███████████████████████████████▌           | 22/30 [03:33<01:18,  9.76s/it]"
     ]
    },
    {
     "name": "stdout",
     "output_type": "stream",
     "text": [
      "Epoch: 21, Test Accuracy: 98.87%\n"
     ]
    },
    {
     "name": "stderr",
     "output_type": "stream",
     "text": [
      " 77%|████████████████████████████████▉          | 23/30 [03:43<01:08,  9.75s/it]"
     ]
    },
    {
     "name": "stdout",
     "output_type": "stream",
     "text": [
      "Epoch: 22, Test Accuracy: 98.78%\n"
     ]
    },
    {
     "name": "stderr",
     "output_type": "stream",
     "text": [
      " 80%|██████████████████████████████████▍        | 24/30 [03:52<00:58,  9.70s/it]"
     ]
    },
    {
     "name": "stdout",
     "output_type": "stream",
     "text": [
      "Epoch: 23, Test Accuracy: 98.72%\n"
     ]
    },
    {
     "name": "stderr",
     "output_type": "stream",
     "text": [
      " 83%|███████████████████████████████████▊       | 25/30 [04:02<00:48,  9.62s/it]"
     ]
    },
    {
     "name": "stdout",
     "output_type": "stream",
     "text": [
      "Epoch: 24, Test Accuracy: 98.82%\n"
     ]
    },
    {
     "name": "stderr",
     "output_type": "stream",
     "text": [
      " 87%|█████████████████████████████████████▎     | 26/30 [04:11<00:38,  9.60s/it]"
     ]
    },
    {
     "name": "stdout",
     "output_type": "stream",
     "text": [
      "Epoch: 25, Test Accuracy: 98.69%\n"
     ]
    },
    {
     "name": "stderr",
     "output_type": "stream",
     "text": [
      " 90%|██████████████████████████████████████▋    | 27/30 [04:21<00:28,  9.63s/it]"
     ]
    },
    {
     "name": "stdout",
     "output_type": "stream",
     "text": [
      "Epoch: 26, Test Accuracy: 98.62%\n"
     ]
    },
    {
     "name": "stderr",
     "output_type": "stream",
     "text": [
      " 93%|████████████████████████████████████████▏  | 28/30 [04:30<00:19,  9.59s/it]"
     ]
    },
    {
     "name": "stdout",
     "output_type": "stream",
     "text": [
      "Epoch: 27, Test Accuracy: 98.77%\n"
     ]
    },
    {
     "name": "stderr",
     "output_type": "stream",
     "text": [
      " 97%|█████████████████████████████████████████▌ | 29/30 [04:40<00:09,  9.54s/it]"
     ]
    },
    {
     "name": "stdout",
     "output_type": "stream",
     "text": [
      "Epoch: 28, Test Accuracy: 98.76%\n"
     ]
    },
    {
     "name": "stderr",
     "output_type": "stream",
     "text": [
      "100%|███████████████████████████████████████████| 30/30 [04:49<00:00,  9.66s/it]"
     ]
    },
    {
     "name": "stdout",
     "output_type": "stream",
     "text": [
      "Epoch: 29, Test Accuracy: 98.77%\n"
     ]
    },
    {
     "name": "stderr",
     "output_type": "stream",
     "text": [
      "\n"
     ]
    }
   ],
   "source": [
    "import torch\n",
    "from tqdm import tqdm\n",
    "import torch.nn as nn\n",
    "import torch.nn.functional as F\n",
    "import torch.nn.init as init\n",
    "import torch.optim as optim\n",
    "from torchvision import datasets, transforms\n",
    "from torch.nn.utils import clip_grad_norm_\n",
    "import matplotlib.pyplot as plt\n",
    "import copy\n",
    "import numpy as np\n",
    "\n",
    "torch.manual_seed(2024)\n",
    "# torch.manual_seed(2023)\n",
    "HIDDEN_DIM = 256\n",
    "USE_SIGMA = 1\n",
    "device = torch.device(\"cpu\")\n",
    "\n",
    "transform = transforms.Compose([transforms.ToTensor(), transforms.Normalize((0.5,), (0.5,))])\n",
    "train_dataset = datasets.MNIST(root='./data', train=True, download=True, transform=transform)\n",
    "test_dataset = datasets.MNIST(root='./data', train=False, download=True, transform=transform)\n",
    "train_loader = torch.utils.data.DataLoader(train_dataset, batch_size=32, shuffle=True)\n",
    "test_loader = torch.utils.data.DataLoader(test_dataset, batch_size=32, shuffle=False)\n",
    "\n",
    "def gradient_centralization():\n",
    "    with torch.no_grad():\n",
    "        for p1, p2 in forward_model.named_parameters():\n",
    "            if \"bias\" in p1 or p2.grad is None: continue\n",
    "            if len(p2.shape) == 2: p2.grad -= p2.grad.mean(dim=1,keepdim=True)\n",
    "            elif len(p2.shape) == 4: p2.grad -= p2.grad.mean(dim=[1,2,3],keepdim=True) \n",
    "\n",
    "class ForwardModel(nn.Module):\n",
    "    def __init__(self, conv_dim=32, hidden_dim=128, use_sigma=True):\n",
    "        super(ForwardModel, self).__init__()\n",
    "        self.use_sigma = use_sigma\n",
    "        self.hidden_dim = hidden_dim\n",
    "        self.conv_dim = conv_dim\n",
    "\n",
    "        # Convolutional layers\n",
    "        self.conv1 = nn.Conv2d(1, conv_dim, kernel_size=3, padding=1)\n",
    "        self.conv2 = nn.Conv2d(conv_dim, conv_dim, kernel_size=3, padding=1)\n",
    "        self.max_pool = nn.MaxPool2d(2)\n",
    "\n",
    "        # Linear layers\n",
    "        self.fc1 = nn.Linear(conv_dim * 7 * 7, hidden_dim)\n",
    "        self.fc2 = nn.Linear(hidden_dim, 10)\n",
    "\n",
    "        self.LN1 = nn.LayerNorm((conv_dim, 14, 14), elementwise_affine=False)\n",
    "        self.LN2 = nn.LayerNorm((1, 28, 28), elementwise_affine=False)\n",
    "\n",
    "        self.fc2.weight.data.zero_()\n",
    "        self.fc2.bias.data.zero_()\n",
    "        self.fc1.bias.data.zero_()\n",
    "        self.conv2.bias.data.zero_()\n",
    "        self.conv1.bias.data.zero_()\n",
    "        \n",
    "        self.act = F.elu\n",
    "\n",
    "    def forward(self, x):\n",
    "        \n",
    "        x = x.view(-1, 1, 28, 28)\n",
    "        x = self.LN2(x)\n",
    "\n",
    "        a1 = self.act(self.conv1(x.detach()))\n",
    "        a1 = self.max_pool(a1)\n",
    "        \n",
    "        a2 = self.act(self.conv2(a1.detach()))\n",
    "        a2 = self.max_pool(a2)\n",
    "        a2 = a2.view(-1, self.conv_dim * 7 * 7)\n",
    "\n",
    "        a3 = self.act(self.fc1(a2.detach()))\n",
    "\n",
    "        a4 = self.fc2(a3.detach())\n",
    "        self.penultimate_feature = a3.detach()\n",
    "\n",
    "        return a1, a2, a3, a4\n",
    "\n",
    "    def forward_logits(self):\n",
    "        return self.fc2(self.penultimate_feature)\n",
    "\n",
    "class BackwardModel(nn.Module):\n",
    "    def __init__(self, conv_dim=32,  hidden_dim=128):\n",
    "        super(BackwardModel, self).__init__()\n",
    "        self.hidden_dim = hidden_dim\n",
    "        self.conv_dim = conv_dim\n",
    "        self.use_bias = False\n",
    "        \n",
    "        alpha = 1\n",
    "        self.alpha = alpha\n",
    "        self.fc1 = nn.Linear(10, hidden_dim * alpha, bias=False)\n",
    "        self.fc2 = nn.Linear(hidden_dim * alpha, self.conv_dim * 7 * 7 * alpha, bias=False)\n",
    "        self.upsample1 = nn.Upsample(scale_factor=2, mode='nearest')\n",
    "        self.conv1 = nn.Conv2d(self.conv_dim * alpha, self.conv_dim * alpha, kernel_size=5, padding=2, bias=False)\n",
    "        self.act = F.elu\n",
    "        \n",
    "        self.BN1 = torch.nn.BatchNorm2d(self.conv_dim * alpha)\n",
    "        self.BN2 = torch.nn.BatchNorm1d(self.conv_dim * 7 * 7 * alpha)\n",
    "        self.BN3 = torch.nn.BatchNorm1d(hidden_dim * alpha)\n",
    "\n",
    "    def forward(self, t, use_act_derivative=False):\n",
    "        device = t.device\n",
    "        t = F.one_hot(t, num_classes=10).float().to(device)\n",
    "        s3 = self.act(self.BN3(self.fc1(t.detach()))) \n",
    "        s2 = self.act(self.BN2(self.fc2(s3.detach()))  )         \n",
    "        s2_ = s2.view(-1, self.conv_dim * self.alpha, 7, 7)\n",
    "        s2_ = self.upsample1(s2_)        \n",
    "        s1 = self.act(self.BN1(self.conv1(s2_.detach())))\n",
    "        return s1[:, :self.conv_dim], s2[:,:self.conv_dim*7*7], s3[:, :self.hidden_dim]\n",
    "\n",
    "def normalize_along_axis(matrix, axis=1):\n",
    "    norm = torch.norm(matrix, dim=axis, keepdim=True)\n",
    "    return matrix / (norm + 1e-8)\n",
    "\n",
    "def compute_loss(A, B):\n",
    "    A = A.reshape(len(A), -1)\n",
    "    B = B.reshape(len(B), -1)\n",
    "    m = A.shape[1]\n",
    "    A_norm = normalize_along_axis(A, axis=1)\n",
    "    B_norm = normalize_along_axis(B, axis=1)\n",
    "    C = torch.matmul(A_norm, B_norm.T)\n",
    "    target_ = F.one_hot(target, num_classes=10).float().to(device)\n",
    "    identity = target_@target_.T * 1.1 - 0.1\n",
    "    loss = F.mse_loss(C, identity)\n",
    "    return loss\n",
    "\n",
    "def sigma_loss(a1, a2, a3, a4, s1, s2, s3, t):\n",
    "    loss1 = compute_loss(a1,s1)\n",
    "    loss2 = compute_loss(a2,s2)\n",
    "    loss3 = compute_loss(a3,s3)\n",
    "    loss4 = criteria(a4, t)\n",
    "    loss = loss1 + loss2 + loss3 + loss4\n",
    "    return loss, loss1.item(), loss2.item(), loss3.item(), loss4.item()\n",
    "\n",
    "# Initialize the models\n",
    "forward_model = ForwardModel(use_sigma=USE_SIGMA, conv_dim=64, hidden_dim=128)\n",
    "backward_model = BackwardModel(conv_dim=64, hidden_dim=128)\n",
    "\n",
    "forward_model.to(device)\n",
    "backward_model.to(device)\n",
    "\n",
    "# Define the optimizers\n",
    "forward_optimizer = optim.RMSprop(forward_model.parameters(), lr=0.002)\n",
    "criteria = nn.CrossEntropyLoss()\n",
    "    \n",
    "with torch.no_grad():\n",
    "    t1, t2, t3 = backward_model(torch.Tensor([0,1,2,3,4,5,6,7,8,9]).long(), use_act_derivative=False)\n",
    "    \n",
    "import torch\n",
    "import numpy as np\n",
    "    \n",
    "# for epoch in range(30):\n",
    "for epoch in tqdm(range(30)):\n",
    "    \n",
    "    for batch_idx, (data, target) in enumerate(train_loader):\n",
    "        \n",
    "        if batch_idx > 100: continue\n",
    "        a1, a2, a3, a4 = forward_model(data.to(device))\n",
    "        s1, s2, s3 = t1[target], t2[target], t3[target]\n",
    "        loss, l1, l2, l3, l4 = sigma_loss(a1, a2, a3, a4, s1, s2, s3, target.to(device))\n",
    "        forward_optimizer.zero_grad(), loss.backward(), gradient_centralization(), forward_optimizer.step()\n",
    "        \n",
    "    for batch_idx, (data, target) in enumerate(train_loader):\n",
    "        if batch_idx > 100: continue\n",
    "        a1, a2, a3, a4 = forward_model(data.to(device))\n",
    "        loss = criteria(a4, target.to(device))\n",
    "        forward_optimizer.zero_grad(), loss.backward(), forward_optimizer.step()\n",
    "    \n",
    "    forward_model.eval()\n",
    "    correct, total = 0, 0\n",
    "    with torch.no_grad():\n",
    "        for data, target in test_loader:\n",
    "            data, target = data.to(device), target.to(device)\n",
    "            _, _, _, outputs = forward_model(data)\n",
    "            _, predicted = torch.max(outputs.data, 1)\n",
    "            total += target.size(0)\n",
    "            correct += (predicted == target).sum().item()\n",
    "    print(f'Epoch: {epoch}, Test Accuracy: {100 * correct / total}%')\n",
    "    forward_model.train()\n",
    "    \n",
    "    # assert 0 == 1\n",
    "    # if epoch in [19]:\n",
    "    #     torch.save(forward_model.state_dict(), \"./saved_models/v4-20EP-F.pt\") #Epoch: 46, Test Accuracy: 98.05%; Epoch: 47, Test Accuracy: 98.16%; Epoch: 48, Test Accuracy: 98.01%; Epoch: 49, Test Accuracy: 98.13%\n",
    "    #     torch.save(backward_model.state_dict(),\"./saved_models/v4-20EP-B.pt\") #Epoch: 46, Test Accuracy: 98.05%; Epoch: 47, Test Accuracy: 98.16%; Epoch: 48, Test Accuracy: 98.01%; Epoch: 49, Test Accuracy: 98.13%\n",
    "\n",
    "# Norm (no avg) + SCL\n",
    "# Epoch: 0, Test Accuracy: 95.37%\n",
    "# Epoch: 1, Test Accuracy: 96.76%\n",
    "# Epoch: 2, Test Accuracy: 97.34%\n",
    "# Epoch: 3, Test Accuracy: 97.91%\n",
    "# Epoch: 4, Test Accuracy: 97.87%\n",
    "# Epoch: 5, Test Accuracy: 98.12%\n",
    "# Epoch: 6, Test Accuracy: 98.12%\n",
    "# Epoch: 7, Test Accuracy: 98.27%\n",
    "# Epoch: 8, Test Accuracy: 98.51%\n",
    "# Epoch: 9, Test Accuracy: 98.58%\n",
    "# Epoch: 10, Test Accuracy: 98.66%\n",
    "# Epoch: 11, Test Accuracy: 98.53%\n",
    "# Epoch: 12, Test Accuracy: 98.64%\n",
    "# Epoch: 13, Test Accuracy: 98.75%\n",
    "# Epoch: 14, Test Accuracy: 98.66%\n",
    "# Epoch: 15, Test Accuracy: 98.58%\n",
    "# Epoch: 16, Test Accuracy: 98.77%\n",
    "# Epoch: 17, Test Accuracy: 98.80%\n",
    "# Epoch: 18, Test Accuracy: 98.70%\n",
    "# Epoch: 19, Test Accuracy: 98.80%\n",
    "# Epoch: 20, Test Accuracy: 98.97%"
   ]
  },
  {
   "cell_type": "code",
   "execution_count": null,
   "metadata": {},
   "outputs": [],
   "source": []
  }
 ],
 "metadata": {
  "kernelspec": {
   "display_name": "Python 3 (ipykernel)",
   "language": "python",
   "name": "python3"
  },
  "language_info": {
   "codemirror_mode": {
    "name": "ipython",
    "version": 3
   },
   "file_extension": ".py",
   "mimetype": "text/x-python",
   "name": "python",
   "nbconvert_exporter": "python",
   "pygments_lexer": "ipython3",
   "version": "3.11.4"
  }
 },
 "nbformat": 4,
 "nbformat_minor": 4
}
