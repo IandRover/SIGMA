{
 "cells": [
  {
   "cell_type": "code",
   "execution_count": 30,
   "metadata": {
    "tags": []
   },
   "outputs": [
    {
     "name": "stdout",
     "output_type": "stream",
     "text": [
      "Epoch: 0, Batch: 937, Loss1: 0.000, Loss2: 0.000, Loss3: 0.000, Loss4: 0.230\n",
      "Epoch: 0, Test Accuracy: 83.36%\n",
      "Epoch: 1, Batch: 937, Loss1: 0.000, Loss2: 0.000, Loss3: 0.000, Loss4: 0.313\n",
      "Epoch: 1, Test Accuracy: 85.92%\n",
      "Epoch: 2, Batch: 937, Loss1: 0.000, Loss2: 0.000, Loss3: 0.000, Loss4: 0.299\n",
      "Epoch: 2, Test Accuracy: 87.53%\n",
      "Epoch: 3, Batch: 937, Loss1: 0.000, Loss2: 0.000, Loss3: 0.000, Loss4: 0.364\n",
      "Epoch: 3, Test Accuracy: 87.54%\n",
      "Epoch: 4, Batch: 937, Loss1: 0.000, Loss2: 0.000, Loss3: 0.000, Loss4: 0.334\n",
      "Epoch: 4, Test Accuracy: 88.62%\n",
      "Epoch: 5, Batch: 937, Loss1: 0.000, Loss2: 0.000, Loss3: 0.000, Loss4: 0.286\n",
      "Epoch: 5, Test Accuracy: 89.36%\n",
      "Epoch: 6, Batch: 937, Loss1: 0.000, Loss2: 0.000, Loss3: 0.000, Loss4: 0.315\n",
      "Epoch: 6, Test Accuracy: 88.7%\n",
      "Epoch: 7, Batch: 937, Loss1: 0.000, Loss2: 0.000, Loss3: 0.000, Loss4: 0.303\n",
      "Epoch: 7, Test Accuracy: 88.43%\n",
      "Epoch: 8, Batch: 937, Loss1: 0.000, Loss2: 0.000, Loss3: 0.000, Loss4: 0.358\n",
      "Epoch: 8, Test Accuracy: 89.28%\n",
      "Epoch: 9, Batch: 937, Loss1: 0.000, Loss2: 0.000, Loss3: 0.000, Loss4: 0.384\n",
      "Epoch: 9, Test Accuracy: 89.2%\n",
      "Epoch: 10, Batch: 937, Loss1: 0.000, Loss2: 0.000, Loss3: 0.000, Loss4: 0.360\n",
      "Epoch: 10, Test Accuracy: 89.35%\n",
      "Epoch: 11, Batch: 937, Loss1: 0.000, Loss2: 0.000, Loss3: 0.000, Loss4: 0.323\n",
      "Epoch: 11, Test Accuracy: 88.01%\n",
      "Epoch: 12, Batch: 937, Loss1: 0.000, Loss2: 0.000, Loss3: 0.000, Loss4: 0.364\n",
      "Epoch: 12, Test Accuracy: 90.0%\n",
      "Epoch: 13, Batch: 937, Loss1: 0.000, Loss2: 0.000, Loss3: 0.000, Loss4: 0.378\n",
      "Epoch: 13, Test Accuracy: 89.36%\n",
      "Epoch: 14, Batch: 937, Loss1: 0.000, Loss2: 0.000, Loss3: 0.000, Loss4: 0.416\n",
      "Epoch: 14, Test Accuracy: 89.45%\n",
      "Epoch: 15, Batch: 937, Loss1: 0.000, Loss2: 0.000, Loss3: 0.000, Loss4: 0.384\n",
      "Epoch: 15, Test Accuracy: 89.47%\n",
      "Epoch: 16, Batch: 937, Loss1: 0.000, Loss2: 0.000, Loss3: 0.000, Loss4: 0.343\n",
      "Epoch: 16, Test Accuracy: 88.59%\n",
      "Epoch: 17, Batch: 937, Loss1: 0.000, Loss2: 0.000, Loss3: 0.000, Loss4: 0.378\n",
      "Epoch: 17, Test Accuracy: 90.42%\n",
      "Epoch: 18, Batch: 937, Loss1: 0.000, Loss2: 0.000, Loss3: 0.000, Loss4: 0.376\n",
      "Epoch: 18, Test Accuracy: 87.39%\n",
      "Epoch: 19, Batch: 937, Loss1: 0.000, Loss2: 0.000, Loss3: 0.000, Loss4: 0.397\n",
      "Epoch: 19, Test Accuracy: 89.01%\n"
     ]
    }
   ],
   "source": [
    "import torch\n",
    "import torch.nn as nn\n",
    "import torch.nn.functional as F\n",
    "import torch.nn.init as init\n",
    "import torch.optim as optim\n",
    "from torchvision import datasets, transforms\n",
    "\n",
    "import torch\n",
    "torch.manual_seed(2024)\n",
    "HIDDEN_DIM = 256\n",
    "USE_SIGMA = 1\n",
    "# USE_BP = 1\n",
    "\n",
    "import torch.nn as nn\n",
    "import torch.nn.functional as F\n",
    "\n",
    "class ForwardModel(nn.Module):\n",
    "    def __init__(self, hidden_dim=128, use_sigma=True):\n",
    "        super(ForwardModel, self).__init__()\n",
    "        self.use_sigma = use_sigma\n",
    "        self.hidden_dim = hidden_dim\n",
    "\n",
    "        # Convolutional layers\n",
    "        self.conv1 = nn.Conv2d(1, 16, kernel_size=3, padding=1)\n",
    "        self.conv2 = nn.Conv2d(16, 32, kernel_size=3, padding=1)\n",
    "        self.max_pool = nn.MaxPool2d(2)\n",
    "\n",
    "        # Linear layers\n",
    "        self.fc1 = nn.Linear(32 * 7 * 7, hidden_dim)\n",
    "        self.fc2 = nn.Linear(hidden_dim, 10)\n",
    "\n",
    "        if use_sigma:\n",
    "            self.fc2.weight.data.zero_()\n",
    "            self.fc2.bias.data.zero_()\n",
    "            self.fc1.bias.data.zero_()\n",
    "            self.conv2.bias.data.zero_()\n",
    "            self.conv1.bias.data.zero_()\n",
    "\n",
    "    def forward(self, x):\n",
    "        \n",
    "        if self.use_sigma:\n",
    "            x = x.view(-1, 1, 28, 28)\n",
    "            a1 = F.relu(self.conv1(x.detach()))\n",
    "            a1 = self.max_pool(a1)\n",
    "            a2 = F.relu(self.conv2(a1.detach()))\n",
    "            a2 = self.max_pool(a2)\n",
    "            a2 = a2.view(-1, 32 * 7 * 7)\n",
    "            a3 = F.relu(self.fc1(a2.detach()))\n",
    "            a4 = self.fc2(a3.detach())\n",
    "            self.penultimate_feature = a3.detach()\n",
    "            return a1, a2, a3, a4\n",
    "            \n",
    "        else:\n",
    "            x = x.view(-1, 1, 28, 28)\n",
    "            x = F.relu(self.conv1(x))\n",
    "            x = self.max_pool(x)\n",
    "            x = F.relu(self.conv2(x))\n",
    "            x = self.max_pool(x)\n",
    "            x = x.view(-1, 32 * 7 * 7)\n",
    "            x = F.relu(self.fc1(x))\n",
    "            x = self.fc2(x)\n",
    "            return None, None, None, x\n",
    "\n",
    "    def forward_logits(self):\n",
    "        return self.fc2(self.penultimate_feature)\n",
    "\n",
    "class BackwardModel(nn.Module):\n",
    "    def __init__(self, hidden_dim=128):\n",
    "        super(BackwardModel, self).__init__()\n",
    "        self.hidden_dim = hidden_dim\n",
    "\n",
    "        # Linear layers\n",
    "        self.fc1 = nn.Linear(10, hidden_dim)\n",
    "        self.fc2 = nn.Linear(hidden_dim, 32 * 7 * 7)\n",
    "\n",
    "        # Transposed Convolutions (Deconvolutions)\n",
    "        self.deconv1 = nn.ConvTranspose2d(32, 16, kernel_size=3, stride=2, padding=1, output_padding=1)\n",
    "        self.deconv2 = nn.ConvTranspose2d(16, 1, kernel_size=3, stride=2, padding=1, output_padding=1)\n",
    "        \n",
    "        # torch.nn.LayerNorm()\n",
    "\n",
    "        # Initialize weights and biases\n",
    "        init.orthogonal_(self.fc1.weight)\n",
    "        init.orthogonal_(self.fc2.weight)\n",
    "        init.orthogonal_(self.deconv1.weight)\n",
    "        self.fc1.bias.data.zero_()\n",
    "        self.fc2.bias.data.zero_()\n",
    "        self.deconv1.bias.data.zero_()\n",
    "        self.deconv2.bias.data.zero_()\n",
    "\n",
    "    def forward(self, t):\n",
    "        device = t.device\n",
    "        t = F.one_hot(t, num_classes=10).float().to(device)\n",
    "        s3 = F.relu(self.fc1(t.detach()))\n",
    "        s2 = F.relu(self.fc2(s3.detach()))\n",
    "        s1 = s2.view(-1, 32, 7, 7).detach()  # Reshape for deconvolutions\n",
    "        s1 = F.relu(self.deconv1(s1))\n",
    "        return s1, s2, s3\n",
    "    \n",
    "def normal(x): \n",
    "    return x / x.norm()\n",
    "    \n",
    "def normal_2d(x): \n",
    "    # x = x - x.mean()\n",
    "    return x / x.norm()\n",
    "\n",
    "# Define the loss functions\n",
    "def sigma_loss(a1, a2, a3, a4, s1, s2, s3, t):\n",
    "    assert a1.shape == s1.shape, f\"shape {a1.shape} does not align with shape {s1.shape}\"\n",
    "    assert a2.shape == s2.shape, f\"shape {a2.shape} does not align with shape {s2.shape}\"\n",
    "    assert a3.shape == s3.shape, f\"shape {a3.shape} does not align with shape {s3.shape}\"\n",
    "    # loss1 = F.mse_loss(normal(a1), normal(s1))\n",
    "    loss1 = F.mse_loss(normal_2d(a1), normal_2d(s1))\n",
    "    loss2 = F.mse_loss(normal(a2), normal(s2))\n",
    "    loss3 = F.mse_loss(normal(a3), normal(s3))\n",
    "    loss4 = F.mse_loss(a4, torch.nn.functional.one_hot(t, num_classes=10).float().to(t.device))\n",
    "    return loss1+loss2+loss3+loss4, loss1.item(), loss2.item(), loss3.item(), loss4.item(), \n",
    "\n",
    "def sigma_loss_head(a4, t):\n",
    "    return F.mse_loss(a4, torch.nn.functional.one_hot(t, num_classes=10).float().to(t.device))\n",
    "                       \n",
    "def bp_loss(a, b):\n",
    "    return criteria(a,b)\n",
    "    \n",
    "# Load MNIST dataset\n",
    "transform = transforms.Compose([transforms.ToTensor(), transforms.Normalize((0.5,), (0.5,))])\n",
    "train_dataset = datasets.MNIST(root='./data', train=True, download=True, transform=transform)\n",
    "test_dataset = datasets.MNIST(root='./data', train=False, download=True, transform=transform)\n",
    "train_loader = torch.utils.data.DataLoader(train_dataset, batch_size=64, shuffle=True)\n",
    "test_loader = torch.utils.data.DataLoader(test_dataset, batch_size=64, shuffle=False)\n",
    "\n",
    "# Initialize the models\n",
    "forward_model = ForwardModel(use_sigma=USE_SIGMA)\n",
    "backward_model = BackwardModel()\n",
    "\n",
    "# Define the optimizers: momentum=0, dampening=0, weight_decay=0, nesterov=False, *, maximize=False, foreach=None, differentiable=False\n",
    "forward_optimizer = optim.SGD(forward_model.parameters(), lr=1)\n",
    "backward_optimizer = optim.SGD(backward_model.parameters(), lr=1)\n",
    "criteria = nn.CrossEntropyLoss()\n",
    "\n",
    "# Training loop\n",
    "for epoch in range(20):\n",
    "    for batch_idx, (data, target) in enumerate(train_loader):\n",
    "            \n",
    "        # if batch_idx > 100: continue\n",
    "            \n",
    "        if USE_SIGMA: \n",
    "\n",
    "            s1, s2, s3 = backward_model(target)\n",
    "            a1, a2, a3, a4 = forward_model(data)\n",
    "            loss, l1, l2, l3, l4 = sigma_loss(a1, a2, a3, a4, s1, s2, s3, target)\n",
    "\n",
    "            # Update parameters\n",
    "            forward_optimizer.zero_grad()\n",
    "            backward_optimizer.zero_grad()\n",
    "            loss.backward()\n",
    "            forward_optimizer.step()\n",
    "            backward_optimizer.step()\n",
    "\n",
    "            # Update the linear head again\n",
    "            x = forward_model.forward_logits()\n",
    "            # loss = sigma_loss_head(a4, target)\n",
    "            loss = criteria(x, target)\n",
    "            forward_optimizer.zero_grad()\n",
    "            loss.backward()\n",
    "            forward_optimizer.step()\n",
    "                       \n",
    "        else:\n",
    "            _, _, _, x = forward_model(data)\n",
    "            loss = criteria(x, target)\n",
    "            forward_optimizer.zero_grad()\n",
    "            loss.backward(retain_graph=True)\n",
    "            forward_optimizer.step()  \n",
    "\n",
    "    # Print statistics\n",
    "    print(f'Epoch: {epoch}, Batch: {batch_idx}, Loss1: {l1:.3f}, Loss2: {l2:.3f}, Loss3: {l3:.3f}, Loss4: {l4:.3f}')\n",
    "\n",
    "    # Evaluate on test set\n",
    "    forward_model.eval()\n",
    "    correct = 0\n",
    "    total = 0\n",
    "    with torch.no_grad():\n",
    "        for data, target in test_loader:\n",
    "            _, _, _, outputs = forward_model(data)\n",
    "            _, predicted = torch.max(outputs.data, 1)\n",
    "            total += target.size(0)\n",
    "            correct += (predicted == target).sum().item()\n",
    "\n",
    "    print(f'Epoch: {epoch}, Test Accuracy: {100 * correct / total}%')\n",
    "    forward_model.train()"
   ]
  },
  {
   "cell_type": "code",
   "execution_count": 2,
   "metadata": {
    "tags": []
   },
   "outputs": [
    {
     "name": "stdout",
     "output_type": "stream",
     "text": [
      "0.0 0.016059112\n"
     ]
    },
    {
     "data": {
      "text/plain": [
       "<matplotlib.image.AxesImage at 0x12b74bd10>"
      ]
     },
     "execution_count": 2,
     "metadata": {},
     "output_type": "execute_result"
    },
    {
     "data": {
      "image/png": "[encoded data removed]",
      "text/plain": [
       "<Figure size 640x480 with 1 Axes>"
      ]
     },
     "metadata": {},
     "output_type": "display_data"
    }
   ],
   "source": [
    "import matplotlib.pyplot as plt\n",
    "\n",
    "backward_model = BackwardModel()\n",
    "s1, s2, s3 = backward_model(target)\n",
    "\n",
    "i1, i2 = 2, 4\n",
    "X = s1.detach().cpu()\n",
    "X = X / X.norm()\n",
    "X = X.numpy()\n",
    "print(X[i1,i2].min(), X[i1,i2].max())\n",
    "plt.imshow(X[i1,i2])"
   ]
  },
  {
   "cell_type": "code",
   "execution_count": 23,
   "metadata": {
    "tags": []
   },
   "outputs": [
    {
     "name": "stdout",
     "output_type": "stream",
     "text": [
      "0.0 0.0054241167\n"
     ]
    },
    {
     "data": {
      "text/plain": [
       "<matplotlib.image.AxesImage at 0x14b356c50>"
      ]
     },
     "execution_count": 23,
     "metadata": {},
     "output_type": "execute_result"
    },
    {
     "data": {
      "image/png": "[encoded data removed]",
      "text/plain": [
       "<Figure size 640x480 with 1 Axes>"
      ]
     },
     "metadata": {},
     "output_type": "display_data"
    }
   ],
   "source": [
    "## import matplotlib.pyplot as plt\n",
    "\n",
    "backward_model = BackwardModel()\n",
    "s1, s2, s3 = backward_model(target)\n",
    "\n",
    "i1, i2 = 7, 2\n",
    "X = s1.detach().cpu()\n",
    "X = X / X.norm()\n",
    "X = X.numpy()\n",
    "print(X[i1,i2].min(), X[i1,i2].max())\n",
    "plt.imshow(X[i1,i2])"
   ]
  },
  {
   "cell_type": "code",
   "execution_count": 19,
   "metadata": {
    "tags": []
   },
   "outputs": [
    {
     "name": "stdout",
     "output_type": "stream",
     "text": [
      "0.0 0.0056584203\n"
     ]
    },
    {
     "data": {
      "text/plain": [
       "<matplotlib.image.AxesImage at 0x14b18acd0>"
      ]
     },
     "execution_count": 19,
     "metadata": {},
     "output_type": "execute_result"
    },
    {
     "data": {
      "image/png": "[encoded data removed]",
      "text/plain": [
       "<Figure size 640x480 with 1 Axes>"
      ]
     },
     "metadata": {},
     "output_type": "display_data"
    }
   ],
   "source": [
    "i1, i2 = 0, 6\n",
    "X = a1.detach().cpu()\n",
    "X = X / X.norm()\n",
    "X = X.numpy()\n",
    "print(X[i1,i2].min(), X[i1,i2].max())\n",
    "plt.imshow(X[i1,i2])"
   ]
  },
  {
   "cell_type": "code",
   "execution_count": null,
   "metadata": {
    "tags": []
   },
   "outputs": [],
   "source": [
    "s2.shape"
   ]
  }
 ],
 "metadata": {
  "kernelspec": {
   "display_name": "Python 3 (ipykernel)",
   "language": "python",
   "name": "python3"
  },
  "language_info": {
   "codemirror_mode": {
    "name": "ipython",
    "version": 3
   },
   "file_extension": ".py",
   "mimetype": "text/x-python",
   "name": "python",
   "nbconvert_exporter": "python",
   "pygments_lexer": "ipython3",
   "version": "3.11.4"
  }
 },
 "nbformat": 4,
 "nbformat_minor": 4
}
