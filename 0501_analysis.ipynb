{
 "cells": [
  {
   "cell_type": "code",
   "execution_count": 2,
   "id": "b61891d8-7999-4250-a905-a42c100845f9",
   "metadata": {
    "tags": []
   },
   "outputs": [],
   "source": [
    "import pandas as pd\n",
    "import os\n",
    "import numpy as np"
   ]
  },
  {
   "cell_type": "code",
   "execution_count": 3,
   "id": "07ebd699-7831-4eea-9460-4d1ed1cf7f74",
   "metadata": {
    "tags": []
   },
   "outputs": [],
   "source": [
    "PATH = \"./wandb_classification_0501_2357.csv\"\n",
    "dataset = pd.read_csv(PATH)"
   ]
  },
  {
   "cell_type": "code",
   "execution_count": 4,
   "id": "bd90163c-cedb-4129-9d8e-831eb78dec38",
   "metadata": {
    "tags": []
   },
   "outputs": [
    {
     "data": {
      "text/html": [
       "<div>\n",
       "<style scoped>\n",
       "    .dataframe tbody tr th:only-of-type {\n",
       "        vertical-align: middle;\n",
       "    }\n",
       "\n",
       "    .dataframe tbody tr th {\n",
       "        vertical-align: top;\n",
       "    }\n",
       "\n",
       "    .dataframe thead th {\n",
       "        text-align: right;\n",
       "    }\n",
       "</style>\n",
       "<table border=\"1\" class=\"dataframe\">\n",
       "  <thead>\n",
       "    <tr style=\"text-align: right;\">\n",
       "      <th></th>\n",
       "      <th>dataset</th>\n",
       "      <th>MNIST</th>\n",
       "    </tr>\n",
       "    <tr>\n",
       "      <th>algorithm</th>\n",
       "      <th>loss_feedback</th>\n",
       "      <th></th>\n",
       "    </tr>\n",
       "  </thead>\n",
       "  <tbody>\n",
       "    <tr>\n",
       "      <th>BP</th>\n",
       "      <th>DTP</th>\n",
       "      <td>0.98065</td>\n",
       "    </tr>\n",
       "    <tr>\n",
       "      <th rowspan=\"3\" valign=\"top\">DTP</th>\n",
       "      <th>DRL</th>\n",
       "      <td>0.93250</td>\n",
       "    </tr>\n",
       "    <tr>\n",
       "      <th>DTP</th>\n",
       "      <td>0.97308</td>\n",
       "    </tr>\n",
       "    <tr>\n",
       "      <th>L-DRL</th>\n",
       "      <td>0.93284</td>\n",
       "    </tr>\n",
       "    <tr>\n",
       "      <th>DTP-BN</th>\n",
       "      <th>DTP</th>\n",
       "      <td>0.97110</td>\n",
       "    </tr>\n",
       "    <tr>\n",
       "      <th>FWDTP</th>\n",
       "      <th>DTP</th>\n",
       "      <td>0.89836</td>\n",
       "    </tr>\n",
       "    <tr>\n",
       "      <th>FWDTP-BN</th>\n",
       "      <th>DTP</th>\n",
       "      <td>0.97204</td>\n",
       "    </tr>\n",
       "  </tbody>\n",
       "</table>\n",
       "</div>"
      ],
      "text/plain": [
       "dataset                    MNIST\n",
       "algorithm loss_feedback         \n",
       "BP        DTP            0.98065\n",
       "DTP       DRL            0.93250\n",
       "          DTP            0.97308\n",
       "          L-DRL          0.93284\n",
       "DTP-BN    DTP            0.97110\n",
       "FWDTP     DTP            0.89836\n",
       "FWDTP-BN  DTP            0.97204"
      ]
     },
     "execution_count": 4,
     "metadata": {},
     "output_type": "execute_result"
    }
   ],
   "source": [
    "# MNIST\n",
    "\n",
    "ds = dataset[dataset[\"dataset\"] == \"MNIST\"]\n",
    "del ds[\"Runtime\"]\n",
    "ds = ds[ds.epochs_backward == 5]\n",
    "ds = ds[(ds.loss_feedback != \"DRL\") | ((ds.loss_feedback == \"DRL\") & (ds.learning_rate == 4) & (ds.learning_rate_backward == 0.0002) & (ds.stepsize == 0.04))]\n",
    "ds = ds[(ds.loss_feedback != \"L-DRL\") | ((ds.loss_feedback == \"L-DRL\") & (ds.learning_rate == 4) & (ds.learning_rate_backward == 0.0002) & (ds.stepsize == 0.04))]\n",
    "ds = ds[~ds.duplicated(subset=[\"Name\", \"loss_feedback\", \"seed\", \"learning_rate\", \"learning_rate_backward\", \"stepsize\"])]\n",
    "pd.pivot_table(ds, values='test accuracy', index=['algorithm', 'loss_feedback'], columns=['dataset'], aggfunc=\"mean\")"
   ]
  },
  {
   "cell_type": "code",
   "execution_count": 5,
   "id": "7948cabb-f60e-402d-987c-4dc4f38a7ede",
   "metadata": {
    "tags": []
   },
   "outputs": [
    {
     "data": {
      "text/html": [
       "<div>\n",
       "<style scoped>\n",
       "    .dataframe tbody tr th:only-of-type {\n",
       "        vertical-align: middle;\n",
       "    }\n",
       "\n",
       "    .dataframe tbody tr th {\n",
       "        vertical-align: top;\n",
       "    }\n",
       "\n",
       "    .dataframe thead th {\n",
       "        text-align: right;\n",
       "    }\n",
       "</style>\n",
       "<table border=\"1\" class=\"dataframe\">\n",
       "  <thead>\n",
       "    <tr style=\"text-align: right;\">\n",
       "      <th></th>\n",
       "      <th>dataset</th>\n",
       "      <th>MNIST</th>\n",
       "    </tr>\n",
       "    <tr>\n",
       "      <th>algorithm</th>\n",
       "      <th>loss_feedback</th>\n",
       "      <th></th>\n",
       "    </tr>\n",
       "  </thead>\n",
       "  <tbody>\n",
       "    <tr>\n",
       "      <th>BP</th>\n",
       "      <th>DTP</th>\n",
       "      <td>0.004036</td>\n",
       "    </tr>\n",
       "    <tr>\n",
       "      <th rowspan=\"3\" valign=\"top\">DTP</th>\n",
       "      <th>DRL</th>\n",
       "      <td>0.000914</td>\n",
       "    </tr>\n",
       "    <tr>\n",
       "      <th>DTP</th>\n",
       "      <td>0.000626</td>\n",
       "    </tr>\n",
       "    <tr>\n",
       "      <th>L-DRL</th>\n",
       "      <td>0.004496</td>\n",
       "    </tr>\n",
       "    <tr>\n",
       "      <th>DTP-BN</th>\n",
       "      <th>DTP</th>\n",
       "      <td>0.001490</td>\n",
       "    </tr>\n",
       "    <tr>\n",
       "      <th>FWDTP</th>\n",
       "      <th>DTP</th>\n",
       "      <td>0.001146</td>\n",
       "    </tr>\n",
       "    <tr>\n",
       "      <th>FWDTP-BN</th>\n",
       "      <th>DTP</th>\n",
       "      <td>0.001424</td>\n",
       "    </tr>\n",
       "  </tbody>\n",
       "</table>\n",
       "</div>"
      ],
      "text/plain": [
       "dataset                     MNIST\n",
       "algorithm loss_feedback          \n",
       "BP        DTP            0.004036\n",
       "DTP       DRL            0.000914\n",
       "          DTP            0.000626\n",
       "          L-DRL          0.004496\n",
       "DTP-BN    DTP            0.001490\n",
       "FWDTP     DTP            0.001146\n",
       "FWDTP-BN  DTP            0.001424"
      ]
     },
     "execution_count": 5,
     "metadata": {},
     "output_type": "execute_result"
    }
   ],
   "source": [
    "pd.pivot_table(ds, values='test accuracy', index=['algorithm', 'loss_feedback'], columns=['dataset'], aggfunc=\"std\")"
   ]
  },
  {
   "cell_type": "code",
   "execution_count": 11,
   "id": "ca71a056-eb37-44dc-9446-8293d6bddb27",
   "metadata": {
    "tags": []
   },
   "outputs": [
    {
     "data": {
      "text/html": [
       "<div>\n",
       "<style scoped>\n",
       "    .dataframe tbody tr th:only-of-type {\n",
       "        vertical-align: middle;\n",
       "    }\n",
       "\n",
       "    .dataframe tbody tr th {\n",
       "        vertical-align: top;\n",
       "    }\n",
       "\n",
       "    .dataframe thead th {\n",
       "        text-align: right;\n",
       "    }\n",
       "</style>\n",
       "<table border=\"1\" class=\"dataframe\">\n",
       "  <thead>\n",
       "    <tr style=\"text-align: right;\">\n",
       "      <th></th>\n",
       "      <th>dataset</th>\n",
       "      <th>FashionMNIST</th>\n",
       "    </tr>\n",
       "    <tr>\n",
       "      <th>algorithm</th>\n",
       "      <th>loss_feedback</th>\n",
       "      <th></th>\n",
       "    </tr>\n",
       "  </thead>\n",
       "  <tbody>\n",
       "    <tr>\n",
       "      <th>BP</th>\n",
       "      <th>DTP</th>\n",
       "      <td>0.89238</td>\n",
       "    </tr>\n",
       "    <tr>\n",
       "      <th rowspan=\"3\" valign=\"top\">DTP</th>\n",
       "      <th>DRL</th>\n",
       "      <td>0.83342</td>\n",
       "    </tr>\n",
       "    <tr>\n",
       "      <th>DTP</th>\n",
       "      <td>0.88272</td>\n",
       "    </tr>\n",
       "    <tr>\n",
       "      <th>L-DRL</th>\n",
       "      <td>0.83514</td>\n",
       "    </tr>\n",
       "    <tr>\n",
       "      <th>FWDTP-BN</th>\n",
       "      <th>DTP</th>\n",
       "      <td>0.88278</td>\n",
       "    </tr>\n",
       "  </tbody>\n",
       "</table>\n",
       "</div>"
      ],
      "text/plain": [
       "dataset                  FashionMNIST\n",
       "algorithm loss_feedback              \n",
       "BP        DTP                 0.89238\n",
       "DTP       DRL                 0.83342\n",
       "          DTP                 0.88272\n",
       "          L-DRL               0.83514\n",
       "FWDTP-BN  DTP                 0.88278"
      ]
     },
     "execution_count": 11,
     "metadata": {},
     "output_type": "execute_result"
    }
   ],
   "source": [
    "# MNIST\n",
    "ds = dataset[dataset[\"dataset\"] == \"FashionMNIST\"]\n",
    "del ds[\"Runtime\"]\n",
    "ds = ds[ds.epochs_backward == 5]\n",
    "ds = ds[(ds.algorithm != \"BP\") | ((ds.algorithm == \"BP\") & (ds.learning_rate == 0.1))]\n",
    "ds = ds[(ds.loss_feedback != \"DRL\") | ((ds.loss_feedback == \"DRL\") & (ds.learning_rate == 4) & (ds.learning_rate_backward == 0.002) & (ds.stepsize == 0.008))]\n",
    "ds = ds[(ds.loss_feedback != \"L-DRL\") | ((ds.loss_feedback == \"L-DRL\") & (ds.learning_rate == 2) & (ds.learning_rate_backward == 0.001) & (ds.stepsize == 0.02))]\n",
    "ds = ds[~ds.duplicated(subset=[\"Name\", \"loss_feedback\", \"seed\", \"learning_rate\", \"learning_rate_backward\", \"stepsize\"])]\n",
    "pd.pivot_table(ds, values='test accuracy', index=['algorithm', 'loss_feedback'], columns=['dataset'], aggfunc=\"mean\")"
   ]
  },
  {
   "cell_type": "code",
   "execution_count": 12,
   "id": "775c8cf5-8b09-4cfd-af73-49b04e1ce20b",
   "metadata": {
    "tags": []
   },
   "outputs": [
    {
     "data": {
      "text/html": [
       "<div>\n",
       "<style scoped>\n",
       "    .dataframe tbody tr th:only-of-type {\n",
       "        vertical-align: middle;\n",
       "    }\n",
       "\n",
       "    .dataframe tbody tr th {\n",
       "        vertical-align: top;\n",
       "    }\n",
       "\n",
       "    .dataframe thead th {\n",
       "        text-align: right;\n",
       "    }\n",
       "</style>\n",
       "<table border=\"1\" class=\"dataframe\">\n",
       "  <thead>\n",
       "    <tr style=\"text-align: right;\">\n",
       "      <th></th>\n",
       "      <th>dataset</th>\n",
       "      <th>FashionMNIST</th>\n",
       "    </tr>\n",
       "    <tr>\n",
       "      <th>algorithm</th>\n",
       "      <th>loss_feedback</th>\n",
       "      <th></th>\n",
       "    </tr>\n",
       "  </thead>\n",
       "  <tbody>\n",
       "    <tr>\n",
       "      <th>BP</th>\n",
       "      <th>DTP</th>\n",
       "      <td>0.007128</td>\n",
       "    </tr>\n",
       "    <tr>\n",
       "      <th rowspan=\"3\" valign=\"top\">DTP</th>\n",
       "      <th>DRL</th>\n",
       "      <td>0.001785</td>\n",
       "    </tr>\n",
       "    <tr>\n",
       "      <th>DTP</th>\n",
       "      <td>0.003154</td>\n",
       "    </tr>\n",
       "    <tr>\n",
       "      <th>L-DRL</th>\n",
       "      <td>0.002004</td>\n",
       "    </tr>\n",
       "    <tr>\n",
       "      <th>FWDTP-BN</th>\n",
       "      <th>DTP</th>\n",
       "      <td>0.002333</td>\n",
       "    </tr>\n",
       "  </tbody>\n",
       "</table>\n",
       "</div>"
      ],
      "text/plain": [
       "dataset                  FashionMNIST\n",
       "algorithm loss_feedback              \n",
       "BP        DTP                0.007128\n",
       "DTP       DRL                0.001785\n",
       "          DTP                0.003154\n",
       "          L-DRL              0.002004\n",
       "FWDTP-BN  DTP                0.002333"
      ]
     },
     "execution_count": 12,
     "metadata": {},
     "output_type": "execute_result"
    }
   ],
   "source": [
    "pd.pivot_table(ds, values='test accuracy', index=['algorithm', 'loss_feedback'], columns=['dataset'], aggfunc=\"std\")"
   ]
  },
  {
   "cell_type": "code",
   "execution_count": null,
   "id": "8df878a0-1b16-474b-be0b-9c51e76ea4ad",
   "metadata": {},
   "outputs": [],
   "source": []
  },
  {
   "cell_type": "code",
   "execution_count": 9,
   "id": "9717c5e4-54e0-429a-b738-1b78820cfe88",
   "metadata": {
    "tags": []
   },
   "outputs": [
    {
     "data": {
      "text/html": [
       "<div>\n",
       "<style scoped>\n",
       "    .dataframe tbody tr th:only-of-type {\n",
       "        vertical-align: middle;\n",
       "    }\n",
       "\n",
       "    .dataframe tbody tr th {\n",
       "        vertical-align: top;\n",
       "    }\n",
       "\n",
       "    .dataframe thead th {\n",
       "        text-align: right;\n",
       "    }\n",
       "</style>\n",
       "<table border=\"1\" class=\"dataframe\">\n",
       "  <thead>\n",
       "    <tr style=\"text-align: right;\">\n",
       "      <th></th>\n",
       "      <th>dataset</th>\n",
       "      <th>CIFAR10</th>\n",
       "    </tr>\n",
       "    <tr>\n",
       "      <th>algorithm</th>\n",
       "      <th>loss_feedback</th>\n",
       "      <th></th>\n",
       "    </tr>\n",
       "  </thead>\n",
       "  <tbody>\n",
       "    <tr>\n",
       "      <th>BP</th>\n",
       "      <th>DTP</th>\n",
       "      <td>0.53896</td>\n",
       "    </tr>\n",
       "    <tr>\n",
       "      <th rowspan=\"3\" valign=\"top\">DTP</th>\n",
       "      <th>DRL</th>\n",
       "      <td>0.45598</td>\n",
       "    </tr>\n",
       "    <tr>\n",
       "      <th>DTP</th>\n",
       "      <td>0.48800</td>\n",
       "    </tr>\n",
       "    <tr>\n",
       "      <th>L-DRL</th>\n",
       "      <td>0.45420</td>\n",
       "    </tr>\n",
       "    <tr>\n",
       "      <th>DTP-BN</th>\n",
       "      <th>DTP</th>\n",
       "      <td>0.45256</td>\n",
       "    </tr>\n",
       "    <tr>\n",
       "      <th>FWDTP</th>\n",
       "      <th>DTP</th>\n",
       "      <td>0.35800</td>\n",
       "    </tr>\n",
       "    <tr>\n",
       "      <th>FWDTP-BN</th>\n",
       "      <th>DTP</th>\n",
       "      <td>0.50774</td>\n",
       "    </tr>\n",
       "  </tbody>\n",
       "</table>\n",
       "</div>"
      ],
      "text/plain": [
       "dataset                  CIFAR10\n",
       "algorithm loss_feedback         \n",
       "BP        DTP            0.53896\n",
       "DTP       DRL            0.45598\n",
       "          DTP            0.48800\n",
       "          L-DRL          0.45420\n",
       "DTP-BN    DTP            0.45256\n",
       "FWDTP     DTP            0.35800\n",
       "FWDTP-BN  DTP            0.50774"
      ]
     },
     "execution_count": 9,
     "metadata": {},
     "output_type": "execute_result"
    }
   ],
   "source": [
    "ds = dataset[dataset[\"dataset\"] == \"CIFAR10\"]\n",
    "del ds[\"Runtime\"]\n",
    "ds[\"algorithm\"].unique()\n",
    "ds = ds[ds.epochs_backward == 5]\n",
    "ds = ds[(ds.algorithm != \"BP\") | ((ds.algorithm == \"BP\") & (ds.learning_rate == 0.02))]\n",
    "# pd.pivot_table(ds[ds.algorithm == \"BP\"], values='test accuracy', index=['learning_rate'], columns=['dataset'], aggfunc=\"mean\")\n",
    "ds = ds[(ds.loss_feedback != \"DRL\") | ((ds.loss_feedback == \"DRL\") & (ds.learning_rate == 2) & (ds.learning_rate_backward == 0.004) & (ds.stepsize == 0.008))]\n",
    "ds = ds[(ds.loss_feedback != \"L-DRL\") | ((ds.loss_feedback == \"L-DRL\") & (ds.learning_rate == 0.2) & (ds.learning_rate_backward == 0.0004) & (ds.stepsize == 0.04))]\n",
    "ds = ds[~ds.duplicated(subset=[\"Name\", \"loss_feedback\", \"seed\", \"learning_rate\", \"learning_rate_backward\", \"stepsize\"])]\n",
    "pd.pivot_table(ds, values='test accuracy', index=['algorithm', 'loss_feedback'], columns=['dataset'], aggfunc=\"mean\")"
   ]
  },
  {
   "cell_type": "code",
   "execution_count": 76,
   "id": "46b4f79e-27b2-4e91-8cab-6394ade38bd8",
   "metadata": {
    "tags": []
   },
   "outputs": [
    {
     "data": {
      "text/html": [
       "<div>\n",
       "<style scoped>\n",
       "    .dataframe tbody tr th:only-of-type {\n",
       "        vertical-align: middle;\n",
       "    }\n",
       "\n",
       "    .dataframe tbody tr th {\n",
       "        vertical-align: top;\n",
       "    }\n",
       "\n",
       "    .dataframe thead th {\n",
       "        text-align: right;\n",
       "    }\n",
       "</style>\n",
       "<table border=\"1\" class=\"dataframe\">\n",
       "  <thead>\n",
       "    <tr style=\"text-align: right;\">\n",
       "      <th></th>\n",
       "      <th>dataset</th>\n",
       "      <th>CIFAR10</th>\n",
       "    </tr>\n",
       "    <tr>\n",
       "      <th>algorithm</th>\n",
       "      <th>loss_feedback</th>\n",
       "      <th></th>\n",
       "    </tr>\n",
       "  </thead>\n",
       "  <tbody>\n",
       "    <tr>\n",
       "      <th>BP</th>\n",
       "      <th>DTP</th>\n",
       "      <td>0.011425</td>\n",
       "    </tr>\n",
       "    <tr>\n",
       "      <th rowspan=\"3\" valign=\"top\">DTP</th>\n",
       "      <th>DRL</th>\n",
       "      <td>0.004532</td>\n",
       "    </tr>\n",
       "    <tr>\n",
       "      <th>DTP</th>\n",
       "      <td>0.006700</td>\n",
       "    </tr>\n",
       "    <tr>\n",
       "      <th>L-DRL</th>\n",
       "      <td>0.004201</td>\n",
       "    </tr>\n",
       "    <tr>\n",
       "      <th>DTP-BN</th>\n",
       "      <th>DTP</th>\n",
       "      <td>0.005097</td>\n",
       "    </tr>\n",
       "    <tr>\n",
       "      <th>FWDTP</th>\n",
       "      <th>DTP</th>\n",
       "      <td>0.001032</td>\n",
       "    </tr>\n",
       "    <tr>\n",
       "      <th>FWDTP-BN</th>\n",
       "      <th>DTP</th>\n",
       "      <td>0.000918</td>\n",
       "    </tr>\n",
       "  </tbody>\n",
       "</table>\n",
       "</div>"
      ],
      "text/plain": [
       "dataset                   CIFAR10\n",
       "algorithm loss_feedback          \n",
       "BP        DTP            0.011425\n",
       "DTP       DRL            0.004532\n",
       "          DTP            0.006700\n",
       "          L-DRL          0.004201\n",
       "DTP-BN    DTP            0.005097\n",
       "FWDTP     DTP            0.001032\n",
       "FWDTP-BN  DTP            0.000918"
      ]
     },
     "execution_count": 76,
     "metadata": {},
     "output_type": "execute_result"
    }
   ],
   "source": [
    "pd.pivot_table(ds, values='test accuracy', index=['algorithm', 'loss_feedback'], columns=['dataset'], aggfunc=\"std\")"
   ]
  },
  {
   "cell_type": "code",
   "execution_count": 82,
   "id": "aa92b6a4-5b1b-4807-b7e3-a05646daaf91",
   "metadata": {
    "tags": []
   },
   "outputs": [
    {
     "data": {
      "text/html": [
       "<div>\n",
       "<style scoped>\n",
       "    .dataframe tbody tr th:only-of-type {\n",
       "        vertical-align: middle;\n",
       "    }\n",
       "\n",
       "    .dataframe tbody tr th {\n",
       "        vertical-align: top;\n",
       "    }\n",
       "\n",
       "    .dataframe thead th {\n",
       "        text-align: right;\n",
       "    }\n",
       "</style>\n",
       "<table border=\"1\" class=\"dataframe\">\n",
       "  <thead>\n",
       "    <tr style=\"text-align: right;\">\n",
       "      <th></th>\n",
       "      <th>dataset</th>\n",
       "      <th>CIFAR100</th>\n",
       "    </tr>\n",
       "    <tr>\n",
       "      <th>algorithm</th>\n",
       "      <th>loss_feedback</th>\n",
       "      <th></th>\n",
       "    </tr>\n",
       "  </thead>\n",
       "  <tbody>\n",
       "    <tr>\n",
       "      <th>BP</th>\n",
       "      <th>DTP</th>\n",
       "      <td>0.237025</td>\n",
       "    </tr>\n",
       "    <tr>\n",
       "      <th rowspan=\"3\" valign=\"top\">DTP</th>\n",
       "      <th>DRL</th>\n",
       "      <td>0.204780</td>\n",
       "    </tr>\n",
       "    <tr>\n",
       "      <th>DTP</th>\n",
       "      <td>0.229960</td>\n",
       "    </tr>\n",
       "    <tr>\n",
       "      <th>L-DRL</th>\n",
       "      <td>0.206260</td>\n",
       "    </tr>\n",
       "    <tr>\n",
       "      <th>DTP-BN</th>\n",
       "      <th>DTP</th>\n",
       "      <td>0.181200</td>\n",
       "    </tr>\n",
       "    <tr>\n",
       "      <th>FWDTP</th>\n",
       "      <th>DTP</th>\n",
       "      <td>0.153720</td>\n",
       "    </tr>\n",
       "    <tr>\n",
       "      <th>FWDTP-BN</th>\n",
       "      <th>DTP</th>\n",
       "      <td>0.230440</td>\n",
       "    </tr>\n",
       "  </tbody>\n",
       "</table>\n",
       "</div>"
      ],
      "text/plain": [
       "dataset                  CIFAR100\n",
       "algorithm loss_feedback          \n",
       "BP        DTP            0.237025\n",
       "DTP       DRL            0.204780\n",
       "          DTP            0.229960\n",
       "          L-DRL          0.206260\n",
       "DTP-BN    DTP            0.181200\n",
       "FWDTP     DTP            0.153720\n",
       "FWDTP-BN  DTP            0.230440"
      ]
     },
     "execution_count": 82,
     "metadata": {},
     "output_type": "execute_result"
    }
   ],
   "source": [
    "ds = dataset[dataset[\"dataset\"] == \"CIFAR100\"]\n",
    "del ds[\"Runtime\"]\n",
    "ds[\"algorithm\"].unique()\n",
    "ds = ds[ds.epochs_backward == 5]\n",
    "ds = ds[(ds.algorithm != \"BP\") | ((ds.algorithm == \"BP\") & (ds.learning_rate == 0.004))]\n",
    "pd.pivot_table(ds[ds.algorithm == \"BP\"], values='test accuracy', index=['learning_rate'], columns=['dataset'], aggfunc=\"mean\")\n",
    "ds = ds[(ds.loss_feedback != \"DRL\") | ((ds.loss_feedback == \"DRL\") & (ds.learning_rate == 0.8) & (ds.learning_rate_backward == 0.002) & (ds.stepsize == 0.02))]\n",
    "ds = ds[(ds.loss_feedback != \"L-DRL\") | ((ds.loss_feedback == \"L-DRL\") & (ds.learning_rate == 2) & (ds.learning_rate_backward == 0.0001) & (ds.stepsize == 0.008))]\n",
    "ds = ds[~ds.duplicated(subset=[\"Name\", \"loss_feedback\", \"seed\", \"learning_rate\", \"learning_rate_backward\", \"stepsize\"])]\n",
    "pd.pivot_table(ds, values='test accuracy', index=['algorithm', 'loss_feedback'], columns=['dataset'], aggfunc=\"mean\")"
   ]
  },
  {
   "cell_type": "code",
   "execution_count": 83,
   "id": "5f74794b-a680-4348-9810-63936006d870",
   "metadata": {
    "tags": []
   },
   "outputs": [
    {
     "data": {
      "text/html": [
       "<div>\n",
       "<style scoped>\n",
       "    .dataframe tbody tr th:only-of-type {\n",
       "        vertical-align: middle;\n",
       "    }\n",
       "\n",
       "    .dataframe tbody tr th {\n",
       "        vertical-align: top;\n",
       "    }\n",
       "\n",
       "    .dataframe thead th {\n",
       "        text-align: right;\n",
       "    }\n",
       "</style>\n",
       "<table border=\"1\" class=\"dataframe\">\n",
       "  <thead>\n",
       "    <tr style=\"text-align: right;\">\n",
       "      <th></th>\n",
       "      <th>dataset</th>\n",
       "      <th>CIFAR100</th>\n",
       "    </tr>\n",
       "    <tr>\n",
       "      <th>algorithm</th>\n",
       "      <th>loss_feedback</th>\n",
       "      <th></th>\n",
       "    </tr>\n",
       "  </thead>\n",
       "  <tbody>\n",
       "    <tr>\n",
       "      <th>BP</th>\n",
       "      <th>DTP</th>\n",
       "      <td>0.002213</td>\n",
       "    </tr>\n",
       "    <tr>\n",
       "      <th rowspan=\"3\" valign=\"top\">DTP</th>\n",
       "      <th>DRL</th>\n",
       "      <td>0.001807</td>\n",
       "    </tr>\n",
       "    <tr>\n",
       "      <th>DTP</th>\n",
       "      <td>0.000856</td>\n",
       "    </tr>\n",
       "    <tr>\n",
       "      <th>L-DRL</th>\n",
       "      <td>0.001638</td>\n",
       "    </tr>\n",
       "    <tr>\n",
       "      <th>DTP-BN</th>\n",
       "      <th>DTP</th>\n",
       "      <td>0.002082</td>\n",
       "    </tr>\n",
       "    <tr>\n",
       "      <th>FWDTP</th>\n",
       "      <th>DTP</th>\n",
       "      <td>0.001192</td>\n",
       "    </tr>\n",
       "    <tr>\n",
       "      <th>FWDTP-BN</th>\n",
       "      <th>DTP</th>\n",
       "      <td>0.001869</td>\n",
       "    </tr>\n",
       "  </tbody>\n",
       "</table>\n",
       "</div>"
      ],
      "text/plain": [
       "dataset                  CIFAR100\n",
       "algorithm loss_feedback          \n",
       "BP        DTP            0.002213\n",
       "DTP       DRL            0.001807\n",
       "          DTP            0.000856\n",
       "          L-DRL          0.001638\n",
       "DTP-BN    DTP            0.002082\n",
       "FWDTP     DTP            0.001192\n",
       "FWDTP-BN  DTP            0.001869"
      ]
     },
     "execution_count": 83,
     "metadata": {},
     "output_type": "execute_result"
    }
   ],
   "source": [
    "pd.pivot_table(ds, values='test accuracy', index=['algorithm', 'loss_feedback'], columns=['dataset'], aggfunc=\"std\")"
   ]
  },
  {
   "cell_type": "code",
   "execution_count": 80,
   "id": "ebdb89d4-f6c4-41e6-8416-6b6c86a5d34c",
   "metadata": {
    "tags": []
   },
   "outputs": [
    {
     "data": {
      "text/html": [
       "<div>\n",
       "<style scoped>\n",
       "    .dataframe tbody tr th:only-of-type {\n",
       "        vertical-align: middle;\n",
       "    }\n",
       "\n",
       "    .dataframe tbody tr th {\n",
       "        vertical-align: top;\n",
       "    }\n",
       "\n",
       "    .dataframe thead th {\n",
       "        text-align: right;\n",
       "    }\n",
       "</style>\n",
       "<table border=\"1\" class=\"dataframe\">\n",
       "  <thead>\n",
       "    <tr style=\"text-align: right;\">\n",
       "      <th></th>\n",
       "      <th>Name</th>\n",
       "      <th>dataset</th>\n",
       "      <th>algorithm</th>\n",
       "      <th>loss_feedback</th>\n",
       "      <th>test accuracy</th>\n",
       "      <th>State</th>\n",
       "      <th>learning_rate</th>\n",
       "      <th>learning_rate_backward</th>\n",
       "      <th>train accuracy</th>\n",
       "      <th>seed</th>\n",
       "      <th>activation_function</th>\n",
       "      <th>epochs_backward</th>\n",
       "      <th>stepsize</th>\n",
       "    </tr>\n",
       "  </thead>\n",
       "  <tbody>\n",
       "    <tr>\n",
       "      <th>11</th>\n",
       "      <td>CIFAR100_BP</td>\n",
       "      <td>CIFAR100</td>\n",
       "      <td>BP</td>\n",
       "      <td>DTP</td>\n",
       "      <td>0.2361</td>\n",
       "      <td>finished</td>\n",
       "      <td>0.004</td>\n",
       "      <td>0.001</td>\n",
       "      <td>0.34102</td>\n",
       "      <td>5</td>\n",
       "      <td>tanh</td>\n",
       "      <td>5</td>\n",
       "      <td>0.01</td>\n",
       "    </tr>\n",
       "    <tr>\n",
       "      <th>41</th>\n",
       "      <td>CIFAR100_BP</td>\n",
       "      <td>CIFAR100</td>\n",
       "      <td>BP</td>\n",
       "      <td>DTP</td>\n",
       "      <td>0.2400</td>\n",
       "      <td>finished</td>\n",
       "      <td>0.004</td>\n",
       "      <td>0.001</td>\n",
       "      <td>0.34256</td>\n",
       "      <td>2</td>\n",
       "      <td>tanh</td>\n",
       "      <td>5</td>\n",
       "      <td>0.01</td>\n",
       "    </tr>\n",
       "    <tr>\n",
       "      <th>168</th>\n",
       "      <td>CIFAR100_BP</td>\n",
       "      <td>CIFAR100</td>\n",
       "      <td>BP</td>\n",
       "      <td>DTP</td>\n",
       "      <td>0.2372</td>\n",
       "      <td>finished</td>\n",
       "      <td>0.004</td>\n",
       "      <td>0.001</td>\n",
       "      <td>0.34252</td>\n",
       "      <td>3</td>\n",
       "      <td>tanh</td>\n",
       "      <td>5</td>\n",
       "      <td>0.01</td>\n",
       "    </tr>\n",
       "    <tr>\n",
       "      <th>393</th>\n",
       "      <td>CIFAR100_BP</td>\n",
       "      <td>CIFAR100</td>\n",
       "      <td>BP</td>\n",
       "      <td>DTP</td>\n",
       "      <td>0.2348</td>\n",
       "      <td>finished</td>\n",
       "      <td>0.004</td>\n",
       "      <td>0.001</td>\n",
       "      <td>0.33832</td>\n",
       "      <td>4</td>\n",
       "      <td>tanh</td>\n",
       "      <td>5</td>\n",
       "      <td>0.01</td>\n",
       "    </tr>\n",
       "  </tbody>\n",
       "</table>\n",
       "</div>"
      ],
      "text/plain": [
       "            Name   dataset algorithm loss_feedback  test accuracy     State  \\\n",
       "11   CIFAR100_BP  CIFAR100        BP           DTP         0.2361  finished   \n",
       "41   CIFAR100_BP  CIFAR100        BP           DTP         0.2400  finished   \n",
       "168  CIFAR100_BP  CIFAR100        BP           DTP         0.2372  finished   \n",
       "393  CIFAR100_BP  CIFAR100        BP           DTP         0.2348  finished   \n",
       "\n",
       "     learning_rate  learning_rate_backward  train accuracy  seed  \\\n",
       "11           0.004                   0.001         0.34102     5   \n",
       "41           0.004                   0.001         0.34256     2   \n",
       "168          0.004                   0.001         0.34252     3   \n",
       "393          0.004                   0.001         0.33832     4   \n",
       "\n",
       "    activation_function  epochs_backward  stepsize  \n",
       "11                 tanh                5      0.01  \n",
       "41                 tanh                5      0.01  \n",
       "168                tanh                5      0.01  \n",
       "393                tanh                5      0.01  "
      ]
     },
     "execution_count": 80,
     "metadata": {},
     "output_type": "execute_result"
    }
   ],
   "source": [
    "ds[(ds.algorithm==\"BP\") & (ds.learning_rate==0.004)]"
   ]
  },
  {
   "cell_type": "code",
   "execution_count": null,
   "id": "a9515863-a03d-4090-b997-99b646900f7b",
   "metadata": {},
   "outputs": [],
   "source": []
  },
  {
   "cell_type": "markdown",
   "id": "80bbf574-0f3e-4b8d-b875-e49a1ae3e704",
   "metadata": {},
   "source": [
    "# CCL"
   ]
  },
  {
   "cell_type": "code",
   "execution_count": 23,
   "id": "0404689b-ef51-46e8-8561-a2d7d4bb90bf",
   "metadata": {
    "tags": []
   },
   "outputs": [
    {
     "name": "stdout",
     "output_type": "stream",
     "text": [
      "0.9815400000000001 0.0011107554986484476\n"
     ]
    }
   ],
   "source": [
    "# MNIST\n",
    "PATH = \"./wandb_classification_CCL_0502.csv\"\n",
    "dataset = pd.read_csv(PATH)\n",
    "ds = dataset[dataset[\"dataset\"] == \"MNIST\"]\n",
    "# del ds[\"Runtime\"]\n",
    "ds = ds[ds.grad_clip_B == 1]\n",
    "ds = ds[ds.grad_clip_F == 1]\n",
    "ds = ds[ds.lr_B == 2]\n",
    "ds = ds[ds.lr_F == 2]\n",
    "ds = ds[ds.epochs == 100]\n",
    "ds = ds[~ds.duplicated()]\n",
    "ds = ds.dropna()\n",
    "print(ds.test_acc.mean(), ds.test_acc.std())"
   ]
  },
  {
   "cell_type": "code",
   "execution_count": 24,
   "id": "0974502c-6410-475d-a191-b439fa0d4acc",
   "metadata": {
    "tags": []
   },
   "outputs": [
    {
     "name": "stdout",
     "output_type": "stream",
     "text": [
      "0.879975 0.004778149671757301\n"
     ]
    }
   ],
   "source": [
    "# MNIST\n",
    "PATH = \"./wandb_classification_CCL_0502.csv\"\n",
    "dataset = pd.read_csv(PATH)\n",
    "ds = dataset[dataset[\"dataset\"] == \"FashionMNIST\"]\n",
    "# del ds[\"Runtime\"]\n",
    "ds = ds[ds.grad_clip_B == 1]\n",
    "ds = ds[ds.grad_clip_F == 1]\n",
    "ds = ds[ds.lr_B == 2]\n",
    "ds = ds[ds.lr_F == 2]\n",
    "ds = ds[ds.epochs == 100]\n",
    "ds = ds[~ds.duplicated()]\n",
    "ds = ds.dropna()\n",
    "print(ds.test_acc.mean(), ds.test_acc.std())"
   ]
  },
  {
   "cell_type": "code",
   "execution_count": 40,
   "id": "2153c396-8eb2-4e99-bd66-b2b65dd6f881",
   "metadata": {
    "tags": []
   },
   "outputs": [
    {
     "name": "stdout",
     "output_type": "stream",
     "text": [
      "0.5212999999999999 0.0021319005605327707\n"
     ]
    }
   ],
   "source": [
    "# MNIST\n",
    "PATH = \"./wandb_classification_CCL_0502.csv\"\n",
    "dataset = pd.read_csv(PATH)\n",
    "ds = dataset[dataset[\"dataset\"] == \"CIFAR10\"]\n",
    "# del ds[\"Runtime\"]\n",
    "ds = ds[ds.grad_clip_B == 1]\n",
    "ds = ds[ds.grad_clip_F == 1]\n",
    "ds = ds[ds.lr_B == 0.5]\n",
    "ds = ds[ds.lr_F == 0.5]\n",
    "ds = ds[ds.epochs == 100]\n",
    "ds = ds[~ds.duplicated(subset=[\"dataset\",\"act_B\",\"grad_clip_B\",\"seed\",\"lr_B\",\"lr_F\"])]\n",
    "ds = ds.dropna()\n",
    "print(ds.test_acc.mean(), ds.test_acc.std())"
   ]
  },
  {
   "cell_type": "code",
   "execution_count": 47,
   "id": "1c3cb93e-cb13-4c55-a391-64556d79f6dd",
   "metadata": {
    "tags": []
   },
   "outputs": [
    {
     "name": "stdout",
     "output_type": "stream",
     "text": [
      "0.21653333333333333 0.0014571661996262998\n"
     ]
    }
   ],
   "source": [
    "# MNIST\n",
    "PATH = \"./wandb_classification_CCL_0502.csv\"\n",
    "dataset = pd.read_csv(PATH)\n",
    "ds = dataset[dataset[\"dataset\"] == \"CIFAR100\"]\n",
    "# del ds[\"Runtime\"]\n",
    "ds = ds[ds.grad_clip_B == 1]\n",
    "ds = ds[ds.grad_clip_F == 1]\n",
    "ds = ds[ds.lr_B == 4]\n",
    "ds = ds[ds.lr_F == 4]\n",
    "ds = ds[ds.epochs == 100]\n",
    "ds = ds[~ds.duplicated(subset=[\"dataset\",\"act_B\",\"grad_clip_B\",\"seed\",\"lr_B\",\"lr_F\"])]\n",
    "ds = ds.dropna()\n",
    "print(ds.test_acc.mean(), ds.test_acc.std())"
   ]
  },
  {
   "cell_type": "code",
   "execution_count": null,
   "id": "a05c9ba2-b5f1-4c16-b0ef-1600f9102277",
   "metadata": {},
   "outputs": [],
   "source": []
  },
  {
   "cell_type": "code",
   "execution_count": null,
   "id": "2734355b-8b3a-4575-bc4b-afe1ed0cd8fc",
   "metadata": {},
   "outputs": [],
   "source": []
  }
 ],
 "metadata": {
  "kernelspec": {
   "display_name": "Python 3 (ipykernel)",
   "language": "python",
   "name": "python3"
  },
  "language_info": {
   "codemirror_mode": {
    "name": "ipython",
    "version": 3
   },
   "file_extension": ".py",
   "mimetype": "text/x-python",
   "name": "python",
   "nbconvert_exporter": "python",
   "pygments_lexer": "ipython3",
   "version": "3.11.4"
  }
 },
 "nbformat": 4,
 "nbformat_minor": 5
}
